{
 "cells": [
  {
   "cell_type": "code",
   "execution_count": 1,
   "id": "303c55a7-83b9-41cf-9281-05947572d3bb",
   "metadata": {},
   "outputs": [],
   "source": [
    "a = 1"
   ]
  },
  {
   "cell_type": "code",
   "execution_count": 2,
   "id": "5c866d22-6e5b-45c3-814c-db51889f28a5",
   "metadata": {},
   "outputs": [
    {
     "name": "stdout",
     "output_type": "stream",
     "text": [
      "<class 'int'>\n"
     ]
    }
   ],
   "source": [
    "print(type(a))"
   ]
  },
  {
   "cell_type": "code",
   "execution_count": 4,
   "id": "fa1d1f45-fbce-4f43-bb4e-6e548814ec01",
   "metadata": {},
   "outputs": [
    {
     "name": "stdout",
     "output_type": "stream",
     "text": [
      "<class 'str'>\n"
     ]
    }
   ],
   "source": [
    "print(type(\"pwskills\"))"
   ]
  },
  {
   "cell_type": "markdown",
   "id": "4281911d-686c-4060-aebc-52f6fdaaf079",
   "metadata": {},
   "source": [
    "#### Here we are seeing 'class' for  every 'type' function"
   ]
  },
  {
   "cell_type": "markdown",
   "id": "e081e0f7-e26c-4121-b607-97df2e932671",
   "metadata": {},
   "source": [
    "#### 'Class' is a blueprint or a classification of a real world object. This is the first concept of OOPs which is important and the other concept is 'Objects'\n",
    "\n",
    "##### Ex - When there are multiple cars in a same place and we ask someone to go to the car but that person doesn't know any specifications about the car. But when we tell the specifications about the car, he or she will identify it. So, this car is a 'CLASS'"
   ]
  },
  {
   "cell_type": "markdown",
   "id": "021a1faa-3f48-4fb8-be99-a36da11831da",
   "metadata": {},
   "source": [
    "#### Q- Why do we use class?"
   ]
  },
  {
   "cell_type": "markdown",
   "id": "b9bb3633-0a0a-4aac-b836-4a6f706ad88d",
   "metadata": {},
   "source": [
    "#### Q- Why are we using OOPS Concept?"
   ]
  },
  {
   "cell_type": "markdown",
   "id": "f0f31c19-bea3-4f46-8676-a38f321478f2",
   "metadata": {},
   "source": [
    "##### When working to create a project , we have multiple sections, Frontend, Backend, Database etc.. To keep all the sections seperate , we use different modules to create each section and keep the code clean and interactive with other modules. Here comes the concept of OOPS - Class , Object etc..\n",
    "\n",
    "####  For each section, we will have a seperate class"
   ]
  },
  {
   "cell_type": "code",
   "execution_count": 6,
   "id": "42cda0ba-2a70-4551-bb87-6c89df9377db",
   "metadata": {},
   "outputs": [],
   "source": [
    "## How we will create a class"
   ]
  },
  {
   "cell_type": "code",
   "execution_count": 7,
   "id": "ddb72bc5-94fa-468d-a8d1-ebae7c31ffe9",
   "metadata": {},
   "outputs": [],
   "source": [
    "class test:\n",
    "    pass"
   ]
  },
  {
   "cell_type": "code",
   "execution_count": 8,
   "id": "082fa6e9-27f5-4ace-80af-e8845bf864d2",
   "metadata": {},
   "outputs": [],
   "source": [
    "# How to create a variable for a class - Storing a class into a variable"
   ]
  },
  {
   "cell_type": "code",
   "execution_count": 9,
   "id": "d44ce5b2-1efd-4915-9d6d-8fde5096a76e",
   "metadata": {},
   "outputs": [],
   "source": [
    "a = test()"
   ]
  },
  {
   "cell_type": "code",
   "execution_count": 10,
   "id": "fbb0f68c-6e50-40ba-b0fa-002eb081c908",
   "metadata": {},
   "outputs": [
    {
     "data": {
      "text/plain": [
       "__main__.test"
      ]
     },
     "execution_count": 10,
     "metadata": {},
     "output_type": "execute_result"
    }
   ],
   "source": [
    "type(a)"
   ]
  },
  {
   "cell_type": "code",
   "execution_count": 11,
   "id": "5f48cd3a-d327-4319-8e73-1ccb60213de1",
   "metadata": {},
   "outputs": [
    {
     "name": "stdout",
     "output_type": "stream",
     "text": [
      "<class '__main__.test'>\n"
     ]
    }
   ],
   "source": [
    "print(type(a))\n",
    "# a belongs to the class named test and 'a' is a real world object\n",
    "# It can be called as an instance of the class test or variable of the class test or object of the class test"
   ]
  },
  {
   "cell_type": "code",
   "execution_count": 13,
   "id": "aa70608c-4f32-4e32-b1fd-bb85784fc8b6",
   "metadata": {},
   "outputs": [],
   "source": [
    "class pwskills:\n",
    "    def welcome_msg():\n",
    "        print(\"welcome to pwskills\")"
   ]
  },
  {
   "cell_type": "code",
   "execution_count": 17,
   "id": "c8a218ab-20d3-47bc-a21b-60101cf7e348",
   "metadata": {},
   "outputs": [],
   "source": [
    "class pwskills:\n",
    "    def welcome_msg(self):\n",
    "        print(\"welcome to pwskills\")"
   ]
  },
  {
   "cell_type": "code",
   "execution_count": 18,
   "id": "c609b1a1-953e-43c4-ac91-7bf9083ef9b4",
   "metadata": {},
   "outputs": [],
   "source": [
    "rohan = pwskills()"
   ]
  },
  {
   "cell_type": "code",
   "execution_count": 16,
   "id": "6f184d14-1197-4abd-86fd-e5dc0f57c7e5",
   "metadata": {},
   "outputs": [
    {
     "ename": "TypeError",
     "evalue": "pwskills.welcome_msg() takes 0 positional arguments but 1 was given",
     "output_type": "error",
     "traceback": [
      "\u001b[0;31m---------------------------------------------------------------------------\u001b[0m",
      "\u001b[0;31mTypeError\u001b[0m                                 Traceback (most recent call last)",
      "Cell \u001b[0;32mIn[16], line 1\u001b[0m\n\u001b[0;32m----> 1\u001b[0m \u001b[43mrohan\u001b[49m\u001b[38;5;241;43m.\u001b[39;49m\u001b[43mwelcome_msg\u001b[49m\u001b[43m(\u001b[49m\u001b[43m)\u001b[49m\n",
      "\u001b[0;31mTypeError\u001b[0m: pwskills.welcome_msg() takes 0 positional arguments but 1 was given"
     ]
    }
   ],
   "source": [
    "rohan.welcome_msg()"
   ]
  },
  {
   "cell_type": "code",
   "execution_count": 19,
   "id": "24e7eaa4-5911-40f9-a104-a638a520229c",
   "metadata": {},
   "outputs": [
    {
     "name": "stdout",
     "output_type": "stream",
     "text": [
      "welcome to pwskills\n"
     ]
    }
   ],
   "source": [
    "rohan.welcome_msg()"
   ]
  },
  {
   "cell_type": "markdown",
   "id": "06286105-61d9-4d7c-8216-c9b0cd64ee9c",
   "metadata": {},
   "source": [
    "#### Important - Whenever creating a function inside a variable always write 'Self' inside parenthesis because it helps the class to identify its functions and will show the value correctly when the variable will call the function"
   ]
  },
  {
   "cell_type": "code",
   "execution_count": 20,
   "id": "5cbd6895-1bb3-4234-a2ba-4852af72b3d6",
   "metadata": {},
   "outputs": [
    {
     "name": "stdout",
     "output_type": "stream",
     "text": [
      "welcome to pwskills\n"
     ]
    }
   ],
   "source": [
    "sohan = pwskills()\n",
    "sohan.welcome_msg()"
   ]
  },
  {
   "cell_type": "markdown",
   "id": "e0d8b7cc-4346-4e3c-aaf9-1c7c212f7043",
   "metadata": {},
   "source": [
    "#### We can create n number of the variables to store the class."
   ]
  },
  {
   "cell_type": "code",
   "execution_count": 21,
   "id": "2c736a9b-88f2-46bf-8054-4b7107a78f23",
   "metadata": {},
   "outputs": [],
   "source": [
    "a = 1\n",
    "b = 2\n",
    "c = 3\n",
    "# all the three variables are of integer class similarly Rohan and Sohan are of pwskills() class"
   ]
  },
  {
   "cell_type": "markdown",
   "id": "244f6dac-ca6f-4554-b702-45bccc26ce98",
   "metadata": {},
   "source": [
    "#### Class take data as an input and give O/P as per the given input. \n",
    "#### Process of taking or assigning values when an object of the class is created - Constructor do this work"
   ]
  },
  {
   "cell_type": "code",
   "execution_count": 22,
   "id": "cb844ad4-da07-4330-a12a-0247c5c9cdca",
   "metadata": {},
   "outputs": [],
   "source": [
    "# Above mentioned a, b, c objects is of integer class\n",
    "#Similarly we want to create objects which return values"
   ]
  },
  {
   "cell_type": "code",
   "execution_count": 29,
   "id": "e2e3277d-dc26-44d9-858d-80c193f9a044",
   "metadata": {},
   "outputs": [],
   "source": [
    "class pwskills1:\n",
    "    def __init__(self,phone_number,email_id,student_id):\n",
    "        self.phone_number = phone_number\n",
    "        self.email_id = email_id\n",
    "        self.student_id = student_id\n",
    "        \n",
    "    def return_student_details(self):\n",
    "        return self.phone_number,self.email_id,self.student_id"
   ]
  },
  {
   "cell_type": "markdown",
   "id": "c8a7a42f-eade-4087-9a2c-62750d1f7f62",
   "metadata": {},
   "source": [
    "###  __init__ is a constructor in python.. in the first section of above code we have created a constructor to store the data in the class while creating an object"
   ]
  },
  {
   "cell_type": "code",
   "execution_count": 30,
   "id": "ee8667bc-9e8c-49a1-a3e8-4416eb7ee039",
   "metadata": {},
   "outputs": [
    {
     "ename": "TypeError",
     "evalue": "pwskills1.__init__() missing 3 required positional arguments: 'phone_number', 'email_id', and 'student_id'",
     "output_type": "error",
     "traceback": [
      "\u001b[0;31m---------------------------------------------------------------------------\u001b[0m",
      "\u001b[0;31mTypeError\u001b[0m                                 Traceback (most recent call last)",
      "Cell \u001b[0;32mIn[30], line 1\u001b[0m\n\u001b[0;32m----> 1\u001b[0m rohan \u001b[38;5;241m=\u001b[39m \u001b[43mpwskills1\u001b[49m\u001b[43m(\u001b[49m\u001b[43m)\u001b[49m\n",
      "\u001b[0;31mTypeError\u001b[0m: pwskills1.__init__() missing 3 required positional arguments: 'phone_number', 'email_id', and 'student_id'"
     ]
    }
   ],
   "source": [
    "rohan = pwskills1()"
   ]
  },
  {
   "cell_type": "code",
   "execution_count": 25,
   "id": "e3c271cd-43f5-4f06-87e0-fe04cb67ccac",
   "metadata": {},
   "outputs": [],
   "source": [
    "# we have not defined the given data while storing the class"
   ]
  },
  {
   "cell_type": "code",
   "execution_count": 31,
   "id": "c8a67b52-dd50-4066-853b-c4311f734368",
   "metadata": {},
   "outputs": [],
   "source": [
    "rohan = pwskills1(122334,\"rohan@gmail.com\",102)"
   ]
  },
  {
   "cell_type": "markdown",
   "id": "c2b3f703-5b2e-452d-b1a2-dfe614ccf9cf",
   "metadata": {},
   "source": [
    "#### To fetch a variable which is created inside a class and needs to be fetched inside the class, we have to use 'Self. variable name'\n",
    "#### To fetch variable outside class we will use 'objectname(variable).data(variable)"
   ]
  },
  {
   "cell_type": "code",
   "execution_count": 32,
   "id": "43f3eb20-7b48-44ed-b52d-ee06b1e1fe28",
   "metadata": {},
   "outputs": [
    {
     "data": {
      "text/plain": [
       "122334"
      ]
     },
     "execution_count": 32,
     "metadata": {},
     "output_type": "execute_result"
    }
   ],
   "source": [
    "#Fetching varibale outside\n",
    "rohan.phone_number"
   ]
  },
  {
   "cell_type": "code",
   "execution_count": 33,
   "id": "5e64f798-a5eb-4df1-b562-a6151c0b5ed5",
   "metadata": {},
   "outputs": [
    {
     "data": {
      "text/plain": [
       "'rohan@gmail.com'"
      ]
     },
     "execution_count": 33,
     "metadata": {},
     "output_type": "execute_result"
    }
   ],
   "source": [
    "rohan.email_id"
   ]
  },
  {
   "cell_type": "code",
   "execution_count": 34,
   "id": "ef9e6bf7-207f-4112-8bdc-76a2ea09d633",
   "metadata": {},
   "outputs": [
    {
     "data": {
      "text/plain": [
       "102"
      ]
     },
     "execution_count": 34,
     "metadata": {},
     "output_type": "execute_result"
    }
   ],
   "source": [
    "rohan.student_id"
   ]
  },
  {
   "cell_type": "code",
   "execution_count": 35,
   "id": "b9593ba0-a81d-4d88-9444-60546416d248",
   "metadata": {},
   "outputs": [
    {
     "data": {
      "text/plain": [
       "(122334, 'rohan@gmail.com', 102)"
      ]
     },
     "execution_count": 35,
     "metadata": {},
     "output_type": "execute_result"
    }
   ],
   "source": [
    "# Accesss function\n",
    "rohan.return_student_details()"
   ]
  },
  {
   "cell_type": "code",
   "execution_count": 36,
   "id": "73f3fc46-0679-4fb4-b389-610e3eb79c0e",
   "metadata": {},
   "outputs": [],
   "source": [
    "sohan = pwskills1(838347485,\"sohan@gmail.com\",103)"
   ]
  },
  {
   "cell_type": "code",
   "execution_count": 37,
   "id": "7cca79a8-f05b-455d-a24e-4d1df5635866",
   "metadata": {},
   "outputs": [
    {
     "data": {
      "text/plain": [
       "838347485"
      ]
     },
     "execution_count": 37,
     "metadata": {},
     "output_type": "execute_result"
    }
   ],
   "source": [
    "sohan.phone_number"
   ]
  },
  {
   "cell_type": "code",
   "execution_count": 38,
   "id": "4cf3a758-0912-42bc-989d-5b934019fd13",
   "metadata": {},
   "outputs": [
    {
     "data": {
      "text/plain": [
       "'sohan@gmail.com'"
      ]
     },
     "execution_count": 38,
     "metadata": {},
     "output_type": "execute_result"
    }
   ],
   "source": [
    "sohan.email_id"
   ]
  },
  {
   "cell_type": "code",
   "execution_count": 39,
   "id": "c507468a-ac5c-4107-a561-971abc8a9fb2",
   "metadata": {},
   "outputs": [],
   "source": [
    "class pwskills2:\n",
    "    def __init__(sudh,phone_number,email_id,student_id):\n",
    "        sudh.phone_number = phone_number\n",
    "        sudh.email_id = email_id\n",
    "        sudh.student_id = student_id\n",
    "        \n",
    "    def return_student_details(sudh):\n",
    "        return sudh.phone_number,sudh.email_id,sudh.student_id"
   ]
  },
  {
   "cell_type": "code",
   "execution_count": 40,
   "id": "21679286-f333-4c93-897d-99b37d7dcf1d",
   "metadata": {},
   "outputs": [],
   "source": [
    "mohan = pwskills2(883584485,\"mohan@gmail.com\",104)"
   ]
  },
  {
   "cell_type": "code",
   "execution_count": 41,
   "id": "41ef665b-4a6d-4b8f-ac54-0b89c4f184b2",
   "metadata": {},
   "outputs": [
    {
     "data": {
      "text/plain": [
       "883584485"
      ]
     },
     "execution_count": 41,
     "metadata": {},
     "output_type": "execute_result"
    }
   ],
   "source": [
    "mohan.phone_number"
   ]
  },
  {
   "cell_type": "markdown",
   "id": "1e7a9d35-3c17-411d-b850-efadf716776c",
   "metadata": {},
   "source": [
    "### Important : 'Self' is not a keyword, we can take any name inplace of it but something must be defined."
   ]
  },
  {
   "cell_type": "code",
   "execution_count": 42,
   "id": "8677b766-4df8-4815-827c-8706729efae0",
   "metadata": {},
   "outputs": [
    {
     "data": {
      "text/plain": [
       "(883584485, 'mohan@gmail.com', 104)"
      ]
     },
     "execution_count": 42,
     "metadata": {},
     "output_type": "execute_result"
    }
   ],
   "source": [
    "mohan.return_student_details()"
   ]
  },
  {
   "cell_type": "code",
   "execution_count": 43,
   "id": "0b598a8d-a997-444e-8b46-91762e48e186",
   "metadata": {},
   "outputs": [],
   "source": [
    "class pwskills3:\n",
    "    def __init__(sudh,phone_number,email_id,student_id):\n",
    "        sudh.phone_number = phone_number\n",
    "        sudh.email_id = email_id\n",
    "        sudh.student_id = student_id\n",
    "        \n",
    "    def return_student_details(sudh):\n",
    "        return sudh.phone_number,sudh.email_id,sudh.student_id"
   ]
  },
  {
   "cell_type": "code",
   "execution_count": 44,
   "id": "29ca0c01-1c3d-48af-9234-4a7a7204111b",
   "metadata": {},
   "outputs": [],
   "source": [
    "rohan = pwskills3(324355,\"rohan@gmail.com\",105)"
   ]
  },
  {
   "cell_type": "code",
   "execution_count": 45,
   "id": "895cf543-949c-4248-899d-d00c63625fac",
   "metadata": {},
   "outputs": [
    {
     "data": {
      "text/plain": [
       "324355"
      ]
     },
     "execution_count": 45,
     "metadata": {},
     "output_type": "execute_result"
    }
   ],
   "source": [
    "rohan.phone_number"
   ]
  },
  {
   "cell_type": "code",
   "execution_count": 46,
   "id": "b4f33d1d-d7b5-415c-9f99-d6b75590694b",
   "metadata": {},
   "outputs": [],
   "source": [
    "class pwskills3:\n",
    "    def __init__(sudh,phone_number,email_id,student_id):\n",
    "        sudh.phone_number1 = phone_number\n",
    "        sudh.email_id = email_id\n",
    "        sudh.student_id = student_id\n",
    "        \n",
    "    def return_student_details(sudh):\n",
    "        return sudh.phone_number,sudh.email_id,sudh.student_id"
   ]
  },
  {
   "cell_type": "code",
   "execution_count": 51,
   "id": "540f5d1e-6eff-4626-bd75-ad8b653dcd56",
   "metadata": {},
   "outputs": [],
   "source": [
    "rohan = pwskills3(324355,\"rohan@gmail.com\",105) \n",
    "# Assigning value to the constructor while creating an object"
   ]
  },
  {
   "cell_type": "code",
   "execution_count": 48,
   "id": "0f05bfdb-b43d-4f8f-bc59-6ae15e2beaee",
   "metadata": {},
   "outputs": [
    {
     "ename": "AttributeError",
     "evalue": "'pwskills3' object has no attribute 'phone_number'",
     "output_type": "error",
     "traceback": [
      "\u001b[0;31m---------------------------------------------------------------------------\u001b[0m",
      "\u001b[0;31mAttributeError\u001b[0m                            Traceback (most recent call last)",
      "Cell \u001b[0;32mIn[48], line 1\u001b[0m\n\u001b[0;32m----> 1\u001b[0m \u001b[43mrohan\u001b[49m\u001b[38;5;241;43m.\u001b[39;49m\u001b[43mphone_number\u001b[49m\n",
      "\u001b[0;31mAttributeError\u001b[0m: 'pwskills3' object has no attribute 'phone_number'"
     ]
    }
   ],
   "source": [
    "rohan.phone_number"
   ]
  },
  {
   "cell_type": "markdown",
   "id": "a3262a4b-fcc0-430d-994a-4da428b86687",
   "metadata": {},
   "source": [
    "#### it is throwing an error because 'phone_number1' is not associated with the constructor and class with the help of 'Sudh', it is a new variable"
   ]
  },
  {
   "cell_type": "code",
   "execution_count": 50,
   "id": "2dc0d224-216a-4b0b-b752-741d3a6bbd0b",
   "metadata": {},
   "outputs": [
    {
     "ename": "AttributeError",
     "evalue": "'pwskills3' object has no attribute 'phone_number'",
     "output_type": "error",
     "traceback": [
      "\u001b[0;31m---------------------------------------------------------------------------\u001b[0m",
      "\u001b[0;31mAttributeError\u001b[0m                            Traceback (most recent call last)",
      "Cell \u001b[0;32mIn[50], line 1\u001b[0m\n\u001b[0;32m----> 1\u001b[0m \u001b[43mrohan\u001b[49m\u001b[38;5;241;43m.\u001b[39;49m\u001b[43mreturn_student_details\u001b[49m\u001b[43m(\u001b[49m\u001b[43m)\u001b[49m\n",
      "Cell \u001b[0;32mIn[46], line 8\u001b[0m, in \u001b[0;36mpwskills3.return_student_details\u001b[0;34m(sudh)\u001b[0m\n\u001b[1;32m      7\u001b[0m \u001b[38;5;28;01mdef\u001b[39;00m \u001b[38;5;21mreturn_student_details\u001b[39m(sudh):\n\u001b[0;32m----> 8\u001b[0m     \u001b[38;5;28;01mreturn\u001b[39;00m \u001b[43msudh\u001b[49m\u001b[38;5;241;43m.\u001b[39;49m\u001b[43mphone_number\u001b[49m,sudh\u001b[38;5;241m.\u001b[39memail_id,sudh\u001b[38;5;241m.\u001b[39mstudent_id\n",
      "\u001b[0;31mAttributeError\u001b[0m: 'pwskills3' object has no attribute 'phone_number'"
     ]
    }
   ],
   "source": [
    "rohan.return_student_details()"
   ]
  },
  {
   "cell_type": "markdown",
   "id": "1cdc7efb-505d-4e81-bf70-2961f3a7b1ab",
   "metadata": {},
   "source": [
    "#### Benefits of using a class :\n",
    "#### 1- it increases code reusability\n",
    "#### 2- it increases modularity\n",
    "#### 3- It helps in keeping the code clean\n",
    "### So, whenever we create a prohject, we follow OOPS approach"
   ]
  },
  {
   "cell_type": "code",
   "execution_count": null,
   "id": "95cabbf1-2eb8-4cdf-9feb-ded79a42e49e",
   "metadata": {},
   "outputs": [],
   "source": []
  }
 ],
 "metadata": {
  "kernelspec": {
   "display_name": "Python 3 (ipykernel)",
   "language": "python",
   "name": "python3"
  },
  "language_info": {
   "codemirror_mode": {
    "name": "ipython",
    "version": 3
   },
   "file_extension": ".py",
   "mimetype": "text/x-python",
   "name": "python",
   "nbconvert_exporter": "python",
   "pygments_lexer": "ipython3",
   "version": "3.10.8"
  }
 },
 "nbformat": 4,
 "nbformat_minor": 5
}
