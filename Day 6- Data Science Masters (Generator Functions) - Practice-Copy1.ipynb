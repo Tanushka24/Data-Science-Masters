{
 "cells": [
  {
   "cell_type": "code",
   "execution_count": 1,
   "id": "d38c28b5-7437-475c-bb82-b091531b76dd",
   "metadata": {},
   "outputs": [
    {
     "data": {
      "text/plain": [
       "range(1, 10)"
      ]
     },
     "execution_count": 1,
     "metadata": {},
     "output_type": "execute_result"
    }
   ],
   "source": [
    "range(1,10)"
   ]
  },
  {
   "cell_type": "code",
   "execution_count": 2,
   "id": "21ff272e-e84d-4ec6-9dd3-440cb8f09df8",
   "metadata": {},
   "outputs": [
    {
     "name": "stdout",
     "output_type": "stream",
     "text": [
      "1\n",
      "2\n",
      "3\n",
      "4\n",
      "5\n",
      "6\n",
      "7\n",
      "8\n",
      "9\n"
     ]
    }
   ],
   "source": [
    "for i in range(1,10):\n",
    "    print(i)"
   ]
  },
  {
   "cell_type": "raw",
   "id": "d660aefb-59cf-40ab-bfde-38b3c3e696aa",
   "metadata": {},
   "source": [
    "# Range is a function which works only it is called inside a for loop"
   ]
  },
  {
   "cell_type": "code",
   "execution_count": 8,
   "id": "726e86f8-01d6-48b7-8c35-b019e3a947d4",
   "metadata": {},
   "outputs": [],
   "source": [
    "l = [1,2,3,5,66,7,7,8,4,\"sudh\",\"kumar\"]"
   ]
  },
  {
   "cell_type": "raw",
   "id": "da6970fb-387a-4026-af5a-261ed464a342",
   "metadata": {},
   "source": [
    "Q- Create a function to pull only integer values in the form of list"
   ]
  },
  {
   "cell_type": "code",
   "execution_count": 11,
   "id": "baf6a564-8c26-409c-8b71-a34825a66af8",
   "metadata": {},
   "outputs": [],
   "source": [
    "def fun1(a):\n",
    "    l = []\n",
    "    for i in a:\n",
    "        if type(i) == int or type(i) == float:\n",
    "            l.append(i)\n",
    "    return l"
   ]
  },
  {
   "cell_type": "code",
   "execution_count": 12,
   "id": "36204e59-4a30-4ee6-81ec-c4e729ed1347",
   "metadata": {},
   "outputs": [
    {
     "data": {
      "text/plain": [
       "[1, 2, 3, 5, 66, 7, 7, 8, 4]"
      ]
     },
     "execution_count": 12,
     "metadata": {},
     "output_type": "execute_result"
    }
   ],
   "source": [
    "fun1(l)"
   ]
  },
  {
   "cell_type": "raw",
   "id": "29121d8e-3075-4cd7-9a90-2b4c4b38f80c",
   "metadata": {},
   "source": [
    "Scenario issue:\n",
    "If the list or input argument is too big(million) and increasing continuosly, so it will be an infinite loop, as it firsts reads the input(take the data) then the function runs, this will make the function to get stuck pr give o/p very late.\n",
    "It blocks the memory of the system"
   ]
  },
  {
   "cell_type": "raw",
   "id": "9ade5ff0-575a-4166-aaa2-3d17746abc0a",
   "metadata": {},
   "source": [
    "Solution Example:\n",
    "Range is a function which doesn't block the memory or store the whole data at once. It reads a data then print the O/P, then reads another data print the O/p as per the previous O/p and so on. It doesn't remember the whole to process it at once\n",
    "\n",
    "Range is a kind of Generator function"
   ]
  },
  {
   "cell_type": "raw",
   "id": "f3eb8ae6-ea65-4cf4-b16c-78597a2e9de5",
   "metadata": {},
   "source": [
    "To create a generator function like 'Range', we use a keyword called 'Yield'"
   ]
  },
  {
   "cell_type": "code",
   "execution_count": 13,
   "id": "1e81ee40-5070-4336-b85b-0bd00a3c7e43",
   "metadata": {},
   "outputs": [],
   "source": [
    "#Fibbonaci Series"
   ]
  },
  {
   "cell_type": "code",
   "execution_count": 14,
   "id": "189a3efd-a10c-40ff-8422-84f6f80affec",
   "metadata": {},
   "outputs": [
    {
     "data": {
      "text/plain": [
       "(0, 1, 1, 2, 3, 5, 8, 13, 21, 34)"
      ]
     },
     "execution_count": 14,
     "metadata": {},
     "output_type": "execute_result"
    }
   ],
   "source": [
    "0,1,1,2,3,5,8,13,21,34\n",
    "# we can't do it with the help of first method"
   ]
  },
  {
   "cell_type": "code",
   "execution_count": 22,
   "id": "483cdb9a-df19-4a2a-a6ab-b67ddbd117f3",
   "metadata": {},
   "outputs": [],
   "source": [
    "def fib(n):\n",
    "    a=0\n",
    "    b=1\n",
    "    for i in range(n):\n",
    "        yield a\n",
    "        a = b\n",
    "        b = a+b\n",
    "        \n",
    "    "
   ]
  },
  {
   "cell_type": "code",
   "execution_count": 16,
   "id": "15989ccb-be2b-4539-9f67-3965f9a65575",
   "metadata": {},
   "outputs": [
    {
     "data": {
      "text/plain": [
       "<generator object fib at 0x7f74a03595b0>"
      ]
     },
     "execution_count": 16,
     "metadata": {},
     "output_type": "execute_result"
    }
   ],
   "source": [
    "fib(10)\n",
    "#its giving O/P as an object as it is generator function and will give O/P with for loop"
   ]
  },
  {
   "cell_type": "code",
   "execution_count": 23,
   "id": "faef96fb-fea5-4152-bfc9-07583adc8628",
   "metadata": {},
   "outputs": [
    {
     "name": "stdout",
     "output_type": "stream",
     "text": [
      "0\n",
      "1\n",
      "2\n",
      "4\n",
      "8\n",
      "16\n",
      "32\n",
      "64\n",
      "128\n",
      "256\n"
     ]
    }
   ],
   "source": [
    "for i in fib(10):\n",
    "    print(i)"
   ]
  },
  {
   "cell_type": "code",
   "execution_count": 20,
   "id": "26827d00-b7ce-4568-b27f-7431b229fc87",
   "metadata": {},
   "outputs": [],
   "source": [
    "def fib1(n):\n",
    "    a,b = 0,1\n",
    "    for i in range(n):\n",
    "        yield a\n",
    "        a,b = b, a+b\n",
    "    "
   ]
  },
  {
   "cell_type": "code",
   "execution_count": 21,
   "id": "03490b15-4bcb-42d2-b8f5-12cc0aad8086",
   "metadata": {},
   "outputs": [
    {
     "name": "stdout",
     "output_type": "stream",
     "text": [
      "0\n",
      "1\n",
      "1\n",
      "2\n",
      "3\n",
      "5\n",
      "8\n",
      "13\n",
      "21\n",
      "34\n"
     ]
    }
   ],
   "source": [
    "for i in fib1(10):\n",
    "    print(i)"
   ]
  },
  {
   "cell_type": "raw",
   "id": "efa966a8-ccf1-40d6-bf9c-4895365c7e2b",
   "metadata": {},
   "source": [
    "# In the above generator function, we are using yield function to pause the execution and print the current read i/p then move to another arg. This helps to reduce the memory load and give the O/p to the user quickly"
   ]
  }
 ],
 "metadata": {
  "kernelspec": {
   "display_name": "Python 3 (ipykernel)",
   "language": "python",
   "name": "python3"
  },
  "language_info": {
   "codemirror_mode": {
    "name": "ipython",
    "version": 3
   },
   "file_extension": ".py",
   "mimetype": "text/x-python",
   "name": "python",
   "nbconvert_exporter": "python",
   "pygments_lexer": "ipython3",
   "version": "3.10.8"
  }
 },
 "nbformat": 4,
 "nbformat_minor": 5
}
