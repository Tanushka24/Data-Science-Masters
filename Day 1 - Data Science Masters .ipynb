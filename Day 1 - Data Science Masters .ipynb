{
 "cells": [
  {
   "cell_type": "markdown",
   "id": "532199bc-9ff8-4789-923a-1cb548d2ac58",
   "metadata": {},
   "source": [
    "## INTRODUCTION TO DATASCIENCE"
   ]
  },
  {
   "cell_type": "code",
   "execution_count": 3,
   "id": "d15cee27-b0e9-4707-8ac2-af74ce406373",
   "metadata": {},
   "outputs": [],
   "source": [
    "a = 10"
   ]
  },
  {
   "cell_type": "markdown",
   "id": "c07c508c-b373-4065-8862-9b7c6d5636f6",
   "metadata": {},
   "source": [
    "a"
   ]
  },
  {
   "cell_type": "code",
   "execution_count": 1,
   "id": "53d0357d-3faf-4e74-8231-310ebe11e4ba",
   "metadata": {},
   "outputs": [
    {
     "data": {
      "text/plain": [
       "4"
      ]
     },
     "execution_count": 1,
     "metadata": {},
     "output_type": "execute_result"
    }
   ],
   "source": [
    "# this is a function\n",
    "a = 1+3\n",
    "a"
   ]
  },
  {
   "cell_type": "code",
   "execution_count": 2,
   "id": "3ba81fa6-a493-4109-a410-25605489a947",
   "metadata": {},
   "outputs": [
    {
     "data": {
      "text/plain": [
       "'\\nhello this is a new code\\nasjdjhfjfv\\nfhfgjmggltgogo\\nrgnj\\n\\n'"
      ]
     },
     "execution_count": 2,
     "metadata": {},
     "output_type": "execute_result"
    }
   ],
   "source": [
    "## Multiline comments\n",
    "'''\n",
    "hello this is a new code\n",
    "asjdjhfjfv\n",
    "fhfgjmggltgogo\n",
    "rgnj\n",
    "\n",
    "'''"
   ]
  },
  {
   "cell_type": "code",
   "execution_count": null,
   "id": "9c7b7006-abe1-4ff8-aeec-5b9e80a5b587",
   "metadata": {},
   "outputs": [],
   "source": [
    "# Markdown is used to write headers"
   ]
  },
  {
   "cell_type": "markdown",
   "id": "f91d9211-fb32-4536-b9b0-5acae763d6d2",
   "metadata": {},
   "source": [
    "# Hello\n",
    "## Hello 1"
   ]
  },
  {
   "cell_type": "raw",
   "id": "9695b38a-10d6-4a08-a3b3-88e55666a9d0",
   "metadata": {},
   "source": [
    "Using Raw function from top\n",
    "# hello"
   ]
  },
  {
   "cell_type": "raw",
   "id": "63afec4c-bdd7-4270-8538-50eef4e77ba2",
   "metadata": {},
   "source": [
    "a= 10\n",
    "a"
   ]
  },
  {
   "cell_type": "code",
   "execution_count": 4,
   "id": "54660815-ac00-425c-b855-c2ca8cba25e4",
   "metadata": {},
   "outputs": [],
   "source": [
    "#How to create multipls cells without clicking + sign\n",
    "##Answer - Click Esc + a"
   ]
  },
  {
   "cell_type": "markdown",
   "id": "12da0246-a3fc-4bb2-9ac4-f7438957b5e9",
   "metadata": {},
   "source": [
    "# Numbers"
   ]
  },
  {
   "cell_type": "code",
   "execution_count": 5,
   "id": "526face4-352c-40d0-a8d2-73b84b0c1ad9",
   "metadata": {},
   "outputs": [
    {
     "data": {
      "text/plain": [
       "4"
      ]
     },
     "execution_count": 5,
     "metadata": {},
     "output_type": "execute_result"
    }
   ],
   "source": [
    "# when we don't add print function in the code\n",
    "#It gives a different block and doesn't act like a op console\n",
    "1+3"
   ]
  },
  {
   "cell_type": "code",
   "execution_count": 7,
   "id": "a4c5fdf7-3e47-425e-9198-9d67fbdb7164",
   "metadata": {},
   "outputs": [
    {
     "name": "stdout",
     "output_type": "stream",
     "text": [
      "4\n"
     ]
    }
   ],
   "source": [
    "# when we don't add print function in the code\n",
    "# It act as an O/p console\n",
    "print(1+3)"
   ]
  },
  {
   "cell_type": "code",
   "execution_count": null,
   "id": "8d76d027-bf9f-44f7-bd4a-aee72849d14c",
   "metadata": {},
   "outputs": [],
   "source": [
    "#Shift Tab is used to know about the built in function"
   ]
  },
  {
   "cell_type": "code",
   "execution_count": 8,
   "id": "e2d618b6-bd28-4d91-96c5-f52bbf0d3eec",
   "metadata": {},
   "outputs": [
    {
     "name": "stdout",
     "output_type": "stream",
     "text": [
      "hello my name is anushka \n",
      " I am good\n"
     ]
    }
   ],
   "source": [
    "print( \"hello my name is anushka \\n I am good\") \n",
    "#This is double line statement, so using /n for three or more lines use ''')"
   ]
  },
  {
   "cell_type": "markdown",
   "id": "5d20017e-37fe-40b9-b8ba-6c81bc30e67a",
   "metadata": {},
   "source": [
    "# Variable Assignment"
   ]
  },
  {
   "cell_type": "code",
   "execution_count": 13,
   "id": "9b8cdc94-7754-4d74-bcb2-cc1bddd9d39a",
   "metadata": {},
   "outputs": [],
   "source": [
    "name = \"Anushka Tripathi\"\n",
    "Company_Domain = \"Product\""
   ]
  },
  {
   "cell_type": "code",
   "execution_count": 15,
   "id": "40f6ac29-43a0-4369-bf95-fce914471776",
   "metadata": {},
   "outputs": [
    {
     "data": {
      "text/plain": [
       "('Anushka Tripathi', 'Product')"
      ]
     },
     "execution_count": 15,
     "metadata": {},
     "output_type": "execute_result"
    }
   ],
   "source": [
    " name, Company_Domain"
   ]
  },
  {
   "cell_type": "code",
   "execution_count": 17,
   "id": "9d861901-633d-43f1-a15e-d00db7701f10",
   "metadata": {},
   "outputs": [
    {
     "data": {
      "text/plain": [
       "'monu'"
      ]
     },
     "execution_count": 17,
     "metadata": {},
     "output_type": "execute_result"
    }
   ],
   "source": [
    "name = \"monu\"\n",
    "name\n",
    "# value of the variable is replaced by new value"
   ]
  },
  {
   "cell_type": "markdown",
   "id": "02c97615-8bfb-42e4-913e-c39ad65749f1",
   "metadata": {},
   "source": [
    "## Type function"
   ]
  },
  {
   "cell_type": "code",
   "execution_count": 18,
   "id": "4ec1c2d6-9190-45b1-b23e-229eb4486937",
   "metadata": {},
   "outputs": [
    {
     "data": {
      "text/plain": [
       "str"
      ]
     },
     "execution_count": 18,
     "metadata": {},
     "output_type": "execute_result"
    }
   ],
   "source": [
    "type(' ')"
   ]
  },
  {
   "cell_type": "code",
   "execution_count": 19,
   "id": "9aeed935-d18c-4060-a1e7-6275a296c8ee",
   "metadata": {},
   "outputs": [
    {
     "data": {
      "text/plain": [
       "str"
      ]
     },
     "execution_count": 19,
     "metadata": {},
     "output_type": "execute_result"
    }
   ],
   "source": [
    "type(name)"
   ]
  },
  {
   "cell_type": "code",
   "execution_count": 20,
   "id": "4f4d3775-817d-44cc-9f33-a9e084c1b0e8",
   "metadata": {},
   "outputs": [],
   "source": [
    "decimal_num = 4.6"
   ]
  },
  {
   "cell_type": "code",
   "execution_count": 21,
   "id": "112abe65-96ea-40f9-ab75-df275e4e09a0",
   "metadata": {},
   "outputs": [
    {
     "data": {
      "text/plain": [
       "float"
      ]
     },
     "execution_count": 21,
     "metadata": {},
     "output_type": "execute_result"
    }
   ],
   "source": [
    "type(decimal_num)"
   ]
  },
  {
   "cell_type": "code",
   "execution_count": 22,
   "id": "283f424e-905c-4351-aefb-f234afcb8581",
   "metadata": {},
   "outputs": [],
   "source": [
    "#decimal_num(If you have created a variable and want to get it popped up automatically, write 1st two letters and then press tab)"
   ]
  },
  {
   "cell_type": "code",
   "execution_count": 23,
   "id": "2b17105b-f042-4aa6-a1e7-0f867ddb8f96",
   "metadata": {},
   "outputs": [
    {
     "data": {
      "text/plain": [
       "complex"
      ]
     },
     "execution_count": 23,
     "metadata": {},
     "output_type": "execute_result"
    }
   ],
   "source": [
    "type(1+2j)"
   ]
  },
  {
   "cell_type": "markdown",
   "id": "3c4336d7-c71d-462d-b7eb-b85522084a39",
   "metadata": {},
   "source": [
    "## How to write a variable name"
   ]
  },
  {
   "cell_type": "markdown",
   "id": "970cdae5-1c9d-43f6-af34-be1bb2344f1c",
   "metadata": {},
   "source": [
    "### Never use a number before varaible\n",
    "Ex : 1a\n",
    "2- number1 = 23 (right way)\n",
    " "
   ]
  },
  {
   "cell_type": "markdown",
   "id": "32c7548a-a72d-4ce3-a3dc-1078f53fd67e",
   "metadata": {},
   "source": [
    "### Variables are case sensitive\n",
    "company = 'ak'\n",
    "Company = 'Time'\n"
   ]
  },
  {
   "cell_type": "markdown",
   "id": "a6c3ca6e-e853-4966-a645-c759e0f756d0",
   "metadata": {},
   "source": [
    "## Reserved Keywords\n",
    "\n",
    "int, float, bool, len, complex, return, yield\n",
    "\n"
   ]
  },
  {
   "cell_type": "code",
   "execution_count": 27,
   "id": "e2b31a21-859a-4d68-a948-ffd5f3f946fc",
   "metadata": {},
   "outputs": [
    {
     "data": {
      "text/plain": [
       "False"
      ]
     },
     "execution_count": 27,
     "metadata": {},
     "output_type": "execute_result"
    }
   ],
   "source": [
    "True and False"
   ]
  },
  {
   "cell_type": "code",
   "execution_count": 29,
   "id": "cdcadad4-7d15-454b-951f-ef8ad451463b",
   "metadata": {},
   "outputs": [
    {
     "data": {
      "text/plain": [
       "True"
      ]
     },
     "execution_count": 29,
     "metadata": {},
     "output_type": "execute_result"
    }
   ],
   "source": [
    "True or False"
   ]
  },
  {
   "cell_type": "code",
   "execution_count": 31,
   "id": "056594b5-c443-4729-ac47-3381f82b70c6",
   "metadata": {},
   "outputs": [
    {
     "data": {
      "text/plain": [
       "True"
      ]
     },
     "execution_count": 31,
     "metadata": {},
     "output_type": "execute_result"
    }
   ],
   "source": [
    "not False"
   ]
  },
  {
   "cell_type": "code",
   "execution_count": 32,
   "id": "66fd8532-bc9f-462d-934e-a91e769c68a7",
   "metadata": {},
   "outputs": [
    {
     "data": {
      "text/plain": [
       "bool"
      ]
     },
     "execution_count": 32,
     "metadata": {},
     "output_type": "execute_result"
    }
   ],
   "source": [
    "type(not False)"
   ]
  },
  {
   "cell_type": "code",
   "execution_count": 33,
   "id": "186f8752-aecb-49b5-94e8-27da5717a171",
   "metadata": {},
   "outputs": [
    {
     "data": {
      "text/plain": [
       "False"
      ]
     },
     "execution_count": 33,
     "metadata": {},
     "output_type": "execute_result"
    }
   ],
   "source": [
    "#Type casting\n",
    "bool(0)"
   ]
  },
  {
   "cell_type": "code",
   "execution_count": 35,
   "id": "7b909a6e-2d07-4c63-acff-237853fcd485",
   "metadata": {},
   "outputs": [
    {
     "name": "stdout",
     "output_type": "stream",
     "text": [
      "True\n"
     ]
    }
   ],
   "source": [
    "if bool(a) == True :\n",
    "    print(True)"
   ]
  },
  {
   "cell_type": "code",
   "execution_count": 40,
   "id": "625c273b-8f31-4c1c-ae17-a25d6eb46da3",
   "metadata": {},
   "outputs": [
    {
     "data": {
      "text/plain": [
       "'23'"
      ]
     },
     "execution_count": 40,
     "metadata": {},
     "output_type": "execute_result"
    }
   ],
   "source": [
    "# Can we convert number to a string\n",
    "str(23)"
   ]
  },
  {
   "cell_type": "code",
   "execution_count": 41,
   "id": "57fd4c98-3f23-407e-9020-d5dac57d0885",
   "metadata": {},
   "outputs": [
    {
     "data": {
      "text/plain": [
       "23"
      ]
     },
     "execution_count": 41,
     "metadata": {},
     "output_type": "execute_result"
    }
   ],
   "source": [
    "int('23')"
   ]
  },
  {
   "cell_type": "code",
   "execution_count": 42,
   "id": "e53bd96e-d6b4-4095-b072-5154bdbbe83f",
   "metadata": {},
   "outputs": [
    {
     "data": {
      "text/plain": [
       "int"
      ]
     },
     "execution_count": 42,
     "metadata": {},
     "output_type": "execute_result"
    }
   ],
   "source": [
    "type(int('23'))"
   ]
  },
  {
   "cell_type": "code",
   "execution_count": 45,
   "id": "5e8e35e1-af92-4441-af65-505e218390bd",
   "metadata": {},
   "outputs": [
    {
     "ename": "ValueError",
     "evalue": "invalid literal for int() with base 10: 'abcd'",
     "output_type": "error",
     "traceback": [
      "\u001b[0;31m---------------------------------------------------------------------------\u001b[0m",
      "\u001b[0;31mValueError\u001b[0m                                Traceback (most recent call last)",
      "Cell \u001b[0;32mIn[45], line 1\u001b[0m\n\u001b[0;32m----> 1\u001b[0m \u001b[38;5;28;43mint\u001b[39;49m\u001b[43m(\u001b[49m\u001b[38;5;124;43m'\u001b[39;49m\u001b[38;5;124;43mabcd\u001b[39;49m\u001b[38;5;124;43m'\u001b[39;49m\u001b[43m)\u001b[49m\n",
      "\u001b[0;31mValueError\u001b[0m: invalid literal for int() with base 10: 'abcd'"
     ]
    }
   ],
   "source": [
    "int('abcd')"
   ]
  },
  {
   "cell_type": "code",
   "execution_count": 47,
   "id": "0ec05d55-0c92-4507-912c-915fe46da0f7",
   "metadata": {},
   "outputs": [
    {
     "data": {
      "text/plain": [
       "123"
      ]
     },
     "execution_count": 47,
     "metadata": {},
     "output_type": "execute_result"
    }
   ],
   "source": [
    "int('123')"
   ]
  },
  {
   "cell_type": "markdown",
   "id": "b9647a3b-09ed-421b-9564-f0e99bd2ebbd",
   "metadata": {},
   "source": [
    "## Dynamic Typing"
   ]
  },
  {
   "cell_type": "code",
   "execution_count": 43,
   "id": "7c394954-4dac-41c0-91c8-b724b10109e9",
   "metadata": {},
   "outputs": [],
   "source": [
    "# During runtime the complier will be able to know the type of the variable declared"
   ]
  },
  {
   "cell_type": "code",
   "execution_count": null,
   "id": "c4b53b9b-c344-4cf6-b963-d12d45c7144c",
   "metadata": {},
   "outputs": [],
   "source": [
    "a = 12\n",
    "str1 = \"assn\"\n",
    "a  = \"var\""
   ]
  },
  {
   "cell_type": "code",
   "execution_count": 44,
   "id": "e7a32ff6-7f45-4b90-a0dd-028982c74956",
   "metadata": {},
   "outputs": [
    {
     "name": "stdout",
     "output_type": "stream",
     "text": [
      "<class 'int'>\n"
     ]
    }
   ],
   "source": [
    "print(type(a))"
   ]
  },
  {
   "cell_type": "code",
   "execution_count": 46,
   "id": "83a022f8-cb56-4df5-bb24-a972dd272df7",
   "metadata": {},
   "outputs": [
    {
     "data": {
      "text/plain": [
       "1"
      ]
     },
     "execution_count": 46,
     "metadata": {},
     "output_type": "execute_result"
    }
   ],
   "source": [
    "int(1.5)"
   ]
  },
  {
   "cell_type": "markdown",
   "id": "4e2a8e98-aca4-45e1-883d-8e3e1a762568",
   "metadata": {},
   "source": [
    "## Concatenation b/w different types of variable"
   ]
  },
  {
   "cell_type": "code",
   "execution_count": 48,
   "id": "81d045cd-d98c-4c0c-82a7-392cda22d1e6",
   "metadata": {},
   "outputs": [
    {
     "data": {
      "text/plain": [
       "'11'"
      ]
     },
     "execution_count": 48,
     "metadata": {},
     "output_type": "execute_result"
    }
   ],
   "source": [
    "\"1\" + \"1\""
   ]
  },
  {
   "cell_type": "code",
   "execution_count": 49,
   "id": "672c3de0-b875-44cc-abe4-5fda57baf3fe",
   "metadata": {},
   "outputs": [
    {
     "data": {
      "text/plain": [
       "2"
      ]
     },
     "execution_count": 49,
     "metadata": {},
     "output_type": "execute_result"
    }
   ],
   "source": [
    "int(\"1\") + int(\"1\")"
   ]
  },
  {
   "cell_type": "code",
   "execution_count": 50,
   "id": "4934cf75-a693-4a3a-b8ae-adf5da8fdd3a",
   "metadata": {},
   "outputs": [
    {
     "ename": "TypeError",
     "evalue": "can't multiply sequence by non-int of type 'str'",
     "output_type": "error",
     "traceback": [
      "\u001b[0;31m---------------------------------------------------------------------------\u001b[0m",
      "\u001b[0;31mTypeError\u001b[0m                                 Traceback (most recent call last)",
      "Cell \u001b[0;32mIn[50], line 1\u001b[0m\n\u001b[0;32m----> 1\u001b[0m \u001b[38;5;124;43m\"\u001b[39;49m\u001b[38;5;124;43m1\u001b[39;49m\u001b[38;5;124;43m\"\u001b[39;49m\u001b[43m \u001b[49m\u001b[38;5;241;43m*\u001b[39;49m\u001b[43m \u001b[49m\u001b[38;5;124;43m\"\u001b[39;49m\u001b[38;5;124;43m1\u001b[39;49m\u001b[38;5;124;43m\"\u001b[39;49m\n",
      "\u001b[0;31mTypeError\u001b[0m: can't multiply sequence by non-int of type 'str'"
     ]
    }
   ],
   "source": [
    "\"1\" * \"1\""
   ]
  },
  {
   "cell_type": "code",
   "execution_count": 51,
   "id": "bbbd6314-c38c-43c4-94d4-26e209de88ae",
   "metadata": {},
   "outputs": [
    {
     "data": {
      "text/plain": [
       "'1111111111111111111111111111111111111111111111111111111111111111111111111111111111111111111111111111'"
      ]
     },
     "execution_count": 51,
     "metadata": {},
     "output_type": "execute_result"
    }
   ],
   "source": [
    "\"1\" * 100"
   ]
  },
  {
   "cell_type": "code",
   "execution_count": null,
   "id": "acb64328-2943-49af-9b8f-1a78cd627a63",
   "metadata": {},
   "outputs": [],
   "source": []
  },
  {
   "cell_type": "code",
   "execution_count": null,
   "id": "d6a99420-f669-4005-877e-a6ce68106a6c",
   "metadata": {},
   "outputs": [],
   "source": []
  },
  {
   "cell_type": "code",
   "execution_count": null,
   "id": "0d62bfbd-82b5-4f46-b210-e272b4a311e1",
   "metadata": {},
   "outputs": [],
   "source": []
  },
  {
   "cell_type": "code",
   "execution_count": null,
   "id": "1b5cf2de-f464-427f-ac1d-9ad6859a8c38",
   "metadata": {},
   "outputs": [],
   "source": []
  },
  {
   "cell_type": "code",
   "execution_count": null,
   "id": "6d07617e-49be-4b41-aeda-68226e887b05",
   "metadata": {},
   "outputs": [],
   "source": []
  },
  {
   "cell_type": "code",
   "execution_count": null,
   "id": "d6fbf92f-907d-4bbd-8881-39cc78f3424d",
   "metadata": {},
   "outputs": [],
   "source": []
  },
  {
   "cell_type": "code",
   "execution_count": null,
   "id": "4e55af18-f9d6-4118-a1ee-9ea1b507dc61",
   "metadata": {},
   "outputs": [],
   "source": []
  },
  {
   "cell_type": "code",
   "execution_count": null,
   "id": "20790983-afc0-4289-bdeb-45448285fb6f",
   "metadata": {},
   "outputs": [],
   "source": []
  },
  {
   "cell_type": "code",
   "execution_count": null,
   "id": "ca64403c-3ea5-4faf-9d05-57bd08bcecc0",
   "metadata": {},
   "outputs": [],
   "source": []
  },
  {
   "cell_type": "code",
   "execution_count": null,
   "id": "37c98726-f77f-4e10-a8a4-46e4eed93e21",
   "metadata": {},
   "outputs": [],
   "source": []
  },
  {
   "cell_type": "code",
   "execution_count": null,
   "id": "04029942-5643-43e8-b688-03e0d2ec1abf",
   "metadata": {},
   "outputs": [],
   "source": []
  }
 ],
 "metadata": {
  "kernelspec": {
   "display_name": "Python 3 (ipykernel)",
   "language": "python",
   "name": "python3"
  },
  "language_info": {
   "codemirror_mode": {
    "name": "ipython",
    "version": 3
   },
   "file_extension": ".py",
   "mimetype": "text/x-python",
   "name": "python",
   "nbconvert_exporter": "python",
   "pygments_lexer": "ipython3",
   "version": "3.10.8"
  }
 },
 "nbformat": 4,
 "nbformat_minor": 5
}
