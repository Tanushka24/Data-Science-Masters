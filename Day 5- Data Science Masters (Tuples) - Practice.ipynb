{
 "cells": [
  {
   "cell_type": "markdown",
   "id": "260e1789-a3ef-4a81-9f18-2adb1c93f8b7",
   "metadata": {},
   "source": [
    "## Tuples"
   ]
  },
  {
   "cell_type": "code",
   "execution_count": 1,
   "id": "a001507c-fbef-457d-970e-9dc866cb615f",
   "metadata": {},
   "outputs": [],
   "source": [
    "t = () \n",
    "# it is a way to declare tuple"
   ]
  },
  {
   "cell_type": "code",
   "execution_count": 3,
   "id": "8928864a-3701-4902-9bbb-05d67f12eafd",
   "metadata": {},
   "outputs": [
    {
     "data": {
      "text/plain": [
       "tuple"
      ]
     },
     "execution_count": 3,
     "metadata": {},
     "output_type": "execute_result"
    }
   ],
   "source": [
    "type(t)"
   ]
  },
  {
   "cell_type": "code",
   "execution_count": 19,
   "id": "1fbf0b32-6618-4c76-9d78-aee3eec58423",
   "metadata": {},
   "outputs": [],
   "source": [
    "t1= (1,2,3,4,4,45+7j,\"sudh\", True)"
   ]
  },
  {
   "cell_type": "code",
   "execution_count": 5,
   "id": "754fccde-938f-4727-a322-47a39adc0c3e",
   "metadata": {},
   "outputs": [],
   "source": [
    "#It extracts data similar to list as it also has indexing as list staring from zero"
   ]
  },
  {
   "cell_type": "code",
   "execution_count": 6,
   "id": "2cc28c3b-0af7-49b4-8944-2a413fbccf63",
   "metadata": {},
   "outputs": [
    {
     "data": {
      "text/plain": [
       "1"
      ]
     },
     "execution_count": 6,
     "metadata": {},
     "output_type": "execute_result"
    }
   ],
   "source": [
    "t1[0]"
   ]
  },
  {
   "cell_type": "code",
   "execution_count": 7,
   "id": "cb5c56b5-22c2-4a95-a199-b6bc4b31c2db",
   "metadata": {},
   "outputs": [
    {
     "data": {
      "text/plain": [
       "True"
      ]
     },
     "execution_count": 7,
     "metadata": {},
     "output_type": "execute_result"
    }
   ],
   "source": [
    "t1[7]"
   ]
  },
  {
   "cell_type": "code",
   "execution_count": 8,
   "id": "13df893f-a06c-4e4b-8faa-9313d6a3a28b",
   "metadata": {},
   "outputs": [],
   "source": [
    "#Reverse the tuple"
   ]
  },
  {
   "cell_type": "code",
   "execution_count": 20,
   "id": "47e16f62-5073-47b0-b9cc-6fb5575c8be5",
   "metadata": {},
   "outputs": [
    {
     "data": {
      "text/plain": [
       "(True, 'sudh', (45+7j), 4, 4, 3, 2, 1)"
      ]
     },
     "execution_count": 20,
     "metadata": {},
     "output_type": "execute_result"
    }
   ],
   "source": [
    "t1[::-1]"
   ]
  },
  {
   "cell_type": "code",
   "execution_count": 10,
   "id": "d321a098-e609-40ff-9a9c-e6fcd8e9ddef",
   "metadata": {},
   "outputs": [],
   "source": [
    "#unless we are assigning the tuple to a new variable or same variable, the original tuple will be as it is"
   ]
  },
  {
   "cell_type": "code",
   "execution_count": 12,
   "id": "65d3635e-3219-4248-a770-5564e9cb7e3e",
   "metadata": {},
   "outputs": [],
   "source": [
    "t1=t1[::-1]"
   ]
  },
  {
   "cell_type": "code",
   "execution_count": 13,
   "id": "ac8dba10-7bc3-4a12-a0da-674ee2f24fca",
   "metadata": {},
   "outputs": [],
   "source": [
    "#Slicing operation for fetching multiple values from tuple"
   ]
  },
  {
   "cell_type": "code",
   "execution_count": 15,
   "id": "f4514849-094c-4c36-b5d4-ffd15f35ba76",
   "metadata": {},
   "outputs": [
    {
     "data": {
      "text/plain": [
       "(True, 'sudh', (45+7j))"
      ]
     },
     "execution_count": 15,
     "metadata": {},
     "output_type": "execute_result"
    }
   ],
   "source": [
    "t1[0:3]"
   ]
  },
  {
   "cell_type": "code",
   "execution_count": 17,
   "id": "44ad9240-868b-4c72-b7dc-9bbfabc8a41f",
   "metadata": {},
   "outputs": [],
   "source": [
    "#methods for tuples\n",
    "#1- Count\n",
    "#2- Index"
   ]
  },
  {
   "cell_type": "code",
   "execution_count": 21,
   "id": "dd4c4300-5bff-4fc8-b1b1-78fdb2d163a5",
   "metadata": {},
   "outputs": [
    {
     "data": {
      "text/plain": [
       "2"
      ]
     },
     "execution_count": 21,
     "metadata": {},
     "output_type": "execute_result"
    }
   ],
   "source": [
    "#Count\n",
    "t1.count(4)\n",
    "#It counts the value in the tuple and how many times it got repeated"
   ]
  },
  {
   "cell_type": "code",
   "execution_count": 22,
   "id": "0b807dde-21ab-480e-a40d-55da71a341b3",
   "metadata": {},
   "outputs": [
    {
     "data": {
      "text/plain": [
       "0"
      ]
     },
     "execution_count": 22,
     "metadata": {},
     "output_type": "execute_result"
    }
   ],
   "source": [
    "t1.count(\"abc\")\n"
   ]
  },
  {
   "cell_type": "code",
   "execution_count": 26,
   "id": "d014e826-0027-44b9-a283-b0279e91807f",
   "metadata": {},
   "outputs": [
    {
     "data": {
      "text/plain": [
       "0"
      ]
     },
     "execution_count": 26,
     "metadata": {},
     "output_type": "execute_result"
    }
   ],
   "source": [
    "#Index\n",
    "t1.index(1)\n",
    "#Note : in the list we have 1 at 8th position but answer is 0 , it is because the first element is 'true' and python is identifying true as 1"
   ]
  },
  {
   "cell_type": "code",
   "execution_count": 27,
   "id": "03635867-fc47-4e43-8c29-ed6944f3f8c3",
   "metadata": {},
   "outputs": [
    {
     "data": {
      "text/plain": [
       "6"
      ]
     },
     "execution_count": 27,
     "metadata": {},
     "output_type": "execute_result"
    }
   ],
   "source": [
    "t1.index(\"sudh\")\n"
   ]
  },
  {
   "cell_type": "code",
   "execution_count": 28,
   "id": "08209db7-5f1b-426c-9979-6f1928e2921f",
   "metadata": {},
   "outputs": [
    {
     "data": {
      "text/plain": [
       "2"
      ]
     },
     "execution_count": 28,
     "metadata": {},
     "output_type": "execute_result"
    }
   ],
   "source": [
    "t1.count(True)\n",
    "#Answer should be 1 but it is giving 2 because we have True which is being considered as 1 and we have also a 1 in the Tuple"
   ]
  },
  {
   "cell_type": "code",
   "execution_count": 29,
   "id": "a3fb1882-aaa3-456e-89a9-fc8d6f499d84",
   "metadata": {},
   "outputs": [],
   "source": [
    "## Major differences between tuple and a list"
   ]
  },
  {
   "cell_type": "code",
   "execution_count": 30,
   "id": "49b00c1b-5565-4075-bced-4ed1f474715d",
   "metadata": {},
   "outputs": [],
   "source": [
    "L = [1,2,3,4]"
   ]
  },
  {
   "cell_type": "code",
   "execution_count": 31,
   "id": "2dbbcafb-3880-4b0a-aa1b-130219d825b8",
   "metadata": {},
   "outputs": [
    {
     "data": {
      "text/plain": [
       "(1, 2, 3, 4, 4, (45+7j), 'sudh', True)"
      ]
     },
     "execution_count": 31,
     "metadata": {},
     "output_type": "execute_result"
    }
   ],
   "source": [
    "t1"
   ]
  },
  {
   "cell_type": "code",
   "execution_count": 32,
   "id": "d5d89003-f17f-4567-ae3e-5bcdc01bbf95",
   "metadata": {},
   "outputs": [],
   "source": [
    "#Mutability & Immutabliity"
   ]
  },
  {
   "cell_type": "code",
   "execution_count": 34,
   "id": "8463e8b3-a3de-488e-818f-7ece0e1c2134",
   "metadata": {},
   "outputs": [],
   "source": [
    "#1 Trying a assign a new element to a tuple index"
   ]
  },
  {
   "cell_type": "code",
   "execution_count": 35,
   "id": "f55c744a-f484-435d-b436-3384f3923b0e",
   "metadata": {},
   "outputs": [
    {
     "ename": "TypeError",
     "evalue": "'tuple' object does not support item assignment",
     "output_type": "error",
     "traceback": [
      "\u001b[0;31m---------------------------------------------------------------------------\u001b[0m",
      "\u001b[0;31mTypeError\u001b[0m                                 Traceback (most recent call last)",
      "Cell \u001b[0;32mIn[35], line 1\u001b[0m\n\u001b[0;32m----> 1\u001b[0m \u001b[43mt1\u001b[49m\u001b[43m[\u001b[49m\u001b[38;5;241;43m0\u001b[39;49m\u001b[43m]\u001b[49m \u001b[38;5;241m=\u001b[39m \u001b[38;5;241m345\u001b[39m\n",
      "\u001b[0;31mTypeError\u001b[0m: 'tuple' object does not support item assignment"
     ]
    }
   ],
   "source": [
    "t1[0] = 345"
   ]
  },
  {
   "cell_type": "code",
   "execution_count": 36,
   "id": "58e8b0de-b90d-4116-a5f9-c58bc6b86739",
   "metadata": {},
   "outputs": [],
   "source": [
    "#Can't assign a new element to a tuple as it is immutable\n",
    "#### Making changes at index level is not possible but if we try item assignment in tuple it is possible"
   ]
  },
  {
   "cell_type": "code",
   "execution_count": 38,
   "id": "ccd21ae9-f281-44cb-93c7-f696d5525d27",
   "metadata": {},
   "outputs": [],
   "source": [
    "L[0] = 345"
   ]
  },
  {
   "cell_type": "code",
   "execution_count": 39,
   "id": "96b3dd74-ca4b-48b4-b326-be8d35298028",
   "metadata": {},
   "outputs": [
    {
     "data": {
      "text/plain": [
       "[345, 2, 3, 4]"
      ]
     },
     "execution_count": 39,
     "metadata": {},
     "output_type": "execute_result"
    }
   ],
   "source": [
    "L\n",
    "#List is mutable"
   ]
  },
  {
   "cell_type": "code",
   "execution_count": 40,
   "id": "55139b10-27fb-4059-8e9c-ce5125608697",
   "metadata": {},
   "outputs": [
    {
     "data": {
      "text/plain": [
       "(1, 2, 3, 4, 4, (45+7j), 'sudh', True)"
      ]
     },
     "execution_count": 40,
     "metadata": {},
     "output_type": "execute_result"
    }
   ],
   "source": [
    "t1"
   ]
  },
  {
   "cell_type": "code",
   "execution_count": 43,
   "id": "e1a7622c-a604-4d26-93d6-18f42e9aaa6b",
   "metadata": {},
   "outputs": [
    {
     "name": "stdout",
     "output_type": "stream",
     "text": [
      "1\n",
      "2\n",
      "3\n",
      "4\n",
      "4\n",
      "(45+7j)\n",
      "sudh\n",
      "True\n"
     ]
    }
   ],
   "source": [
    "for i in t1:\n",
    "    print(i)"
   ]
  },
  {
   "cell_type": "code",
   "execution_count": 45,
   "id": "d0230aed-091a-4788-8512-1a145832852e",
   "metadata": {},
   "outputs": [
    {
     "name": "stdout",
     "output_type": "stream",
     "text": [
      "1 - <class 'int'>\n",
      "2 - <class 'int'>\n",
      "3 - <class 'int'>\n",
      "4 - <class 'int'>\n",
      "4 - <class 'int'>\n",
      "(45+7j) - <class 'complex'>\n",
      "sudh - <class 'str'>\n",
      "True - <class 'bool'>\n"
     ]
    }
   ],
   "source": [
    "for i in t1:\n",
    "    print(i ,'-', type(i))"
   ]
  },
  {
   "cell_type": "code",
   "execution_count": 46,
   "id": "c254dd7c-d6e9-49c0-b55f-416bb714a4a2",
   "metadata": {},
   "outputs": [],
   "source": [
    "t2 = (1,2,3,4,5)"
   ]
  },
  {
   "cell_type": "code",
   "execution_count": 47,
   "id": "ea7b3626-0558-4909-ae75-5b09e0a66ad6",
   "metadata": {},
   "outputs": [
    {
     "data": {
      "text/plain": [
       "(1, 2, 3, 4, 5, 1, 2, 3, 4, 5, 1, 2, 3, 4, 5)"
      ]
     },
     "execution_count": 47,
     "metadata": {},
     "output_type": "execute_result"
    }
   ],
   "source": [
    "t2*3 \n",
    "#Printing 3 times the tuple"
   ]
  },
  {
   "cell_type": "code",
   "execution_count": 48,
   "id": "279e7654-e658-4c0d-8205-7120b1be17b6",
   "metadata": {},
   "outputs": [
    {
     "data": {
      "text/plain": [
       "5"
      ]
     },
     "execution_count": 48,
     "metadata": {},
     "output_type": "execute_result"
    }
   ],
   "source": [
    "max(t2)"
   ]
  },
  {
   "cell_type": "code",
   "execution_count": 49,
   "id": "57c419d0-a48e-4aaf-b3ec-34cfb0d15c71",
   "metadata": {},
   "outputs": [
    {
     "data": {
      "text/plain": [
       "1"
      ]
     },
     "execution_count": 49,
     "metadata": {},
     "output_type": "execute_result"
    }
   ],
   "source": [
    "min(t2)"
   ]
  },
  {
   "cell_type": "code",
   "execution_count": 50,
   "id": "bd9b3b03-c42e-46da-a0ab-43136eb4bdf3",
   "metadata": {},
   "outputs": [],
   "source": [
    "#Created Multiple Tuple and adding them into 1\n",
    "## Keeping tuples inside tuple"
   ]
  },
  {
   "cell_type": "code",
   "execution_count": 51,
   "id": "e359db7c-1143-4f6c-99ef-3f11611ac5d0",
   "metadata": {},
   "outputs": [],
   "source": [
    "t3 = (t1,t2)"
   ]
  },
  {
   "cell_type": "code",
   "execution_count": 52,
   "id": "24d1bc30-7192-476f-902d-3d6d316726d3",
   "metadata": {},
   "outputs": [
    {
     "data": {
      "text/plain": [
       "((1, 2, 3, 4, 4, (45+7j), 'sudh', True), (1, 2, 3, 4, 5))"
      ]
     },
     "execution_count": 52,
     "metadata": {},
     "output_type": "execute_result"
    }
   ],
   "source": [
    "t3"
   ]
  },
  {
   "cell_type": "code",
   "execution_count": 53,
   "id": "5aa21d02-e2a3-4559-8570-dec2349e0bbe",
   "metadata": {},
   "outputs": [],
   "source": [
    "#We can keep list and tuple together"
   ]
  },
  {
   "cell_type": "code",
   "execution_count": 54,
   "id": "eb120da2-016b-4543-bb1c-32f550f65817",
   "metadata": {},
   "outputs": [],
   "source": [
    "t3 = (t2,L)"
   ]
  },
  {
   "cell_type": "code",
   "execution_count": 55,
   "id": "136341ff-326d-4b91-a924-17189841c2df",
   "metadata": {},
   "outputs": [
    {
     "data": {
      "text/plain": [
       "((1, 2, 3, 4, 5), [345, 2, 3, 4])"
      ]
     },
     "execution_count": 55,
     "metadata": {},
     "output_type": "execute_result"
    }
   ],
   "source": [
    "t3"
   ]
  },
  {
   "cell_type": "code",
   "execution_count": 56,
   "id": "50153a04-7912-471a-9da5-b5fe9eccfffe",
   "metadata": {},
   "outputs": [],
   "source": [
    "del t3"
   ]
  },
  {
   "cell_type": "code",
   "execution_count": 57,
   "id": "f0443558-0ebf-4763-b5ab-c4f458701828",
   "metadata": {},
   "outputs": [
    {
     "ename": "NameError",
     "evalue": "name 't3' is not defined",
     "output_type": "error",
     "traceback": [
      "\u001b[0;31m---------------------------------------------------------------------------\u001b[0m",
      "\u001b[0;31mNameError\u001b[0m                                 Traceback (most recent call last)",
      "Cell \u001b[0;32mIn[57], line 1\u001b[0m\n\u001b[0;32m----> 1\u001b[0m \u001b[43mt3\u001b[49m\n",
      "\u001b[0;31mNameError\u001b[0m: name 't3' is not defined"
     ]
    }
   ],
   "source": [
    "t3"
   ]
  },
  {
   "cell_type": "code",
   "execution_count": 58,
   "id": "88c802de-6409-4842-9974-ab24777274f0",
   "metadata": {},
   "outputs": [
    {
     "data": {
      "text/plain": [
       "5"
      ]
     },
     "execution_count": 58,
     "metadata": {},
     "output_type": "execute_result"
    }
   ],
   "source": [
    "len(t2)\n",
    "#Total no of elements inside a tuple"
   ]
  },
  {
   "cell_type": "code",
   "execution_count": 59,
   "id": "42d5aae3-c7fa-41c1-8053-5fa171eea06c",
   "metadata": {},
   "outputs": [],
   "source": [
    "##If Else can be applied in tuple"
   ]
  },
  {
   "cell_type": "code",
   "execution_count": 60,
   "id": "5fdb3dc7-5f22-44bd-b78e-061d0f1ba2d3",
   "metadata": {},
   "outputs": [
    {
     "data": {
      "text/plain": [
       "True"
      ]
     },
     "execution_count": 60,
     "metadata": {},
     "output_type": "execute_result"
    }
   ],
   "source": [
    "\"sudh\" in t1\n",
    "# finding element is n no of elements in list"
   ]
  },
  {
   "cell_type": "code",
   "execution_count": 61,
   "id": "e3ece98b-6812-4d55-a7e8-40f0328feb59",
   "metadata": {},
   "outputs": [
    {
     "data": {
      "text/plain": [
       "False"
      ]
     },
     "execution_count": 61,
     "metadata": {},
     "output_type": "execute_result"
    }
   ],
   "source": [
    "\"abc\" in t1"
   ]
  },
  {
   "cell_type": "markdown",
   "id": "fea6ee5f-09b7-444b-b25a-6c56e64ecad1",
   "metadata": {},
   "source": [
    "## Set"
   ]
  },
  {
   "cell_type": "code",
   "execution_count": 2,
   "id": "d42f6f4e-1794-47ac-a879-f55f51d2ccec",
   "metadata": {},
   "outputs": [],
   "source": [
    "s = {}"
   ]
  },
  {
   "cell_type": "code",
   "execution_count": 3,
   "id": "a33eb4c5-8e63-44d5-b726-c44a2235a6ea",
   "metadata": {},
   "outputs": [
    {
     "data": {
      "text/plain": [
       "dict"
      ]
     },
     "execution_count": 3,
     "metadata": {},
     "output_type": "execute_result"
    }
   ],
   "source": [
    "type(s)"
   ]
  },
  {
   "cell_type": "code",
   "execution_count": 4,
   "id": "5da5365d-ba3f-42a6-a1da-44ba7b4a7b3c",
   "metadata": {},
   "outputs": [],
   "source": [
    "s1 ={1,2,3,4,5}"
   ]
  },
  {
   "cell_type": "code",
   "execution_count": 5,
   "id": "79f3b486-7475-494d-a097-f284421cd5fa",
   "metadata": {},
   "outputs": [
    {
     "data": {
      "text/plain": [
       "set"
      ]
     },
     "execution_count": 5,
     "metadata": {},
     "output_type": "execute_result"
    }
   ],
   "source": [
    "type(s1)"
   ]
  },
  {
   "cell_type": "code",
   "execution_count": 6,
   "id": "91d39bd8-b2ce-40d7-a61a-ad5daf86bebb",
   "metadata": {},
   "outputs": [],
   "source": [
    "##IMPORTANT\n",
    "#When we declare curly braces with no value in it, it will be dictionary\n",
    "#Whwn we have value in curly braces then it is SET"
   ]
  },
  {
   "cell_type": "code",
   "execution_count": 7,
   "id": "976264c3-b68e-44b8-9544-aca5beaf600b",
   "metadata": {},
   "outputs": [],
   "source": [
    "s2 = {1,1,12,3,3,3,4,5,55,523,34,3,45,6,67}"
   ]
  },
  {
   "cell_type": "code",
   "execution_count": 8,
   "id": "e69f7f35-a08a-40a6-a884-23d90cbb9e0a",
   "metadata": {},
   "outputs": [
    {
     "data": {
      "text/plain": [
       "{1, 3, 4, 5, 6, 12, 34, 45, 55, 67, 523}"
      ]
     },
     "execution_count": 8,
     "metadata": {},
     "output_type": "execute_result"
    }
   ],
   "source": [
    "s2"
   ]
  },
  {
   "cell_type": "code",
   "execution_count": 9,
   "id": "a47c01af-b656-474a-b34e-b17aa2711bc3",
   "metadata": {},
   "outputs": [],
   "source": [
    "## It prints only unique values from the provided data"
   ]
  },
  {
   "cell_type": "code",
   "execution_count": 15,
   "id": "ddaaccfb-e6bd-4d72-ac8c-1675789aa075",
   "metadata": {},
   "outputs": [],
   "source": [
    "#How to convert a set into a list\n",
    "l = list(s2)"
   ]
  },
  {
   "cell_type": "code",
   "execution_count": 13,
   "id": "31785219-a690-4d54-9d61-8ea44cbcc4cd",
   "metadata": {},
   "outputs": [
    {
     "data": {
      "text/plain": [
       "(1, 34, 3, 4, 5, 6, 67, 523, 12, 45, 55)"
      ]
     },
     "execution_count": 13,
     "metadata": {},
     "output_type": "execute_result"
    }
   ],
   "source": [
    "#How to convert a set into a tuple\n",
    "tuple(s2)"
   ]
  },
  {
   "cell_type": "code",
   "execution_count": 16,
   "id": "71bd5b9a-06bb-43b5-b9ec-a199c6c07a42",
   "metadata": {},
   "outputs": [
    {
     "data": {
      "text/plain": [
       "{1, 3, 4, 5, 6, 12, 34, 45, 55, 67, 523}"
      ]
     },
     "execution_count": 16,
     "metadata": {},
     "output_type": "execute_result"
    }
   ],
   "source": [
    "#How to convert a list to set\n",
    "set(l)"
   ]
  },
  {
   "cell_type": "code",
   "execution_count": 18,
   "id": "0b447177-231e-4852-91b0-068be64d580a",
   "metadata": {},
   "outputs": [
    {
     "ename": "TypeError",
     "evalue": "unhashable type: 'list'",
     "output_type": "error",
     "traceback": [
      "\u001b[0;31m---------------------------------------------------------------------------\u001b[0m",
      "\u001b[0;31mTypeError\u001b[0m                                 Traceback (most recent call last)",
      "Cell \u001b[0;32mIn[18], line 2\u001b[0m\n\u001b[1;32m      1\u001b[0m \u001b[38;5;66;03m#can we store a list inside a set\u001b[39;00m\n\u001b[0;32m----> 2\u001b[0m s4 \u001b[38;5;241m=\u001b[39m {\u001b[38;5;241m1\u001b[39m,\u001b[38;5;241m2\u001b[39m,\u001b[38;5;241m3\u001b[39m,\u001b[38;5;241m4\u001b[39m,[\u001b[38;5;241m1\u001b[39m,\u001b[38;5;241m2\u001b[39m,\u001b[38;5;241m3\u001b[39m,\u001b[38;5;241m4\u001b[39m]}\n",
      "\u001b[0;31mTypeError\u001b[0m: unhashable type: 'list'"
     ]
    }
   ],
   "source": [
    "#can we store a list inside a set\n",
    "s4 = {1,2,3,4,[1,2,3,4]}\n",
    "#unhashable type: 'list' Error : All the immutable DataStructures have been provided with a hash index which uniquely identifies them."
   ]
  },
  {
   "cell_type": "code",
   "execution_count": 19,
   "id": "e096b6bc-ec37-4ac4-8cdf-b9278245f619",
   "metadata": {},
   "outputs": [],
   "source": [
    "##Important \n",
    "# We can't store list in set as it is mutable. However, we can store tuples as it is immutable"
   ]
  },
  {
   "cell_type": "code",
   "execution_count": 20,
   "id": "aca5248c-3b81-4be7-b407-4f63b9e9aeba",
   "metadata": {},
   "outputs": [],
   "source": [
    "##Storing a tuple into set\n",
    "s5= {1,2,3,4,(1,2,3,4)}"
   ]
  },
  {
   "cell_type": "code",
   "execution_count": 21,
   "id": "f0d1d6ff-2260-4931-b316-29029b143ffd",
   "metadata": {},
   "outputs": [
    {
     "data": {
      "text/plain": [
       "{(1, 2, 3, 4), 1, 2, 3, 4}"
      ]
     },
     "execution_count": 21,
     "metadata": {},
     "output_type": "execute_result"
    }
   ],
   "source": [
    "s5\n",
    "#Tuple is being stored in set"
   ]
  },
  {
   "cell_type": "code",
   "execution_count": 22,
   "id": "d92c3c59-73e1-45af-be0a-8ea5c3084a7e",
   "metadata": {},
   "outputs": [],
   "source": [
    "#Storing strings inside tuples\n",
    "#Storing string is case sensitive\n",
    "s7 = {\"sudh\",\"Sudh\",2,3,4}"
   ]
  },
  {
   "cell_type": "code",
   "execution_count": 23,
   "id": "3cd09acb-6a6b-4135-b90a-4b56af814077",
   "metadata": {},
   "outputs": [
    {
     "data": {
      "text/plain": [
       "{2, 3, 4, 'Sudh', 'sudh'}"
      ]
     },
     "execution_count": 23,
     "metadata": {},
     "output_type": "execute_result"
    }
   ],
   "source": [
    "s7"
   ]
  },
  {
   "cell_type": "code",
   "execution_count": 24,
   "id": "d1888307-382e-4336-bc39-4697462c9abb",
   "metadata": {},
   "outputs": [],
   "source": [
    "s7 = {\"sudh\",\"sudh\",2,3,4}"
   ]
  },
  {
   "cell_type": "code",
   "execution_count": 25,
   "id": "6bd216da-a4f6-42f9-9e8a-e775306a7fe1",
   "metadata": {},
   "outputs": [
    {
     "data": {
      "text/plain": [
       "{2, 3, 4, 'sudh'}"
      ]
     },
     "execution_count": 25,
     "metadata": {},
     "output_type": "execute_result"
    }
   ],
   "source": [
    "s7"
   ]
  },
  {
   "cell_type": "code",
   "execution_count": 26,
   "id": "2187f38b-18d1-44a8-afb7-613241f0f141",
   "metadata": {},
   "outputs": [
    {
     "ename": "TypeError",
     "evalue": "'set' object is not subscriptable",
     "output_type": "error",
     "traceback": [
      "\u001b[0;31m---------------------------------------------------------------------------\u001b[0m",
      "\u001b[0;31mTypeError\u001b[0m                                 Traceback (most recent call last)",
      "Cell \u001b[0;32mIn[26], line 3\u001b[0m\n\u001b[1;32m      1\u001b[0m \u001b[38;5;66;03m##Important\u001b[39;00m\n\u001b[1;32m      2\u001b[0m \u001b[38;5;66;03m#Can't apply Index extraction /slicing function here\u001b[39;00m\n\u001b[0;32m----> 3\u001b[0m \u001b[43ms7\u001b[49m\u001b[43m[\u001b[49m\u001b[38;5;241;43m0\u001b[39;49m\u001b[43m]\u001b[49m\n",
      "\u001b[0;31mTypeError\u001b[0m: 'set' object is not subscriptable"
     ]
    }
   ],
   "source": [
    "##Important\n",
    "#Can't apply Index extraction /slicing function here\n",
    "#'set' object is not subscriptable\n",
    "#System doesn't hold the set into a sequenctial order as it seems, so can't apply slicing\n",
    "s7[0]"
   ]
  },
  {
   "cell_type": "code",
   "execution_count": 27,
   "id": "9c76e030-2cbd-4348-8f1c-81f05053ffa4",
   "metadata": {},
   "outputs": [
    {
     "ename": "TypeError",
     "evalue": "'set' object is not subscriptable",
     "output_type": "error",
     "traceback": [
      "\u001b[0;31m---------------------------------------------------------------------------\u001b[0m",
      "\u001b[0;31mTypeError\u001b[0m                                 Traceback (most recent call last)",
      "Cell \u001b[0;32mIn[27], line 1\u001b[0m\n\u001b[0;32m----> 1\u001b[0m \u001b[43ms7\u001b[49m\u001b[43m[\u001b[49m\u001b[38;5;241;43m0\u001b[39;49m\u001b[43m:\u001b[49m\u001b[38;5;241;43m1\u001b[39;49m\u001b[43m]\u001b[49m\n",
      "\u001b[0;31mTypeError\u001b[0m: 'set' object is not subscriptable"
     ]
    }
   ],
   "source": [
    "s7[0:1]"
   ]
  },
  {
   "cell_type": "code",
   "execution_count": 28,
   "id": "f5b87ba8-6577-4d85-87a3-a56464ce53b6",
   "metadata": {},
   "outputs": [
    {
     "ename": "TypeError",
     "evalue": "'set' object is not subscriptable",
     "output_type": "error",
     "traceback": [
      "\u001b[0;31m---------------------------------------------------------------------------\u001b[0m",
      "\u001b[0;31mTypeError\u001b[0m                                 Traceback (most recent call last)",
      "Cell \u001b[0;32mIn[28], line 1\u001b[0m\n\u001b[0;32m----> 1\u001b[0m \u001b[43ms7\u001b[49m\u001b[43m[\u001b[49m\u001b[43m:\u001b[49m\u001b[43m:\u001b[49m\u001b[38;5;241;43m-\u001b[39;49m\u001b[38;5;241;43m1\u001b[39;49m\u001b[43m]\u001b[49m\n",
      "\u001b[0;31mTypeError\u001b[0m: 'set' object is not subscriptable"
     ]
    }
   ],
   "source": [
    "s7[::-1]"
   ]
  },
  {
   "cell_type": "code",
   "execution_count": 29,
   "id": "5af0e348-1038-4bc7-bc6c-194a2c166b23",
   "metadata": {},
   "outputs": [
    {
     "name": "stdout",
     "output_type": "stream",
     "text": [
      "2\n",
      "3\n",
      "sudh\n",
      "4\n"
     ]
    }
   ],
   "source": [
    "#For Loop\n",
    "#For loop can be applied to hashable type of element\n",
    "for i in s7:\n",
    "    print(i)"
   ]
  },
  {
   "cell_type": "markdown",
   "id": "fba958c0-ce43-4d71-a445-c99d6eda968d",
   "metadata": {},
   "source": [
    "### Functions in Set"
   ]
  },
  {
   "cell_type": "code",
   "execution_count": null,
   "id": "75080ca8-f462-498e-bb85-abbc3b6eb1a9",
   "metadata": {},
   "outputs": [],
   "source": [
    "#Add Function\n",
    "s7"
   ]
  },
  {
   "cell_type": "code",
   "execution_count": 31,
   "id": "c8b7d2e2-5532-485b-a6ed-5bd649197b39",
   "metadata": {},
   "outputs": [],
   "source": [
    "s7.add(34)"
   ]
  },
  {
   "cell_type": "code",
   "execution_count": 32,
   "id": "fe6d57e8-4e2c-454f-9b73-e199d0a9cb0b",
   "metadata": {},
   "outputs": [
    {
     "data": {
      "text/plain": [
       "{2, 3, 34, 4, 'sudh'}"
      ]
     },
     "execution_count": 32,
     "metadata": {},
     "output_type": "execute_result"
    }
   ],
   "source": [
    "s7"
   ]
  },
  {
   "cell_type": "code",
   "execution_count": 33,
   "id": "c715ffbc-e93f-43a1-96cd-38c26dbc6a6f",
   "metadata": {},
   "outputs": [],
   "source": [
    "s7.add(2)"
   ]
  },
  {
   "cell_type": "code",
   "execution_count": 34,
   "id": "d08641ff-3397-4cf9-b798-fe141d96a321",
   "metadata": {},
   "outputs": [
    {
     "data": {
      "text/plain": [
       "{2, 3, 34, 4, 'sudh'}"
      ]
     },
     "execution_count": 34,
     "metadata": {},
     "output_type": "execute_result"
    }
   ],
   "source": [
    "s7\n",
    "#2 is not added in the set as it is already present"
   ]
  },
  {
   "cell_type": "code",
   "execution_count": 35,
   "id": "360f8d91-1581-428a-99b6-d7470ddcee41",
   "metadata": {},
   "outputs": [
    {
     "data": {
      "text/plain": [
       "5"
      ]
     },
     "execution_count": 35,
     "metadata": {},
     "output_type": "execute_result"
    }
   ],
   "source": [
    "#Len\n",
    "len(s7)"
   ]
  },
  {
   "cell_type": "code",
   "execution_count": 36,
   "id": "b0a1127f-8de7-42ad-81a8-8390f39caa05",
   "metadata": {},
   "outputs": [
    {
     "data": {
      "text/plain": [
       "34"
      ]
     },
     "execution_count": 36,
     "metadata": {},
     "output_type": "execute_result"
    }
   ],
   "source": [
    "#Pop : it removes elements according to hash index not the sequence in which it is declared.\n",
    "#raises an error when the set is empty\n",
    "s7.pop()"
   ]
  },
  {
   "cell_type": "code",
   "execution_count": 37,
   "id": "33fc946a-dcda-4043-ae27-037bb0be83ec",
   "metadata": {},
   "outputs": [
    {
     "data": {
      "text/plain": [
       "2"
      ]
     },
     "execution_count": 37,
     "metadata": {},
     "output_type": "execute_result"
    }
   ],
   "source": [
    "s7.pop()"
   ]
  },
  {
   "cell_type": "code",
   "execution_count": 38,
   "id": "ede50816-8f50-4195-b84a-64b3b6650e22",
   "metadata": {},
   "outputs": [
    {
     "data": {
      "text/plain": [
       "3"
      ]
     },
     "execution_count": 38,
     "metadata": {},
     "output_type": "execute_result"
    }
   ],
   "source": [
    "s7.pop()"
   ]
  },
  {
   "cell_type": "code",
   "execution_count": 39,
   "id": "a3e35e3d-b696-4b34-b5a0-f5c610f50f98",
   "metadata": {},
   "outputs": [],
   "source": [
    "s7.clear()"
   ]
  },
  {
   "cell_type": "code",
   "execution_count": 40,
   "id": "fd4c4bd2-d46f-4098-89eb-d8b999074b91",
   "metadata": {},
   "outputs": [
    {
     "data": {
      "text/plain": [
       "set()"
      ]
     },
     "execution_count": 40,
     "metadata": {},
     "output_type": "execute_result"
    }
   ],
   "source": [
    "s7"
   ]
  },
  {
   "cell_type": "code",
   "execution_count": 43,
   "id": "41b4b824-30f3-42d6-9996-6b28bed50ba9",
   "metadata": {},
   "outputs": [],
   "source": [
    "# Difference function\n",
    "s8 = {1,2,3,4}\n",
    "s9 = {1,2,3,5}"
   ]
  },
  {
   "cell_type": "code",
   "execution_count": 44,
   "id": "efcb69b2-831e-4eee-ac05-a8b670470853",
   "metadata": {},
   "outputs": [
    {
     "data": {
      "text/plain": [
       "{4}"
      ]
     },
     "execution_count": 44,
     "metadata": {},
     "output_type": "execute_result"
    }
   ],
   "source": [
    "s8.difference(s9)"
   ]
  },
  {
   "cell_type": "code",
   "execution_count": 45,
   "id": "c63079ee-f7d9-41b7-999b-80a1769661b9",
   "metadata": {},
   "outputs": [
    {
     "data": {
      "text/plain": [
       "{5}"
      ]
     },
     "execution_count": 45,
     "metadata": {},
     "output_type": "execute_result"
    }
   ],
   "source": [
    "s9.difference(s8)"
   ]
  },
  {
   "cell_type": "markdown",
   "id": "e9a79b51-0b95-4d75-aa8d-ae448f1d344f",
   "metadata": {},
   "source": [
    "## Dictionary"
   ]
  },
  {
   "cell_type": "code",
   "execution_count": 46,
   "id": "5cd8aa6f-1576-4e99-8518-deec173a5d76",
   "metadata": {},
   "outputs": [],
   "source": [
    "d = {}"
   ]
  },
  {
   "cell_type": "code",
   "execution_count": 47,
   "id": "2de8d1f6-e3a5-48fa-9ae0-c43c67a928e8",
   "metadata": {},
   "outputs": [
    {
     "data": {
      "text/plain": [
       "dict"
      ]
     },
     "execution_count": 47,
     "metadata": {},
     "output_type": "execute_result"
    }
   ],
   "source": [
    "type(d)"
   ]
  },
  {
   "cell_type": "code",
   "execution_count": 48,
   "id": "22dd740e-b0f9-41ea-b8b3-8df35ee47521",
   "metadata": {},
   "outputs": [],
   "source": [
    "# dictionary is created in the form of key and value\n",
    "d1 = {\"name\" : \"Anushka\", \"Email\" : \"anushka.24@gmail.com\", \"M-Number\" : \"965438\"}"
   ]
  },
  {
   "cell_type": "code",
   "execution_count": 49,
   "id": "79ef8984-69e8-4efb-b606-4673bea96210",
   "metadata": {},
   "outputs": [
    {
     "data": {
      "text/plain": [
       "{'name': 'Anushka', 'Email': 'anushka.24@gmail.com', 'M-Number': '965438'}"
      ]
     },
     "execution_count": 49,
     "metadata": {},
     "output_type": "execute_result"
    }
   ],
   "source": [
    "d1"
   ]
  },
  {
   "cell_type": "code",
   "execution_count": 50,
   "id": "81576a7e-37f0-480e-a9c9-2522db779fad",
   "metadata": {},
   "outputs": [],
   "source": [
    "# Key should always be unique\n",
    "# DataType of key and value can be anything and in any combination"
   ]
  },
  {
   "cell_type": "code",
   "execution_count": 51,
   "id": "f2b017a4-67c0-4a47-bd8c-26c62d9ad79c",
   "metadata": {},
   "outputs": [],
   "source": [
    "d2 = {\"name\" : \"anu\" ,\"name\": \"Anushka\"}"
   ]
  },
  {
   "cell_type": "code",
   "execution_count": 52,
   "id": "640eadbc-7bde-4094-9467-ccfe3d364e0c",
   "metadata": {},
   "outputs": [
    {
     "data": {
      "text/plain": [
       "{'name': 'Anushka'}"
      ]
     },
     "execution_count": 52,
     "metadata": {},
     "output_type": "execute_result"
    }
   ],
   "source": [
    "d2"
   ]
  },
  {
   "cell_type": "code",
   "execution_count": 53,
   "id": "2154c8f4-3096-44fd-ae3e-013be1018e02",
   "metadata": {},
   "outputs": [],
   "source": [
    "d3 = {1232223 : \"ansha\"}\n",
    "#Can take number as a key"
   ]
  },
  {
   "cell_type": "code",
   "execution_count": 54,
   "id": "b3458b7c-2a4e-4000-a222-2dc710575cb6",
   "metadata": {},
   "outputs": [
    {
     "data": {
      "text/plain": [
       "{1232223: 'ansha'}"
      ]
     },
     "execution_count": 54,
     "metadata": {},
     "output_type": "execute_result"
    }
   ],
   "source": [
    "d3"
   ]
  },
  {
   "cell_type": "code",
   "execution_count": 59,
   "id": "8285b184-a71e-4868-bbee-7be4f5abbec9",
   "metadata": {},
   "outputs": [],
   "source": [
    "d4 = {234.56 : \"Apple\"}"
   ]
  },
  {
   "cell_type": "code",
   "execution_count": 57,
   "id": "8841552a-5d13-4250-85c5-08f7f1de7914",
   "metadata": {},
   "outputs": [],
   "source": [
    "d5 = {True : \"ok\"}"
   ]
  },
  {
   "cell_type": "code",
   "execution_count": 58,
   "id": "58c5fcf5-15c5-477c-9239-d69b896ba748",
   "metadata": {},
   "outputs": [
    {
     "data": {
      "text/plain": [
       "{True: 'ok'}"
      ]
     },
     "execution_count": 58,
     "metadata": {},
     "output_type": "execute_result"
    }
   ],
   "source": [
    "d5"
   ]
  },
  {
   "cell_type": "code",
   "execution_count": 60,
   "id": "c12a1fbf-155f-43ea-a304-9b18c3afe8b7",
   "metadata": {},
   "outputs": [
    {
     "ename": "SyntaxError",
     "evalue": "incomplete input (36680248.py, line 1)",
     "output_type": "error",
     "traceback": [
      "\u001b[0;36m  Cell \u001b[0;32mIn[60], line 1\u001b[0;36m\u001b[0m\n\u001b[0;31m    d6 = {# : \"abc\"}\u001b[0m\n\u001b[0m                    ^\u001b[0m\n\u001b[0;31mSyntaxError\u001b[0m\u001b[0;31m:\u001b[0m incomplete input\n"
     ]
    }
   ],
   "source": [
    "#Can't take Special Characters as key, if taken in double quotes, can be used\n",
    "d6 = {# : \"abc\"}"
   ]
  },
  {
   "cell_type": "code",
   "execution_count": 61,
   "id": "528b3ef2-6ba6-4667-b4b9-b0b27a1ff4f2",
   "metadata": {},
   "outputs": [
    {
     "ename": "SyntaxError",
     "evalue": "invalid syntax (630726308.py, line 1)",
     "output_type": "error",
     "traceback": [
      "\u001b[0;36m  Cell \u001b[0;32mIn[61], line 1\u001b[0;36m\u001b[0m\n\u001b[0;31m    d7 = {@ : \"abc\"}\u001b[0m\n\u001b[0m          ^\u001b[0m\n\u001b[0;31mSyntaxError\u001b[0m\u001b[0;31m:\u001b[0m invalid syntax\n"
     ]
    }
   ],
   "source": [
    "d7 = {@ : \"abc\"}"
   ]
  },
  {
   "cell_type": "code",
   "execution_count": 62,
   "id": "a1d4fcfb-3fdc-4601-9c9e-fe11fdee12c0",
   "metadata": {},
   "outputs": [
    {
     "ename": "TypeError",
     "evalue": "unhashable type: 'list'",
     "output_type": "error",
     "traceback": [
      "\u001b[0;31m---------------------------------------------------------------------------\u001b[0m",
      "\u001b[0;31mTypeError\u001b[0m                                 Traceback (most recent call last)",
      "Cell \u001b[0;32mIn[62], line 1\u001b[0m\n\u001b[0;32m----> 1\u001b[0m d8 \u001b[38;5;241m=\u001b[39m {[\u001b[38;5;241m12\u001b[39m,\u001b[38;5;241m23\u001b[39m,\u001b[38;5;241m34\u001b[39m] : \u001b[38;5;124m\"\u001b[39m\u001b[38;5;124mabc\u001b[39m\u001b[38;5;124m\"\u001b[39m}\n",
      "\u001b[0;31mTypeError\u001b[0m: unhashable type: 'list'"
     ]
    }
   ],
   "source": [
    "d8 = {[12,23,34] : \"abc\"}\n",
    "#Can't take list as key"
   ]
  },
  {
   "cell_type": "code",
   "execution_count": 63,
   "id": "9f233697-edc0-4df1-8e70-24abf308ca52",
   "metadata": {},
   "outputs": [],
   "source": [
    "d9 = {(12,2,3) : \"abc\"}"
   ]
  },
  {
   "cell_type": "code",
   "execution_count": 64,
   "id": "e0ad5d7d-cad6-4517-add7-100283904e95",
   "metadata": {},
   "outputs": [
    {
     "data": {
      "text/plain": [
       "{(12, 2, 3): 'abc'}"
      ]
     },
     "execution_count": 64,
     "metadata": {},
     "output_type": "execute_result"
    }
   ],
   "source": [
    "d9"
   ]
  },
  {
   "cell_type": "code",
   "execution_count": 65,
   "id": "16f3f639-73a4-4e8d-bed9-c92d80fedb3c",
   "metadata": {},
   "outputs": [
    {
     "ename": "TypeError",
     "evalue": "unhashable type: 'set'",
     "output_type": "error",
     "traceback": [
      "\u001b[0;31m---------------------------------------------------------------------------\u001b[0m",
      "\u001b[0;31mTypeError\u001b[0m                                 Traceback (most recent call last)",
      "Cell \u001b[0;32mIn[65], line 1\u001b[0m\n\u001b[0;32m----> 1\u001b[0m d10 \u001b[38;5;241m=\u001b[39m {{\u001b[38;5;241m1\u001b[39m,\u001b[38;5;241m2\u001b[39m,\u001b[38;5;241m2\u001b[39m} : \u001b[38;5;124m\"\u001b[39m\u001b[38;5;124mAbc\u001b[39m\u001b[38;5;124m\"\u001b[39m}\n",
      "\u001b[0;31mTypeError\u001b[0m: unhashable type: 'set'"
     ]
    }
   ],
   "source": [
    "d10 = {{1,2,2} : \"Abc\"}"
   ]
  },
  {
   "cell_type": "code",
   "execution_count": 66,
   "id": "9303817a-2967-4077-9426-3fefa0c3d986",
   "metadata": {},
   "outputs": [
    {
     "ename": "TypeError",
     "evalue": "unhashable type: 'dict'",
     "output_type": "error",
     "traceback": [
      "\u001b[0;31m---------------------------------------------------------------------------\u001b[0m",
      "\u001b[0;31mTypeError\u001b[0m                                 Traceback (most recent call last)",
      "Cell \u001b[0;32mIn[66], line 1\u001b[0m\n\u001b[0;32m----> 1\u001b[0m d11 \u001b[38;5;241m=\u001b[39m {{\u001b[38;5;124m\"\u001b[39m\u001b[38;5;124mkey\u001b[39m\u001b[38;5;124m\"\u001b[39m :\u001b[38;5;241m234\u001b[39m} : \u001b[38;5;124m\"\u001b[39m\u001b[38;5;124mabc\u001b[39m\u001b[38;5;124m\"\u001b[39m}\n",
      "\u001b[0;31mTypeError\u001b[0m: unhashable type: 'dict'"
     ]
    }
   ],
   "source": [
    "d11 = {{\"key\" :234} : \"abc\"}"
   ]
  },
  {
   "cell_type": "code",
   "execution_count": 67,
   "id": "a4ab1d49-574d-47c7-8da7-83457540a348",
   "metadata": {},
   "outputs": [],
   "source": [
    "##IMPORTANT\n",
    "#From a collection point of view, only tuples can be taken as a key"
   ]
  },
  {
   "cell_type": "code",
   "execution_count": 68,
   "id": "91c0bd85-4f78-48a6-bba0-66ef522bd6e4",
   "metadata": {},
   "outputs": [],
   "source": [
    "d12 = {\"course_name\" : [\"data Science\", \"web dev\", \"Java with dsa\"]}"
   ]
  },
  {
   "cell_type": "code",
   "execution_count": 69,
   "id": "769f2db4-fbc1-4741-a5cb-4c6e7a3433b4",
   "metadata": {},
   "outputs": [
    {
     "data": {
      "text/plain": [
       "{'course_name': ['data Science', 'web dev', 'Java with dsa']}"
      ]
     },
     "execution_count": 69,
     "metadata": {},
     "output_type": "execute_result"
    }
   ],
   "source": [
    "d12\n",
    "#Can take list as a value"
   ]
  },
  {
   "cell_type": "code",
   "execution_count": 70,
   "id": "c2ef7b9e-7771-4e36-9b14-85436219d764",
   "metadata": {},
   "outputs": [],
   "source": [
    "d13 = {\"key\" : (1,2,3,4)}"
   ]
  },
  {
   "cell_type": "code",
   "execution_count": 71,
   "id": "3619e1e6-005f-4a11-87c8-c41bd0704c10",
   "metadata": {},
   "outputs": [
    {
     "data": {
      "text/plain": [
       "{'key': (1, 2, 3, 4)}"
      ]
     },
     "execution_count": 71,
     "metadata": {},
     "output_type": "execute_result"
    }
   ],
   "source": [
    "d13\n",
    "#Can take tuple as a value"
   ]
  },
  {
   "cell_type": "code",
   "execution_count": 73,
   "id": "2286db6e-ea9e-4ff1-ad00-b38b49269731",
   "metadata": {},
   "outputs": [],
   "source": [
    "d14 = {\"key\": {1,2,3,5}}\n",
    "#Can take set as a value"
   ]
  },
  {
   "cell_type": "code",
   "execution_count": 18,
   "id": "e7bad812-90cd-41bf-821e-765e10cda443",
   "metadata": {},
   "outputs": [],
   "source": [
    "d15 = {\"key\": {\"name\" : \"anushka\", \"class\" : 'DSM'}}\n",
    "#Can take dictionary as a value [Nested dictionary]"
   ]
  },
  {
   "cell_type": "code",
   "execution_count": 2,
   "id": "4b1a4d88-b880-491e-b4ba-6c9b9d6360fa",
   "metadata": {},
   "outputs": [],
   "source": [
    "d16 = {\"batch_name\" : [\"data science masters\", \"web dev\", \"JDS\"], \"start_date\" :(28,14,21), \"Mentor_name\" : {\"Sudhanshu\",\"Krish\",\"Hitesh\",\"Anurag\",\"Navin\",\"Haider\"}}"
   ]
  },
  {
   "cell_type": "code",
   "execution_count": 3,
   "id": "5f1efaa5-099e-449e-8ad6-aa055d307fc0",
   "metadata": {},
   "outputs": [
    {
     "data": {
      "text/plain": [
       "{'batch_name': ['data science masters', 'web dev', 'JDS'],\n",
       " 'start_date': (28, 14, 21),\n",
       " 'Mentor_name': {'Anurag', 'Haider', 'Hitesh', 'Krish', 'Navin', 'Sudhanshu'}}"
      ]
     },
     "execution_count": 3,
     "metadata": {},
     "output_type": "execute_result"
    }
   ],
   "source": [
    "d16"
   ]
  },
  {
   "cell_type": "code",
   "execution_count": 4,
   "id": "b47dc98e-4e82-4ae4-8881-c4a03839446a",
   "metadata": {},
   "outputs": [],
   "source": [
    "d16[\"timing\"] = (8,8,8)"
   ]
  },
  {
   "cell_type": "code",
   "execution_count": 5,
   "id": "b2344ac3-d272-4b89-85be-240ca46c8087",
   "metadata": {},
   "outputs": [
    {
     "data": {
      "text/plain": [
       "{'batch_name': ['data science masters', 'web dev', 'JDS'],\n",
       " 'start_date': (28, 14, 21),\n",
       " 'Mentor_name': {'Anurag', 'Haider', 'Hitesh', 'Krish', 'Navin', 'Sudhanshu'},\n",
       " 'timing': (8, 8, 8)}"
      ]
     },
     "execution_count": 5,
     "metadata": {},
     "output_type": "execute_result"
    }
   ],
   "source": [
    "d16"
   ]
  },
  {
   "cell_type": "code",
   "execution_count": 6,
   "id": "83bd89ed-0b79-4bd2-9089-8ae8a10a0182",
   "metadata": {},
   "outputs": [],
   "source": [
    "#Extract first element value"
   ]
  },
  {
   "cell_type": "code",
   "execution_count": 7,
   "id": "636b8b76-337d-4fad-85a6-7297efeb91fd",
   "metadata": {},
   "outputs": [
    {
     "data": {
      "text/plain": [
       "['data science masters', 'web dev', 'JDS']"
      ]
     },
     "execution_count": 7,
     "metadata": {},
     "output_type": "execute_result"
    }
   ],
   "source": [
    "d16[\"batch_name\"]"
   ]
  },
  {
   "cell_type": "code",
   "execution_count": 8,
   "id": "6880abfc-1f87-4b30-a897-3e05ab68e756",
   "metadata": {},
   "outputs": [
    {
     "data": {
      "text/plain": [
       "{'Anurag', 'Haider', 'Hitesh', 'Krish', 'Navin', 'Sudhanshu'}"
      ]
     },
     "execution_count": 8,
     "metadata": {},
     "output_type": "execute_result"
    }
   ],
   "source": [
    "d16['Mentor_name']"
   ]
  },
  {
   "cell_type": "code",
   "execution_count": 9,
   "id": "68f59e74-7f4d-4dc0-a59f-5443c396d16a",
   "metadata": {},
   "outputs": [
    {
     "data": {
      "text/plain": [
       "set"
      ]
     },
     "execution_count": 9,
     "metadata": {},
     "output_type": "execute_result"
    }
   ],
   "source": [
    "type(d16['Mentor_name'])"
   ]
  },
  {
   "cell_type": "code",
   "execution_count": 11,
   "id": "203b646a-9848-4397-baef-7a99cfd32708",
   "metadata": {},
   "outputs": [
    {
     "ename": "KeyError",
     "evalue": "'key'",
     "output_type": "error",
     "traceback": [
      "\u001b[0;31m---------------------------------------------------------------------------\u001b[0m",
      "\u001b[0;31mKeyError\u001b[0m                                  Traceback (most recent call last)",
      "Cell \u001b[0;32mIn[11], line 1\u001b[0m\n\u001b[0;32m----> 1\u001b[0m \u001b[43md16\u001b[49m\u001b[43m[\u001b[49m\u001b[38;5;124;43m'\u001b[39;49m\u001b[38;5;124;43mkey\u001b[39;49m\u001b[38;5;124;43m'\u001b[39;49m\u001b[43m]\u001b[49m\n",
      "\u001b[0;31mKeyError\u001b[0m: 'key'"
     ]
    }
   ],
   "source": [
    "d16['key']\n",
    "#error when key is not found in the dictionary"
   ]
  },
  {
   "cell_type": "code",
   "execution_count": 12,
   "id": "58fe4c97-6021-4522-9792-6d89810b2e44",
   "metadata": {},
   "outputs": [],
   "source": [
    "d16['name'] = \"anushka\""
   ]
  },
  {
   "cell_type": "code",
   "execution_count": 13,
   "id": "ad86e190-5c37-47d1-92aa-b27ce5728beb",
   "metadata": {},
   "outputs": [
    {
     "data": {
      "text/plain": [
       "{'batch_name': ['data science masters', 'web dev', 'JDS'],\n",
       " 'start_date': (28, 14, 21),\n",
       " 'Mentor_name': {'Anurag', 'Haider', 'Hitesh', 'Krish', 'Navin', 'Sudhanshu'},\n",
       " 'timing': (8, 8, 8),\n",
       " 'name': 'anushka'}"
      ]
     },
     "execution_count": 13,
     "metadata": {},
     "output_type": "execute_result"
    }
   ],
   "source": [
    "d16"
   ]
  },
  {
   "cell_type": "code",
   "execution_count": 14,
   "id": "b22d74b8-40d5-415b-b820-5f25c28c9545",
   "metadata": {},
   "outputs": [
    {
     "data": {
      "text/plain": [
       "'anushka'"
      ]
     },
     "execution_count": 14,
     "metadata": {},
     "output_type": "execute_result"
    }
   ],
   "source": [
    "d16['name']"
   ]
  },
  {
   "cell_type": "code",
   "execution_count": 16,
   "id": "ff54de7c-bbae-49ad-b4b0-09f808f01349",
   "metadata": {},
   "outputs": [
    {
     "data": {
      "text/plain": [
       "'ANUSHKA'"
      ]
     },
     "execution_count": 16,
     "metadata": {},
     "output_type": "execute_result"
    }
   ],
   "source": [
    "d16['name'].upper()"
   ]
  },
  {
   "cell_type": "code",
   "execution_count": 17,
   "id": "24834fe4-9c8f-406e-a3b5-2b4dfb08257f",
   "metadata": {},
   "outputs": [
    {
     "data": {
      "text/plain": [
       "{'batch_name': ['data science masters', 'web dev', 'JDS'],\n",
       " 'start_date': (28, 14, 21),\n",
       " 'Mentor_name': {'Anurag', 'Haider', 'Hitesh', 'Krish', 'Navin', 'Sudhanshu'},\n",
       " 'timing': (8, 8, 8),\n",
       " 'name': 'anushka'}"
      ]
     },
     "execution_count": 17,
     "metadata": {},
     "output_type": "execute_result"
    }
   ],
   "source": [
    "d16"
   ]
  },
  {
   "cell_type": "code",
   "execution_count": 19,
   "id": "d8603a09-5f30-403a-b2e4-06b9d42ec4b6",
   "metadata": {},
   "outputs": [
    {
     "data": {
      "text/plain": [
       "{'key': {'name': 'anushka', 'class': 'DSM'}}"
      ]
     },
     "execution_count": 19,
     "metadata": {},
     "output_type": "execute_result"
    }
   ],
   "source": [
    "d15\n",
    "# Extracting a value from a nested dictionary"
   ]
  },
  {
   "cell_type": "code",
   "execution_count": 21,
   "id": "8912bc5b-2523-464a-be84-50f2714ceecc",
   "metadata": {},
   "outputs": [],
   "source": [
    "d17 = d15['key']"
   ]
  },
  {
   "cell_type": "code",
   "execution_count": 24,
   "id": "855ab1fb-4f2e-4187-98db-8b4d1dfb9258",
   "metadata": {},
   "outputs": [
    {
     "data": {
      "text/plain": [
       "'DSM'"
      ]
     },
     "execution_count": 24,
     "metadata": {},
     "output_type": "execute_result"
    }
   ],
   "source": [
    "d17['class']"
   ]
  },
  {
   "cell_type": "code",
   "execution_count": 25,
   "id": "0b75705b-141f-4e45-859b-4031d5ff03cb",
   "metadata": {},
   "outputs": [],
   "source": [
    "# Another way \n"
   ]
  },
  {
   "cell_type": "code",
   "execution_count": 26,
   "id": "0e29010c-7ed4-4cc9-8f77-4d164fc11391",
   "metadata": {},
   "outputs": [
    {
     "data": {
      "text/plain": [
       "'DSM'"
      ]
     },
     "execution_count": 26,
     "metadata": {},
     "output_type": "execute_result"
    }
   ],
   "source": [
    "d15['key']['class']"
   ]
  },
  {
   "cell_type": "code",
   "execution_count": 36,
   "id": "a7da9f0a-d4b0-49a5-862a-b63ec9527377",
   "metadata": {},
   "outputs": [],
   "source": [
    "#Add a key value\n",
    "d15['key1'] = \"abc\""
   ]
  },
  {
   "cell_type": "code",
   "execution_count": 37,
   "id": "6bbf1e22-b012-4ae9-81d9-9018ed15bba2",
   "metadata": {},
   "outputs": [
    {
     "data": {
      "text/plain": [
       "{'key': {'name': 'anushka', 'class': 'DSM'}, 'key1': 'abc'}"
      ]
     },
     "execution_count": 37,
     "metadata": {},
     "output_type": "execute_result"
    }
   ],
   "source": [
    "d15"
   ]
  },
  {
   "cell_type": "code",
   "execution_count": 38,
   "id": "2329eb50-b422-49ba-bb05-d4e9b2627dce",
   "metadata": {},
   "outputs": [],
   "source": [
    "#delete a pair from dict\n",
    "del d15['key1']"
   ]
  },
  {
   "cell_type": "code",
   "execution_count": 39,
   "id": "c4fba5c2-c393-4d7c-83d2-61a6ec2dabe9",
   "metadata": {},
   "outputs": [
    {
     "data": {
      "text/plain": [
       "{'key': {'name': 'anushka', 'class': 'DSM'}}"
      ]
     },
     "execution_count": 39,
     "metadata": {},
     "output_type": "execute_result"
    }
   ],
   "source": [
    "d15"
   ]
  },
  {
   "cell_type": "code",
   "execution_count": 40,
   "id": "922e3c50-cce9-455c-b5ba-f0a74e774434",
   "metadata": {},
   "outputs": [],
   "source": [
    "d15.clear()"
   ]
  },
  {
   "cell_type": "code",
   "execution_count": 41,
   "id": "8a65f550-cb0c-4003-b1eb-22d98924e505",
   "metadata": {},
   "outputs": [
    {
     "data": {
      "text/plain": [
       "{}"
      ]
     },
     "execution_count": 41,
     "metadata": {},
     "output_type": "execute_result"
    }
   ],
   "source": [
    "d15"
   ]
  },
  {
   "cell_type": "code",
   "execution_count": 43,
   "id": "539f9975-df4d-4add-a673-7d18f98301bd",
   "metadata": {},
   "outputs": [
    {
     "data": {
      "text/plain": [
       "5"
      ]
     },
     "execution_count": 43,
     "metadata": {},
     "output_type": "execute_result"
    }
   ],
   "source": [
    "len(d16)"
   ]
  },
  {
   "cell_type": "code",
   "execution_count": 44,
   "id": "3768785e-bb0a-4c2c-bf18-0019fffd92fd",
   "metadata": {},
   "outputs": [
    {
     "data": {
      "text/plain": [
       "dict_keys(['batch_name', 'start_date', 'Mentor_name', 'timing', 'name'])"
      ]
     },
     "execution_count": 44,
     "metadata": {},
     "output_type": "execute_result"
    }
   ],
   "source": [
    "d16.keys()\n",
    "#Will give all the keys in the dictionary"
   ]
  },
  {
   "cell_type": "code",
   "execution_count": 45,
   "id": "22d25e0c-cf33-4eaa-945e-83e632b09102",
   "metadata": {},
   "outputs": [
    {
     "data": {
      "text/plain": [
       "dict_values([['data science masters', 'web dev', 'JDS'], (28, 14, 21), {'Krish', 'Navin', 'Anurag', 'Hitesh', 'Sudhanshu', 'Haider'}, (8, 8, 8), 'anushka'])"
      ]
     },
     "execution_count": 45,
     "metadata": {},
     "output_type": "execute_result"
    }
   ],
   "source": [
    "d16.values()\n"
   ]
  },
  {
   "cell_type": "code",
   "execution_count": 47,
   "id": "985c8805-4f89-434d-98d7-de53ec0b8518",
   "metadata": {},
   "outputs": [
    {
     "data": {
      "text/plain": [
       "[['data science masters', 'web dev', 'JDS'],\n",
       " (28, 14, 21),\n",
       " {'Anurag', 'Haider', 'Hitesh', 'Krish', 'Navin', 'Sudhanshu'},\n",
       " (8, 8, 8),\n",
       " 'anushka']"
      ]
     },
     "execution_count": 47,
     "metadata": {},
     "output_type": "execute_result"
    }
   ],
   "source": [
    "#Convert the above value tuple into list\n",
    "list(d16.values())"
   ]
  },
  {
   "cell_type": "code",
   "execution_count": 48,
   "id": "b9ba37b7-bf48-44f7-8399-88afb330643b",
   "metadata": {},
   "outputs": [
    {
     "data": {
      "text/plain": [
       "dict_items([('batch_name', ['data science masters', 'web dev', 'JDS']), ('start_date', (28, 14, 21)), ('Mentor_name', {'Krish', 'Navin', 'Anurag', 'Hitesh', 'Sudhanshu', 'Haider'}), ('timing', (8, 8, 8)), ('name', 'anushka')])"
      ]
     },
     "execution_count": 48,
     "metadata": {},
     "output_type": "execute_result"
    }
   ],
   "source": [
    "#Extract a list of both key & value pair\n",
    "d16.items()"
   ]
  },
  {
   "cell_type": "code",
   "execution_count": 49,
   "id": "33b17ab5-7c47-4c1e-b863-4e5653ca8865",
   "metadata": {},
   "outputs": [
    {
     "data": {
      "text/plain": [
       "[('batch_name', ['data science masters', 'web dev', 'JDS']),\n",
       " ('start_date', (28, 14, 21)),\n",
       " ('Mentor_name',\n",
       "  {'Anurag', 'Haider', 'Hitesh', 'Krish', 'Navin', 'Sudhanshu'}),\n",
       " ('timing', (8, 8, 8)),\n",
       " ('name', 'anushka')]"
      ]
     },
     "execution_count": 49,
     "metadata": {},
     "output_type": "execute_result"
    }
   ],
   "source": [
    "list(d16.items())"
   ]
  },
  {
   "cell_type": "code",
   "execution_count": 50,
   "id": "53413502-928d-435d-964b-4b487aec6fd3",
   "metadata": {},
   "outputs": [],
   "source": [
    "# create a replica of a dictionary\n",
    "d17 = d16.copy()"
   ]
  },
  {
   "cell_type": "code",
   "execution_count": 51,
   "id": "6dfb1f71-3f30-47d4-b28d-d2ac9e3ec359",
   "metadata": {},
   "outputs": [
    {
     "data": {
      "text/plain": [
       "{'batch_name': ['data science masters', 'web dev', 'JDS'],\n",
       " 'start_date': (28, 14, 21),\n",
       " 'Mentor_name': {'Anurag', 'Haider', 'Hitesh', 'Krish', 'Navin', 'Sudhanshu'},\n",
       " 'timing': (8, 8, 8),\n",
       " 'name': 'anushka'}"
      ]
     },
     "execution_count": 51,
     "metadata": {},
     "output_type": "execute_result"
    }
   ],
   "source": [
    "d17\n",
    "#deep copy of d16\n",
    "# it is a deep copy , a new memory is created to store the dictionary. Any changes to d16 will not affect d18"
   ]
  },
  {
   "cell_type": "code",
   "execution_count": 52,
   "id": "a057f728-a034-4479-acfe-af55700c2caf",
   "metadata": {},
   "outputs": [],
   "source": [
    "#Another way \n",
    "d18 = d16\n",
    "# here the same dict is stored in the same memory. Any changes to d16 will affect d18"
   ]
  },
  {
   "cell_type": "code",
   "execution_count": 53,
   "id": "a9ec1322-36bc-4c0e-8370-2223ab9c09c8",
   "metadata": {},
   "outputs": [],
   "source": [
    "del d16[\"name\"]"
   ]
  },
  {
   "cell_type": "code",
   "execution_count": 54,
   "id": "75debcb1-2f9f-494a-b510-9223f57018b7",
   "metadata": {},
   "outputs": [
    {
     "data": {
      "text/plain": [
       "{'batch_name': ['data science masters', 'web dev', 'JDS'],\n",
       " 'start_date': (28, 14, 21),\n",
       " 'Mentor_name': {'Anurag', 'Haider', 'Hitesh', 'Krish', 'Navin', 'Sudhanshu'},\n",
       " 'timing': (8, 8, 8)}"
      ]
     },
     "execution_count": 54,
     "metadata": {},
     "output_type": "execute_result"
    }
   ],
   "source": [
    "d16"
   ]
  },
  {
   "cell_type": "code",
   "execution_count": 55,
   "id": "cad414d9-c95e-4280-bfb3-da9f9caa5c32",
   "metadata": {},
   "outputs": [
    {
     "data": {
      "text/plain": [
       "{'batch_name': ['data science masters', 'web dev', 'JDS'],\n",
       " 'start_date': (28, 14, 21),\n",
       " 'Mentor_name': {'Anurag', 'Haider', 'Hitesh', 'Krish', 'Navin', 'Sudhanshu'},\n",
       " 'timing': (8, 8, 8)}"
      ]
     },
     "execution_count": 55,
     "metadata": {},
     "output_type": "execute_result"
    }
   ],
   "source": [
    "d18\n",
    "#Swallow copy of d16"
   ]
  },
  {
   "cell_type": "code",
   "execution_count": 56,
   "id": "0673ac7d-d657-4137-812c-52d503b19d4f",
   "metadata": {},
   "outputs": [],
   "source": [
    "# Name is not available in both d16 & d18"
   ]
  },
  {
   "cell_type": "code",
   "execution_count": 57,
   "id": "95c686bb-8dbc-4b73-8a0f-05004c742170",
   "metadata": {},
   "outputs": [
    {
     "ename": "TypeError",
     "evalue": "pop expected at least 1 argument, got 0",
     "output_type": "error",
     "traceback": [
      "\u001b[0;31m---------------------------------------------------------------------------\u001b[0m",
      "\u001b[0;31mTypeError\u001b[0m                                 Traceback (most recent call last)",
      "Cell \u001b[0;32mIn[57], line 1\u001b[0m\n\u001b[0;32m----> 1\u001b[0m \u001b[43md16\u001b[49m\u001b[38;5;241;43m.\u001b[39;49m\u001b[43mpop\u001b[49m\u001b[43m(\u001b[49m\u001b[43m)\u001b[49m\n",
      "\u001b[0;31mTypeError\u001b[0m: pop expected at least 1 argument, got 0"
     ]
    }
   ],
   "source": [
    "d16.pop()"
   ]
  },
  {
   "cell_type": "code",
   "execution_count": 58,
   "id": "369b71cc-29a5-4139-8f0f-53d440dc7356",
   "metadata": {},
   "outputs": [
    {
     "data": {
      "text/plain": [
       "(8, 8, 8)"
      ]
     },
     "execution_count": 58,
     "metadata": {},
     "output_type": "execute_result"
    }
   ],
   "source": [
    "d16.pop(\"timing\")"
   ]
  },
  {
   "cell_type": "code",
   "execution_count": 59,
   "id": "a78c5719-ba53-4f5e-9a8e-69bbba7a3dc0",
   "metadata": {},
   "outputs": [
    {
     "data": {
      "text/plain": [
       "{'batch_name': ['data science masters', 'web dev', 'JDS'],\n",
       " 'start_date': (28, 14, 21),\n",
       " 'Mentor_name': {'Anurag', 'Haider', 'Hitesh', 'Krish', 'Navin', 'Sudhanshu'}}"
      ]
     },
     "execution_count": 59,
     "metadata": {},
     "output_type": "execute_result"
    }
   ],
   "source": [
    "d16"
   ]
  },
  {
   "cell_type": "code",
   "execution_count": 60,
   "id": "c7f67f74-87fa-4c63-a3fe-22db9182dd38",
   "metadata": {},
   "outputs": [
    {
     "data": {
      "text/plain": [
       "{'Anurag', 'Haider', 'Hitesh', 'Krish', 'Navin', 'Sudhanshu'}"
      ]
     },
     "execution_count": 60,
     "metadata": {},
     "output_type": "execute_result"
    }
   ],
   "source": [
    "d16.pop(\"Mentor_name\")"
   ]
  },
  {
   "cell_type": "code",
   "execution_count": 61,
   "id": "3bc990ce-eda3-48ee-8185-51e1728f061b",
   "metadata": {},
   "outputs": [
    {
     "data": {
      "text/plain": [
       "{'batch_name': ['data science masters', 'web dev', 'JDS'],\n",
       " 'start_date': (28, 14, 21)}"
      ]
     },
     "execution_count": 61,
     "metadata": {},
     "output_type": "execute_result"
    }
   ],
   "source": [
    "d16"
   ]
  },
  {
   "cell_type": "code",
   "execution_count": 62,
   "id": "51e86157-4106-4929-a575-9e65c85a3e06",
   "metadata": {},
   "outputs": [],
   "source": [
    "#fromkeys : it is used to create multiple key value pair"
   ]
  },
  {
   "cell_type": "code",
   "execution_count": 68,
   "id": "7016389b-5a10-45e6-a418-012ad80a1da3",
   "metadata": {},
   "outputs": [],
   "source": [
    "d = {}"
   ]
  },
  {
   "cell_type": "code",
   "execution_count": 69,
   "id": "192a7a62-cacb-47e9-8257-11ea11dea351",
   "metadata": {},
   "outputs": [
    {
     "data": {
      "text/plain": [
       "{1: ('a', 'b', 'c'), 2: ('a', 'b', 'c'), 3: ('a', 'b', 'c')}"
      ]
     },
     "execution_count": 69,
     "metadata": {},
     "output_type": "execute_result"
    }
   ],
   "source": [
    "d.fromkeys((1,2,3) , ('a','b','c'))"
   ]
  },
  {
   "cell_type": "code",
   "execution_count": 71,
   "id": "858bb637-95e7-4593-8b71-7b489ae5c53e",
   "metadata": {},
   "outputs": [],
   "source": [
    "d19 = {\"key1\" : \"value1\" , \"key2\" : \"value2\"}\n",
    "d20 = {\"key3\" : \"value3\" , \"key4\" : \"value4\"}"
   ]
  },
  {
   "cell_type": "code",
   "execution_count": 72,
   "id": "dbed418d-909f-481d-9116-b9881926cd66",
   "metadata": {},
   "outputs": [
    {
     "data": {
      "text/plain": [
       "({'key1': 'value1', 'key2': 'value2'}, {'key3': 'value3', 'key4': 'value4'})"
      ]
     },
     "execution_count": 72,
     "metadata": {},
     "output_type": "execute_result"
    }
   ],
   "source": [
    "# adding both dictionary into single tuple\n",
    "(d19,d20)"
   ]
  },
  {
   "cell_type": "code",
   "execution_count": 75,
   "id": "b34e8a76-7fd0-45a5-9c75-b735698d9d27",
   "metadata": {},
   "outputs": [],
   "source": [
    "d19.update(d20)\n",
    "# d19 copied the dic values into d20"
   ]
  },
  {
   "cell_type": "code",
   "execution_count": 76,
   "id": "ad7bc3f8-d647-4e94-aa91-0ae5112e06fe",
   "metadata": {},
   "outputs": [
    {
     "data": {
      "text/plain": [
       "{'key1': 'value1', 'key2': 'value2', 'key3': 'value3', 'key4': 'value4'}"
      ]
     },
     "execution_count": 76,
     "metadata": {},
     "output_type": "execute_result"
    }
   ],
   "source": [
    "d19"
   ]
  },
  {
   "cell_type": "code",
   "execution_count": 77,
   "id": "acff9c16-447a-449d-95be-34b37858a9d0",
   "metadata": {},
   "outputs": [
    {
     "data": {
      "text/plain": [
       "{'key3': 'value3', 'key4': 'value4'}"
      ]
     },
     "execution_count": 77,
     "metadata": {},
     "output_type": "execute_result"
    }
   ],
   "source": [
    "d20"
   ]
  },
  {
   "cell_type": "code",
   "execution_count": 78,
   "id": "cd766369-fe1f-4dbb-9818-ce90e9b5360c",
   "metadata": {},
   "outputs": [],
   "source": [
    "d20.update(d19)"
   ]
  },
  {
   "cell_type": "code",
   "execution_count": 79,
   "id": "50a92e9d-b37a-4e6d-b918-1046c598e37c",
   "metadata": {},
   "outputs": [
    {
     "data": {
      "text/plain": [
       "{'key3': 'value3', 'key4': 'value4', 'key1': 'value1', 'key2': 'value2'}"
      ]
     },
     "execution_count": 79,
     "metadata": {},
     "output_type": "execute_result"
    }
   ],
   "source": [
    "d20"
   ]
  },
  {
   "cell_type": "code",
   "execution_count": 80,
   "id": "cf202b14-8a2c-413b-b46c-750c18083052",
   "metadata": {},
   "outputs": [],
   "source": [
    "#Get function"
   ]
  },
  {
   "cell_type": "code",
   "execution_count": 81,
   "id": "6bc4dce2-815e-4cc3-b4e6-655503f810d4",
   "metadata": {},
   "outputs": [],
   "source": [
    "d20.get(\"sudh\")"
   ]
  },
  {
   "cell_type": "code",
   "execution_count": 82,
   "id": "4bb222e9-27ab-4728-a4e8-8138b6a0bde6",
   "metadata": {},
   "outputs": [],
   "source": [
    "# Its not returning anything as sudh key is not present"
   ]
  },
  {
   "cell_type": "code",
   "execution_count": 83,
   "id": "2ef3bd19-f79d-4158-8688-a30f8853cdd2",
   "metadata": {},
   "outputs": [
    {
     "data": {
      "text/plain": [
       "'value3'"
      ]
     },
     "execution_count": 83,
     "metadata": {},
     "output_type": "execute_result"
    }
   ],
   "source": [
    "d20.get(\"key3\")"
   ]
  },
  {
   "cell_type": "code",
   "execution_count": 84,
   "id": "8379f5fd-d60e-4f47-af70-129b78d06c74",
   "metadata": {},
   "outputs": [
    {
     "data": {
      "text/plain": [
       "'value3'"
      ]
     },
     "execution_count": 84,
     "metadata": {},
     "output_type": "execute_result"
    }
   ],
   "source": [
    "#Another way to extarct value without get function\n",
    "d20[\"key3\"]"
   ]
  },
  {
   "cell_type": "markdown",
   "id": "263720fc-30b4-43f9-acbb-67484c154590",
   "metadata": {},
   "source": [
    "## Dictionary Comprehension"
   ]
  },
  {
   "cell_type": "code",
   "execution_count": 85,
   "id": "71356e1a-f97f-45be-bf71-c45617545021",
   "metadata": {},
   "outputs": [],
   "source": [
    "# A dic where key can be 1-10, the values can be square of keys"
   ]
  },
  {
   "cell_type": "code",
   "execution_count": 88,
   "id": "5e87bf9b-2499-4b31-b021-ac1b7555ac3a",
   "metadata": {},
   "outputs": [
    {
     "data": {
      "text/plain": [
       "{1: 1, 2: 4, 3: 9, 4: 16, 5: 25, 6: 36, 7: 49, 8: 64, 9: 81, 10: 100}"
      ]
     },
     "execution_count": 88,
     "metadata": {},
     "output_type": "execute_result"
    }
   ],
   "source": [
    "{i : i**2 for i in range(1,11)}"
   ]
  },
  {
   "cell_type": "code",
   "execution_count": 89,
   "id": "e051fc2d-b23d-4f56-be5a-8f58452d46b0",
   "metadata": {},
   "outputs": [
    {
     "data": {
      "text/plain": [
       "{1: 11, 2: 12, 3: 13, 4: 14, 5: 15, 6: 16, 7: 17, 8: 18, 9: 19, 10: 20}"
      ]
     },
     "execution_count": 89,
     "metadata": {},
     "output_type": "execute_result"
    }
   ],
   "source": [
    "{i : i+10 for i in range(1,11)}"
   ]
  },
  {
   "cell_type": "code",
   "execution_count": 93,
   "id": "669bc241-4230-4b74-ac5e-8aa26d6fab68",
   "metadata": {},
   "outputs": [],
   "source": [
    "import math\n",
    "d21 ={i : math.log10(i) for i in range(1,11)}"
   ]
  },
  {
   "cell_type": "code",
   "execution_count": 91,
   "id": "7c5d1cca-0026-4ce8-bc0c-b935b00e951f",
   "metadata": {},
   "outputs": [
    {
     "data": {
      "text/plain": [
       "{'batch_name': ['data science masters', 'web dev', 'JDS'],\n",
       " 'start_date': (28, 14, 21)}"
      ]
     },
     "execution_count": 91,
     "metadata": {},
     "output_type": "execute_result"
    }
   ],
   "source": [
    "d16"
   ]
  },
  {
   "cell_type": "code",
   "execution_count": 92,
   "id": "fa7b17cf-3136-4c98-8992-160f4bf27e75",
   "metadata": {},
   "outputs": [
    {
     "data": {
      "text/plain": [
       "True"
      ]
     },
     "execution_count": 92,
     "metadata": {},
     "output_type": "execute_result"
    }
   ],
   "source": [
    "'batch_name' in d16"
   ]
  },
  {
   "cell_type": "code",
   "execution_count": 94,
   "id": "4de3ca78-5d62-4b3f-8f4d-e543f6a9a539",
   "metadata": {},
   "outputs": [
    {
     "data": {
      "text/plain": [
       "{1: 0.0,\n",
       " 2: 0.3010299956639812,\n",
       " 3: 0.47712125471966244,\n",
       " 4: 0.6020599913279624,\n",
       " 5: 0.6989700043360189,\n",
       " 6: 0.7781512503836436,\n",
       " 7: 0.8450980400142568,\n",
       " 8: 0.9030899869919435,\n",
       " 9: 0.9542425094393249,\n",
       " 10: 1.0}"
      ]
     },
     "execution_count": 94,
     "metadata": {},
     "output_type": "execute_result"
    }
   ],
   "source": [
    "d21"
   ]
  },
  {
   "cell_type": "code",
   "execution_count": 97,
   "id": "4b4a9b41-9f32-4fa2-b475-9d4ef23d6379",
   "metadata": {},
   "outputs": [
    {
     "name": "stdout",
     "output_type": "stream",
     "text": [
      "0.3010299956639812\n",
      "0.6020599913279624\n",
      "0.7781512503836436\n",
      "0.9030899869919435\n",
      "1.0\n"
     ]
    }
   ],
   "source": [
    "for i in d21.keys():\n",
    "    if(i%2==0):\n",
    "        print(d21[i])"
   ]
  },
  {
   "cell_type": "code",
   "execution_count": null,
   "id": "c67cde0b-9457-4a12-8929-c61f6b549ef5",
   "metadata": {},
   "outputs": [],
   "source": []
  }
 ],
 "metadata": {
  "kernelspec": {
   "display_name": "Python 3 (ipykernel)",
   "language": "python",
   "name": "python3"
  },
  "language_info": {
   "codemirror_mode": {
    "name": "ipython",
    "version": 3
   },
   "file_extension": ".py",
   "mimetype": "text/x-python",
   "name": "python",
   "nbconvert_exporter": "python",
   "pygments_lexer": "ipython3",
   "version": "3.10.8"
  }
 },
 "nbformat": 4,
 "nbformat_minor": 5
}
