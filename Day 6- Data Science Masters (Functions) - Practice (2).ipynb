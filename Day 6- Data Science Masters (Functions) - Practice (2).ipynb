{
 "cells": [
  {
   "cell_type": "code",
   "execution_count": 1,
   "id": "a1535c2e-af38-4e19-9c6e-0d9ce044485a",
   "metadata": {},
   "outputs": [
    {
     "name": "stdout",
     "output_type": "stream",
     "text": [
      "this is my prog\n"
     ]
    }
   ],
   "source": [
    "print(\"this is my prog\")"
   ]
  },
  {
   "cell_type": "code",
   "execution_count": 2,
   "id": "65031516-2a67-4d3e-968c-236a47ea3df9",
   "metadata": {},
   "outputs": [],
   "source": [
    "l = [1,2,3,4]"
   ]
  },
  {
   "cell_type": "code",
   "execution_count": 3,
   "id": "b04b77be-1db6-433f-8707-21a5d0593649",
   "metadata": {},
   "outputs": [
    {
     "data": {
      "text/plain": [
       "4"
      ]
     },
     "execution_count": 3,
     "metadata": {},
     "output_type": "execute_result"
    }
   ],
   "source": [
    "len(l)"
   ]
  },
  {
   "cell_type": "code",
   "execution_count": 4,
   "id": "088d776b-458e-464b-9f92-41606bad9659",
   "metadata": {},
   "outputs": [],
   "source": [
    "#these are built in functions"
   ]
  },
  {
   "cell_type": "code",
   "execution_count": 5,
   "id": "36a34552-bd66-46f9-bd03-864930e42056",
   "metadata": {},
   "outputs": [],
   "source": [
    "#How to create your own functions"
   ]
  },
  {
   "cell_type": "code",
   "execution_count": 6,
   "id": "0d02fddd-b596-4553-be29-346303f1653c",
   "metadata": {},
   "outputs": [],
   "source": [
    "def test():\n",
    "    pass\n",
    "    \n",
    "#def- define the function"
   ]
  },
  {
   "cell_type": "code",
   "execution_count": 7,
   "id": "5961de3d-fc20-4f72-96d2-2f48dc38aaa7",
   "metadata": {},
   "outputs": [],
   "source": [
    "def test1():\n",
    "    print(\"This is my first function\")"
   ]
  },
  {
   "cell_type": "code",
   "execution_count": 8,
   "id": "2d221096-d956-42d7-9c5a-282019b884de",
   "metadata": {},
   "outputs": [
    {
     "name": "stdout",
     "output_type": "stream",
     "text": [
      "This is my first function\n"
     ]
    }
   ],
   "source": [
    "test1()"
   ]
  },
  {
   "cell_type": "code",
   "execution_count": 9,
   "id": "78a8c14f-0acf-4720-8540-41df7de960db",
   "metadata": {},
   "outputs": [
    {
     "name": "stdout",
     "output_type": "stream",
     "text": [
      "This is my first function\n"
     ]
    },
    {
     "ename": "TypeError",
     "evalue": "unsupported operand type(s) for +: 'NoneType' and 'str'",
     "output_type": "error",
     "traceback": [
      "\u001b[0;31m---------------------------------------------------------------------------\u001b[0m",
      "\u001b[0;31mTypeError\u001b[0m                                 Traceback (most recent call last)",
      "Cell \u001b[0;32mIn[9], line 1\u001b[0m\n\u001b[0;32m----> 1\u001b[0m \u001b[43mtest1\u001b[49m\u001b[43m(\u001b[49m\u001b[43m)\u001b[49m\u001b[43m \u001b[49m\u001b[38;5;241;43m+\u001b[39;49m\u001b[43m \u001b[49m\u001b[38;5;124;43m\"\u001b[39;49m\u001b[38;5;124;43mAnu\u001b[39;49m\u001b[38;5;124;43m\"\u001b[39;49m\n",
      "\u001b[0;31mTypeError\u001b[0m: unsupported operand type(s) for +: 'NoneType' and 'str'"
     ]
    }
   ],
   "source": [
    "test1() + \"Anu\""
   ]
  },
  {
   "cell_type": "markdown",
   "id": "69dc4823-f96a-4522-b107-c65ec532ca23",
   "metadata": {},
   "source": [
    " we are getting an error because in the \"test1\" function, we are using print function and print function always return 'NoneType' as datatype.\n",
    " We can't use any primitive operation on print function"
   ]
  },
  {
   "cell_type": "code",
   "execution_count": 10,
   "id": "0c0eafae-7f76-4569-ae5a-2ad67744cd27",
   "metadata": {},
   "outputs": [],
   "source": [
    "def test2():\n",
    "    return \"this is my function\""
   ]
  },
  {
   "cell_type": "code",
   "execution_count": 11,
   "id": "d5d31910-f403-465f-b77b-351e8fcfe3c5",
   "metadata": {},
   "outputs": [
    {
     "data": {
      "text/plain": [
       "'this is my function'"
      ]
     },
     "execution_count": 11,
     "metadata": {},
     "output_type": "execute_result"
    }
   ],
   "source": [
    "test2()"
   ]
  },
  {
   "cell_type": "code",
   "execution_count": 12,
   "id": "28211859-6752-4e27-adb4-1b97897c085a",
   "metadata": {},
   "outputs": [
    {
     "data": {
      "text/plain": [
       "'this is my function Anushka'"
      ]
     },
     "execution_count": 12,
     "metadata": {},
     "output_type": "execute_result"
    }
   ],
   "source": [
    "test2() + \" Anushka\""
   ]
  },
  {
   "cell_type": "markdown",
   "id": "ab7871f1-987c-4006-9d63-2005edda2d1a",
   "metadata": {},
   "source": [
    "We are able to do a concatenation or other operation on return function because return function return the input as it is in the same format"
   ]
  },
  {
   "cell_type": "markdown",
   "id": "cc9ceb6c-7036-4878-aefe-fa301f840b37",
   "metadata": {},
   "source": [
    " We should always use return function and not print function"
   ]
  },
  {
   "cell_type": "code",
   "execution_count": 34,
   "id": "223d4f35-b913-4c7a-94b0-a49e7eb4c32d",
   "metadata": {},
   "outputs": [],
   "source": [
    "def test3():\n",
    "    return 1,2,\"pwskills\",3"
   ]
  },
  {
   "cell_type": "code",
   "execution_count": 35,
   "id": "db0b8cf2-8038-4927-b21a-7d2e1d3e6b45",
   "metadata": {},
   "outputs": [
    {
     "data": {
      "text/plain": [
       "(1, 2, 'pwskills', 3)"
      ]
     },
     "execution_count": 35,
     "metadata": {},
     "output_type": "execute_result"
    }
   ],
   "source": [
    "test3()"
   ]
  },
  {
   "cell_type": "markdown",
   "id": "bb461c50-22eb-403a-aae1-cdd9c4cfc968",
   "metadata": {},
   "source": [
    " It is possible to get multiple returns from a single function"
   ]
  },
  {
   "cell_type": "markdown",
   "id": "46422257-2401-4a3c-a00c-00c5e55fe3b9",
   "metadata": {},
   "source": [
    "It is similar to \n",
    "a = 1,2,3,4,5\n",
    "a,b,c,d = 1,2,34.5,true [storing multiple datatypes]"
   ]
  },
  {
   "cell_type": "code",
   "execution_count": 15,
   "id": "b17a69ee-0c08-4398-891e-6945582890ae",
   "metadata": {},
   "outputs": [],
   "source": [
    "a = 1,2,3,4,5"
   ]
  },
  {
   "cell_type": "code",
   "execution_count": 16,
   "id": "b21bfc81-3c0a-4734-ad7a-32fa355019a8",
   "metadata": {},
   "outputs": [],
   "source": [
    "a,b,c,d = 1,2,34.5,True\n",
    "# as test3 has multiple o/p, we can assign it to multiple variable"
   ]
  },
  {
   "cell_type": "code",
   "execution_count": 17,
   "id": "1ba78188-14ac-47e5-9d52-ef415f8c6715",
   "metadata": {},
   "outputs": [
    {
     "data": {
      "text/plain": [
       "1"
      ]
     },
     "execution_count": 17,
     "metadata": {},
     "output_type": "execute_result"
    }
   ],
   "source": [
    "a"
   ]
  },
  {
   "cell_type": "code",
   "execution_count": 19,
   "id": "b088ee1d-2648-445a-8bd2-ae032a80613b",
   "metadata": {},
   "outputs": [
    {
     "data": {
      "text/plain": [
       "2"
      ]
     },
     "execution_count": 19,
     "metadata": {},
     "output_type": "execute_result"
    }
   ],
   "source": [
    "b"
   ]
  },
  {
   "cell_type": "code",
   "execution_count": 20,
   "id": "1e84f1e8-0e95-44fb-9e0d-1949c8bf1f16",
   "metadata": {},
   "outputs": [
    {
     "data": {
      "text/plain": [
       "34.5"
      ]
     },
     "execution_count": 20,
     "metadata": {},
     "output_type": "execute_result"
    }
   ],
   "source": [
    "c"
   ]
  },
  {
   "cell_type": "code",
   "execution_count": 21,
   "id": "3ccfff61-db0d-43ce-90e1-382dd3a41f91",
   "metadata": {},
   "outputs": [
    {
     "data": {
      "text/plain": [
       "True"
      ]
     },
     "execution_count": 21,
     "metadata": {},
     "output_type": "execute_result"
    }
   ],
   "source": [
    "d"
   ]
  },
  {
   "cell_type": "code",
   "execution_count": 22,
   "id": "5d01aada-542a-4a2a-8193-1b6942a7d76c",
   "metadata": {},
   "outputs": [],
   "source": [
    "# return will always return in the form of tuple datatype, so we can extract the data index wise"
   ]
  },
  {
   "cell_type": "code",
   "execution_count": 23,
   "id": "7a056f80-bcf3-40f1-8058-c3e890ef64f5",
   "metadata": {},
   "outputs": [
    {
     "data": {
      "text/plain": [
       "(1, 2, 3, 'pwskills', 34.5, 987)"
      ]
     },
     "execution_count": 23,
     "metadata": {},
     "output_type": "execute_result"
    }
   ],
   "source": [
    "test3()"
   ]
  },
  {
   "cell_type": "code",
   "execution_count": 24,
   "id": "2fd74016-330f-41fc-b1fc-d35193f04bf5",
   "metadata": {},
   "outputs": [
    {
     "data": {
      "text/plain": [
       "1"
      ]
     },
     "execution_count": 24,
     "metadata": {},
     "output_type": "execute_result"
    }
   ],
   "source": [
    "test3()[0]"
   ]
  },
  {
   "cell_type": "code",
   "execution_count": 25,
   "id": "1b575a67-c48b-42bd-ba92-12ab4b08c905",
   "metadata": {},
   "outputs": [
    {
     "data": {
      "text/plain": [
       "2"
      ]
     },
     "execution_count": 25,
     "metadata": {},
     "output_type": "execute_result"
    }
   ],
   "source": [
    "test3()[1]"
   ]
  },
  {
   "cell_type": "code",
   "execution_count": 26,
   "id": "2145365d-3d6d-4650-bf5d-618c342a10df",
   "metadata": {},
   "outputs": [
    {
     "data": {
      "text/plain": [
       "3"
      ]
     },
     "execution_count": 26,
     "metadata": {},
     "output_type": "execute_result"
    }
   ],
   "source": [
    "test3()[2]"
   ]
  },
  {
   "cell_type": "markdown",
   "id": "f0273ddd-576e-4556-a2a4-ae61e1c92020",
   "metadata": {},
   "source": [
    "We can assign a function to multiple variable"
   ]
  },
  {
   "cell_type": "code",
   "execution_count": 28,
   "id": "ff896cb1-8314-4662-b282-1389aca4b3e0",
   "metadata": {},
   "outputs": [
    {
     "data": {
      "text/plain": [
       "(1, 2, 3, 'pwskills', 34.5, 987)"
      ]
     },
     "execution_count": 28,
     "metadata": {},
     "output_type": "execute_result"
    }
   ],
   "source": [
    "test3()"
   ]
  },
  {
   "cell_type": "code",
   "execution_count": 36,
   "id": "0071f9df-cd17-4c6b-86e0-852979979ced",
   "metadata": {},
   "outputs": [],
   "source": [
    "a,b,c,d = test3()"
   ]
  },
  {
   "cell_type": "code",
   "execution_count": 8,
   "id": "90fe1489-a475-41f8-8075-adaca87d2820",
   "metadata": {},
   "outputs": [],
   "source": [
    "# Passing a logic inside a function\n",
    "def type4():\n",
    "    a = 4*3+5\n",
    "    return a"
   ]
  },
  {
   "cell_type": "code",
   "execution_count": 9,
   "id": "3f235dfa-82f4-4e6b-af86-042fca91b505",
   "metadata": {},
   "outputs": [
    {
     "data": {
      "text/plain": [
       "17"
      ]
     },
     "execution_count": 9,
     "metadata": {},
     "output_type": "execute_result"
    }
   ],
   "source": [
    "type4()"
   ]
  },
  {
   "cell_type": "code",
   "execution_count": 10,
   "id": "d99b5e57-ba5d-47a2-bbee-7458c9c41a5f",
   "metadata": {},
   "outputs": [
    {
     "data": {
      "text/plain": [
       "int"
      ]
     },
     "execution_count": 10,
     "metadata": {},
     "output_type": "execute_result"
    }
   ],
   "source": [
    "type(type4())"
   ]
  },
  {
   "cell_type": "code",
   "execution_count": 11,
   "id": "2a2998a3-cd06-4350-b25f-b205ab1eb6f0",
   "metadata": {},
   "outputs": [],
   "source": [
    "#Passing an argument inside a function\n",
    "def test5(a,b):\n",
    "    c = a + b\n",
    "    return c\n",
    "        "
   ]
  },
  {
   "cell_type": "code",
   "execution_count": 12,
   "id": "af4afae3-473d-49ed-8130-e74ebcec45fb",
   "metadata": {},
   "outputs": [
    {
     "ename": "TypeError",
     "evalue": "test5() missing 2 required positional arguments: 'a' and 'b'",
     "output_type": "error",
     "traceback": [
      "\u001b[0;31m---------------------------------------------------------------------------\u001b[0m",
      "\u001b[0;31mTypeError\u001b[0m                                 Traceback (most recent call last)",
      "Cell \u001b[0;32mIn[12], line 1\u001b[0m\n\u001b[0;32m----> 1\u001b[0m \u001b[43mtest5\u001b[49m\u001b[43m(\u001b[49m\u001b[43m)\u001b[49m\n",
      "\u001b[0;31mTypeError\u001b[0m: test5() missing 2 required positional arguments: 'a' and 'b'"
     ]
    }
   ],
   "source": [
    "test5()"
   ]
  },
  {
   "cell_type": "markdown",
   "id": "b737b20a-cec8-44c6-887d-8eb8ff8cd919",
   "metadata": {},
   "source": [
    "An error came up because we haven't passed the values of the argument inside function, when we are calling a function"
   ]
  },
  {
   "cell_type": "code",
   "execution_count": 13,
   "id": "3cf6afeb-b7c4-4c8b-b82c-dd56d80130df",
   "metadata": {},
   "outputs": [
    {
     "data": {
      "text/plain": [
       "12"
      ]
     },
     "execution_count": 13,
     "metadata": {},
     "output_type": "execute_result"
    }
   ],
   "source": [
    "#Number Addition\n",
    "test5(5,7)"
   ]
  },
  {
   "cell_type": "code",
   "execution_count": 15,
   "id": "51f1e30e-1cbe-4252-ae88-c5d8524e0633",
   "metadata": {},
   "outputs": [
    {
     "data": {
      "text/plain": [
       "'anushkatripathi'"
      ]
     },
     "execution_count": 15,
     "metadata": {},
     "output_type": "execute_result"
    }
   ],
   "source": [
    "#Test Concatenation\n",
    "test5(\"anushka\",\"tripathi\")"
   ]
  },
  {
   "cell_type": "code",
   "execution_count": 16,
   "id": "f4dd055a-5119-416f-9a3b-18ae9eeba932",
   "metadata": {},
   "outputs": [
    {
     "data": {
      "text/plain": [
       "[1, 2, 3, 4, 4, 5, 6, 7]"
      ]
     },
     "execution_count": 16,
     "metadata": {},
     "output_type": "execute_result"
    }
   ],
   "source": [
    "#List concatenation\n",
    "test5([1,2,3,4] , [4,5,6,7])"
   ]
  },
  {
   "cell_type": "markdown",
   "id": "49589a95-ea38-4c59-adec-ecb31bbf16dc",
   "metadata": {},
   "source": [
    "We can pass argument of any data type and perform the operation accordingly"
   ]
  },
  {
   "cell_type": "markdown",
   "id": "10998c48-e2ca-40e8-b518-134b45ecce8f",
   "metadata": {},
   "source": [
    "# When we need to paas the second argument at the first place and vice versa\n",
    "We need to declare the argument with its value inside the function as done below"
   ]
  },
  {
   "cell_type": "code",
   "execution_count": 18,
   "id": "d8c5a727-b685-4abe-866a-fa152900720e",
   "metadata": {},
   "outputs": [
    {
     "data": {
      "text/plain": [
       "'kaytripathi'"
      ]
     },
     "execution_count": 18,
     "metadata": {},
     "output_type": "execute_result"
    }
   ],
   "source": [
    "test5(b = \"tripathi\", a = \"kay\")"
   ]
  },
  {
   "cell_type": "code",
   "execution_count": 19,
   "id": "6f9389de-6649-43f3-89e2-b8b326e7401b",
   "metadata": {},
   "outputs": [],
   "source": [
    "l = [1,2,3,4,\"anu\",\"pwskills\",[1,2,3,4,5]]"
   ]
  },
  {
   "cell_type": "raw",
   "id": "b78a6789-7748-457b-a3c0-dcdb6dbea5b0",
   "metadata": {},
   "source": [
    "Q- Create a function which will take list as a input and give me a final list with all the numeric value"
   ]
  },
  {
   "cell_type": "code",
   "execution_count": 20,
   "id": "93cf691e-b8dc-4c49-ad7f-0872e2dcf6e4",
   "metadata": {},
   "outputs": [],
   "source": [
    "def test6(a):\n",
    "    n = []\n",
    "    for i in a:\n",
    "        if type(i) == int or type(i) == float:\n",
    "            n.append(i)\n",
    "    return n"
   ]
  },
  {
   "cell_type": "code",
   "execution_count": 21,
   "id": "5c77c4c7-a58a-4f60-8f1a-6d942b4400b3",
   "metadata": {},
   "outputs": [
    {
     "data": {
      "text/plain": [
       "[1, 2, 3, 4]"
      ]
     },
     "execution_count": 21,
     "metadata": {},
     "output_type": "execute_result"
    }
   ],
   "source": [
    "test6(l)"
   ]
  },
  {
   "cell_type": "code",
   "execution_count": 23,
   "id": "7973a0da-e805-470b-90e5-e06e15fe809e",
   "metadata": {},
   "outputs": [],
   "source": [
    "#extracting element from nested list which is mentioned above\n",
    "def test7(a):\n",
    "    n = []\n",
    "    for i in a:\n",
    "        if type(i) == list:\n",
    "            for j in i:\n",
    "                if type(j) == int or type(j) == float:\n",
    "                    n.append(j)\n",
    "        else:\n",
    "            if type(i) == int or type(i) == float:\n",
    "                n.append(i)\n",
    "    return n"
   ]
  },
  {
   "cell_type": "code",
   "execution_count": 24,
   "id": "5fc45f6b-f34e-47e1-8e55-ba4332860f83",
   "metadata": {},
   "outputs": [
    {
     "data": {
      "text/plain": [
       "[1, 2, 3, 4, 1, 2, 3, 4, 5]"
      ]
     },
     "execution_count": 24,
     "metadata": {},
     "output_type": "execute_result"
    }
   ],
   "source": [
    "test7(l)"
   ]
  },
  {
   "cell_type": "code",
   "execution_count": 27,
   "id": "7d615a94-9b18-4a51-958a-f8a9244101e9",
   "metadata": {},
   "outputs": [],
   "source": [
    "def test8(a,b,c,d,e):\n",
    "    pass\n",
    "#passing multiple arguments inside the function"
   ]
  },
  {
   "cell_type": "code",
   "execution_count": 28,
   "id": "7972ae7d-dc41-4e48-aa4e-f53ef91595ef",
   "metadata": {},
   "outputs": [],
   "source": [
    "test8(1,2,3,4,5)"
   ]
  },
  {
   "cell_type": "code",
   "execution_count": 29,
   "id": "87a5e49b-9ed4-4e9f-9201-11e0be228bbb",
   "metadata": {},
   "outputs": [
    {
     "ename": "TypeError",
     "evalue": "test8() takes 5 positional arguments but 8 were given",
     "output_type": "error",
     "traceback": [
      "\u001b[0;31m---------------------------------------------------------------------------\u001b[0m",
      "\u001b[0;31mTypeError\u001b[0m                                 Traceback (most recent call last)",
      "Cell \u001b[0;32mIn[29], line 1\u001b[0m\n\u001b[0;32m----> 1\u001b[0m \u001b[43mtest8\u001b[49m\u001b[43m(\u001b[49m\u001b[38;5;241;43m1\u001b[39;49m\u001b[43m,\u001b[49m\u001b[38;5;241;43m2\u001b[39;49m\u001b[43m,\u001b[49m\u001b[38;5;241;43m3\u001b[39;49m\u001b[43m,\u001b[49m\u001b[38;5;241;43m4\u001b[39;49m\u001b[43m,\u001b[49m\u001b[38;5;241;43m5\u001b[39;49m\u001b[43m,\u001b[49m\u001b[38;5;241;43m6\u001b[39;49m\u001b[43m,\u001b[49m\u001b[38;5;241;43m7\u001b[39;49m\u001b[43m,\u001b[49m\u001b[38;5;241;43m8\u001b[39;49m\u001b[43m)\u001b[49m\n",
      "\u001b[0;31mTypeError\u001b[0m: test8() takes 5 positional arguments but 8 were given"
     ]
    }
   ],
   "source": [
    "test8(1,2,3,4,5,6,7,8)\n",
    "#error occurred as more numbers are given than the arguments"
   ]
  },
  {
   "cell_type": "raw",
   "id": "423f11c1-9aa4-4e9c-909b-d262b746397c",
   "metadata": {},
   "source": [
    "#create a function which can an any number of argument at run time"
   ]
  },
  {
   "cell_type": "code",
   "execution_count": 30,
   "id": "a1b03341-de3d-486f-b59b-74615e5872c1",
   "metadata": {},
   "outputs": [],
   "source": [
    "def test9(*args):\n",
    "    return args"
   ]
  },
  {
   "cell_type": "code",
   "execution_count": 31,
   "id": "45b28623-e845-4961-a81a-90d12e0e4667",
   "metadata": {},
   "outputs": [
    {
     "data": {
      "text/plain": [
       "(2,)"
      ]
     },
     "execution_count": 31,
     "metadata": {},
     "output_type": "execute_result"
    }
   ],
   "source": [
    "test9(2)"
   ]
  },
  {
   "cell_type": "code",
   "execution_count": 32,
   "id": "0ad91c85-748d-4b3d-b550-5c89f2cf3463",
   "metadata": {},
   "outputs": [
    {
     "data": {
      "text/plain": [
       "('anu', [1, 2, 3, 45], (1, 2, 3, 4, 5))"
      ]
     },
     "execution_count": 32,
     "metadata": {},
     "output_type": "execute_result"
    }
   ],
   "source": [
    "test9(\"anu\",[1,2,3,45],(1,2,3,4,5))"
   ]
  },
  {
   "cell_type": "raw",
   "id": "be1f65dd-dff2-403b-905e-27cc182f52e2",
   "metadata": {},
   "source": [
    "Here *args refer to n numbers of argument of any datatype"
   ]
  },
  {
   "cell_type": "code",
   "execution_count": 36,
   "id": "b043dc42-e4d1-4ab7-9603-98aa1c46be82",
   "metadata": {},
   "outputs": [],
   "source": [
    "def test10(*anu):\n",
    "    return anu"
   ]
  },
  {
   "cell_type": "code",
   "execution_count": 37,
   "id": "07a4432c-be39-4519-9fbd-271a02083aac",
   "metadata": {},
   "outputs": [
    {
     "data": {
      "text/plain": [
       "([1, 2, 3, 4], 'anu')"
      ]
     },
     "execution_count": 37,
     "metadata": {},
     "output_type": "execute_result"
    }
   ],
   "source": [
    "test10([1,2,3,4],\"anu\")"
   ]
  },
  {
   "cell_type": "raw",
   "id": "53457fa1-94c9-45dd-8e1b-53c5b585d746",
   "metadata": {},
   "source": [
    "#here * - takes n no of arguments as inputs and return in the form of tuple. Anything after asterik is a variable name"
   ]
  },
  {
   "cell_type": "code",
   "execution_count": 38,
   "id": "2abaf5b8-5ddc-4ca9-850d-cec402ddb9af",
   "metadata": {},
   "outputs": [],
   "source": [
    "# anoter argument with *"
   ]
  },
  {
   "cell_type": "code",
   "execution_count": 39,
   "id": "b38df6ff-2f17-4852-86aa-43613d3d04cc",
   "metadata": {},
   "outputs": [],
   "source": [
    "def test11(*args, a):\n",
    "    return args, a"
   ]
  },
  {
   "cell_type": "code",
   "execution_count": 40,
   "id": "0b48efb5-48ef-42d6-9148-21f9575d7391",
   "metadata": {},
   "outputs": [
    {
     "ename": "TypeError",
     "evalue": "test11() missing 1 required keyword-only argument: 'a'",
     "output_type": "error",
     "traceback": [
      "\u001b[0;31m---------------------------------------------------------------------------\u001b[0m",
      "\u001b[0;31mTypeError\u001b[0m                                 Traceback (most recent call last)",
      "Cell \u001b[0;32mIn[40], line 1\u001b[0m\n\u001b[0;32m----> 1\u001b[0m \u001b[43mtest11\u001b[49m\u001b[43m(\u001b[49m\u001b[38;5;241;43m2\u001b[39;49m\u001b[43m)\u001b[49m\n",
      "\u001b[0;31mTypeError\u001b[0m: test11() missing 1 required keyword-only argument: 'a'"
     ]
    }
   ],
   "source": [
    "test11(2)"
   ]
  },
  {
   "cell_type": "raw",
   "id": "17546adc-8599-487d-bbe4-af95781fd91e",
   "metadata": {},
   "source": [
    "#Correct way to call it:\n",
    "test11(1,2,3,4,a= \"sudh\")\n",
    "#here we have defined a"
   ]
  },
  {
   "cell_type": "code",
   "execution_count": 42,
   "id": "1bfac334-30b9-43d2-bca1-a42f68af6577",
   "metadata": {},
   "outputs": [],
   "source": [
    "# pull the list from all the input arguments (if it is a combination list, dict, tuple)"
   ]
  },
  {
   "cell_type": "code",
   "execution_count": 44,
   "id": "56fa478a-5215-4d99-9b31-7358903b478f",
   "metadata": {},
   "outputs": [],
   "source": [
    "def test12(*args):\n",
    "    l = []\n",
    "    for i in args:\n",
    "        if type(i) == list:\n",
    "            l.append(i)\n",
    "    return l\n",
    "    "
   ]
  },
  {
   "cell_type": "code",
   "execution_count": 46,
   "id": "18494a05-2d5c-47bd-b447-0230913c0c81",
   "metadata": {},
   "outputs": [
    {
     "data": {
      "text/plain": [
       "[[123, 56, 77, 6, 9]]"
      ]
     },
     "execution_count": 46,
     "metadata": {},
     "output_type": "execute_result"
    }
   ],
   "source": [
    "test12(1,2,3,4,(1,2,3,4),\"a\",\"b\",\"c\",[123,56,77,6,9])"
   ]
  },
  {
   "cell_type": "code",
   "execution_count": 47,
   "id": "9e013277-bd6b-41b1-95fa-9dcb4ef6bfc0",
   "metadata": {},
   "outputs": [],
   "source": [
    "#Take input as key value pair argument"
   ]
  },
  {
   "cell_type": "code",
   "execution_count": 48,
   "id": "8c4a0dcf-9556-47e8-9bb3-3558243f75c2",
   "metadata": {},
   "outputs": [],
   "source": [
    "def test13(**kwargs):\n",
    "    return kwargs"
   ]
  },
  {
   "cell_type": "code",
   "execution_count": 49,
   "id": "41af66ad-fd31-4dfe-a201-ff03186ebc9c",
   "metadata": {},
   "outputs": [
    {
     "data": {
      "text/plain": [
       "{}"
      ]
     },
     "execution_count": 49,
     "metadata": {},
     "output_type": "execute_result"
    }
   ],
   "source": [
    "test13()"
   ]
  },
  {
   "cell_type": "code",
   "execution_count": 50,
   "id": "7cb5c23c-891e-4c16-b348-785706c95143",
   "metadata": {},
   "outputs": [
    {
     "data": {
      "text/plain": [
       "dict"
      ]
     },
     "execution_count": 50,
     "metadata": {},
     "output_type": "execute_result"
    }
   ],
   "source": [
    "type(test13())"
   ]
  },
  {
   "cell_type": "code",
   "execution_count": 57,
   "id": "dfa8ebe4-34c6-4963-8ea3-9cce254ababf",
   "metadata": {},
   "outputs": [
    {
     "data": {
      "text/plain": [
       "{'a': 34, 'b': 23, 'c': [1, 2, 3, 4], 'd': ('sudh', 'pwskils')}"
      ]
     },
     "execution_count": 57,
     "metadata": {},
     "output_type": "execute_result"
    }
   ],
   "source": [
    "test13(a=34,b=23,c=[1,2,3,4], d =(\"sudh\", \"pwskils\"))\n",
    "#O/p "
   ]
  },
  {
   "cell_type": "code",
   "execution_count": 60,
   "id": "d2f5f8b3-5707-4d06-8042-9daa4567d918",
   "metadata": {},
   "outputs": [],
   "source": [
    "def test14(**kwargs):\n",
    "    for i in kwargs.keys():\n",
    "        if type(kwargs[i]) == list :\n",
    "            return i , kwargs[i]"
   ]
  },
  {
   "cell_type": "code",
   "execution_count": 61,
   "id": "11e779fa-8508-45cc-bb6a-5c66e80c9e3a",
   "metadata": {},
   "outputs": [
    {
     "data": {
      "text/plain": [
       "('c', [1, 2, 3, 4])"
      ]
     },
     "execution_count": 61,
     "metadata": {},
     "output_type": "execute_result"
    }
   ],
   "source": [
    "test14(a=34,b=23,c=[1,2,3,4], d =(\"sudh\", \"pwskils\"))"
   ]
  },
  {
   "cell_type": "code",
   "execution_count": 62,
   "id": "c87871e9-9ad4-4d81-bffc-c3a8c9330e07",
   "metadata": {},
   "outputs": [],
   "source": [
    "#N no number arguments with key value pair argument"
   ]
  },
  {
   "cell_type": "code",
   "execution_count": 63,
   "id": "4fc22238-5f26-4c95-a32b-b138b8546784",
   "metadata": {},
   "outputs": [],
   "source": [
    "def test15(*args, **kwargs):\n",
    "    return args, kwargs"
   ]
  },
  {
   "cell_type": "code",
   "execution_count": 64,
   "id": "75082d7d-580d-401d-af95-2b4f22b4e1d5",
   "metadata": {},
   "outputs": [
    {
     "data": {
      "text/plain": [
       "((2, 2, 3, 4), {'a': 34, 'b': 45})"
      ]
     },
     "execution_count": 64,
     "metadata": {},
     "output_type": "execute_result"
    }
   ],
   "source": [
    "test15(2,2,3,4,a =34, b=45)"
   ]
  },
  {
   "cell_type": "code",
   "execution_count": 65,
   "id": "89c4cdce-22a7-4122-8d5f-75de514f443d",
   "metadata": {},
   "outputs": [
    {
     "data": {
      "text/plain": [
       "((2, 2, 3, 4), {})"
      ]
     },
     "execution_count": 65,
     "metadata": {},
     "output_type": "execute_result"
    }
   ],
   "source": [
    "test15(2,2,3,4)"
   ]
  },
  {
   "cell_type": "code",
   "execution_count": 66,
   "id": "0a8332fe-7227-40ca-ab43-e03db79af65b",
   "metadata": {},
   "outputs": [
    {
     "data": {
      "text/plain": [
       "((), {})"
      ]
     },
     "execution_count": 66,
     "metadata": {},
     "output_type": "execute_result"
    }
   ],
   "source": [
    "test15()"
   ]
  },
  {
   "cell_type": "code",
   "execution_count": null,
   "id": "d38c28b5-7437-475c-bb82-b091531b76dd",
   "metadata": {},
   "outputs": [],
   "source": []
  }
 ],
 "metadata": {
  "kernelspec": {
   "display_name": "Python 3 (ipykernel)",
   "language": "python",
   "name": "python3"
  },
  "language_info": {
   "codemirror_mode": {
    "name": "ipython",
    "version": 3
   },
   "file_extension": ".py",
   "mimetype": "text/x-python",
   "name": "python",
   "nbconvert_exporter": "python",
   "pygments_lexer": "ipython3",
   "version": "3.10.8"
  }
 },
 "nbformat": 4,
 "nbformat_minor": 5
}
