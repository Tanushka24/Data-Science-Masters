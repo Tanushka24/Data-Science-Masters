{
 "cells": [
  {
   "cell_type": "markdown",
   "id": "4be59f05-caf6-44ce-88e6-7aaa8d450488",
   "metadata": {},
   "source": [
    "## Lambda Function"
   ]
  },
  {
   "cell_type": "code",
   "execution_count": 1,
   "id": "d72563ec-0cbf-4fe7-a708-d3aaecddd287",
   "metadata": {},
   "outputs": [],
   "source": [
    "#Creating a function to write a power of a number giving both the number and the power value as an input by the user"
   ]
  },
  {
   "cell_type": "code",
   "execution_count": 2,
   "id": "71d58018-0a44-431f-940b-0471d29e98a7",
   "metadata": {},
   "outputs": [],
   "source": [
    "n = 3\n",
    "p = 2"
   ]
  },
  {
   "cell_type": "code",
   "execution_count": 4,
   "id": "3f043560-0da1-476d-af4e-5325a216601b",
   "metadata": {},
   "outputs": [],
   "source": [
    "def test(n,p):\n",
    "    return n**p"
   ]
  },
  {
   "cell_type": "code",
   "execution_count": 5,
   "id": "12f9f7e0-b93a-4977-83f3-acbe36362a57",
   "metadata": {},
   "outputs": [
    {
     "data": {
      "text/plain": [
       "729"
      ]
     },
     "execution_count": 5,
     "metadata": {},
     "output_type": "execute_result"
    }
   ],
   "source": [
    "test(3,6)"
   ]
  },
  {
   "cell_type": "code",
   "execution_count": 6,
   "id": "a571ff99-5175-4fc6-8885-651a7aff952f",
   "metadata": {},
   "outputs": [
    {
     "data": {
      "text/plain": [
       "4096"
      ]
     },
     "execution_count": 6,
     "metadata": {},
     "output_type": "execute_result"
    }
   ],
   "source": [
    "test(4,6)"
   ]
  },
  {
   "cell_type": "markdown",
   "id": "c3942564-b99a-44e7-afd9-5e8ae894f5f4",
   "metadata": {},
   "source": [
    "#### Writing the same function as above but using Lambda function"
   ]
  },
  {
   "cell_type": "code",
   "execution_count": 7,
   "id": "cf7df04b-b1d4-4d32-a5a0-081c9b7b940f",
   "metadata": {},
   "outputs": [],
   "source": [
    "#It is an adhoc and an anonymous function\n",
    "#It is also called as a short hand function"
   ]
  },
  {
   "cell_type": "code",
   "execution_count": 10,
   "id": "9141043f-5180-4dc2-8d91-434d4eb70511",
   "metadata": {},
   "outputs": [
    {
     "data": {
      "text/plain": [
       "<function __main__.<lambda>(n, p)>"
      ]
     },
     "execution_count": 10,
     "metadata": {},
     "output_type": "execute_result"
    }
   ],
   "source": [
    "lambda n,p : n**p"
   ]
  },
  {
   "cell_type": "code",
   "execution_count": 11,
   "id": "19bc3314-52c1-485f-b6f4-af62234f62bb",
   "metadata": {},
   "outputs": [],
   "source": [
    "#Storing the lambda function into a variable"
   ]
  },
  {
   "cell_type": "code",
   "execution_count": 12,
   "id": "bf386675-a401-4554-8f27-b9346d36ebd3",
   "metadata": {},
   "outputs": [],
   "source": [
    "a = lambda n,p : n**p"
   ]
  },
  {
   "cell_type": "code",
   "execution_count": 13,
   "id": "ac10866a-0172-41db-a78e-b22499376ff4",
   "metadata": {},
   "outputs": [
    {
     "data": {
      "text/plain": [
       "512"
      ]
     },
     "execution_count": 13,
     "metadata": {},
     "output_type": "execute_result"
    }
   ],
   "source": [
    "a(2,9)\n",
    "#calling the lambda function and pass the elements"
   ]
  },
  {
   "cell_type": "code",
   "execution_count": 16,
   "id": "424e2e0a-2181-4cc9-8e04-46cf9cb8fe03",
   "metadata": {},
   "outputs": [],
   "source": [
    "add = lambda x,y :x+y"
   ]
  },
  {
   "cell_type": "code",
   "execution_count": 17,
   "id": "e64c4941-a24b-424f-bec6-eb68f8d1fd81",
   "metadata": {},
   "outputs": [
    {
     "data": {
      "text/plain": [
       "268"
      ]
     },
     "execution_count": 17,
     "metadata": {},
     "output_type": "execute_result"
    }
   ],
   "source": [
    "add (234,34)"
   ]
  },
  {
   "cell_type": "markdown",
   "id": "c16efaec-7a24-41ec-a773-755c556193a5",
   "metadata": {},
   "source": [
    "#### Note : Whenever we need to create a big logic or a complicated logic we will use the standard function creation method but whenever we are creating single line code or logic, we can opt lambda function"
   ]
  },
  {
   "cell_type": "code",
   "execution_count": 18,
   "id": "b11bc23c-dfa3-475c-852e-f0d605cc59c4",
   "metadata": {},
   "outputs": [],
   "source": [
    "#Convert celsius to fahrenheit"
   ]
  },
  {
   "cell_type": "code",
   "execution_count": 20,
   "id": "4f279ae0-e965-4946-9660-fb835a7ee549",
   "metadata": {},
   "outputs": [],
   "source": [
    "c_to_f = lambda c : (9/5)*c+32"
   ]
  },
  {
   "cell_type": "code",
   "execution_count": 21,
   "id": "80dbf41a-6d2c-4851-ae19-1fd4ff7de9ae",
   "metadata": {},
   "outputs": [
    {
     "data": {
      "text/plain": [
       "93.2"
      ]
     },
     "execution_count": 21,
     "metadata": {},
     "output_type": "execute_result"
    }
   ],
   "source": [
    "c_to_f(34)"
   ]
  },
  {
   "cell_type": "code",
   "execution_count": 22,
   "id": "99b7f978-af36-4449-8efb-e81ad656f00a",
   "metadata": {},
   "outputs": [],
   "source": [
    "#Compare two numbers and return Maximum no between two numbers"
   ]
  },
  {
   "cell_type": "code",
   "execution_count": 23,
   "id": "d23fa1ae-d05d-4923-8b45-54c8791d414d",
   "metadata": {},
   "outputs": [],
   "source": [
    "max_two = lambda x,y : x if x>y else y"
   ]
  },
  {
   "cell_type": "code",
   "execution_count": 24,
   "id": "8ab520e0-d18b-4a0b-89c9-3400f541dfa9",
   "metadata": {},
   "outputs": [
    {
     "data": {
      "text/plain": [
       "10"
      ]
     },
     "execution_count": 24,
     "metadata": {},
     "output_type": "execute_result"
    }
   ],
   "source": [
    "max_two(4,10)"
   ]
  },
  {
   "cell_type": "code",
   "execution_count": 25,
   "id": "cb1b20d7-f0f0-4f40-a27a-ddae24fc22b4",
   "metadata": {},
   "outputs": [
    {
     "data": {
      "text/plain": [
       "40"
      ]
     },
     "execution_count": 25,
     "metadata": {},
     "output_type": "execute_result"
    }
   ],
   "source": [
    "max_two(40,10)"
   ]
  },
  {
   "cell_type": "code",
   "execution_count": 26,
   "id": "956243c5-97b0-42ca-8b6f-8c22c483bfdd",
   "metadata": {},
   "outputs": [],
   "source": [
    "#Count the length of the string\n",
    "s = \"pwskills\"\n",
    "length = lambda x : len(x)"
   ]
  },
  {
   "cell_type": "code",
   "execution_count": 27,
   "id": "d5ab30dc-7131-4c90-811a-086cafae3af6",
   "metadata": {},
   "outputs": [
    {
     "data": {
      "text/plain": [
       "8"
      ]
     },
     "execution_count": 27,
     "metadata": {},
     "output_type": "execute_result"
    }
   ],
   "source": [
    "length(s)"
   ]
  },
  {
   "cell_type": "markdown",
   "id": "b802b67c-304b-49b3-8194-bbd7ae11a31a",
   "metadata": {},
   "source": [
    "## Map , Reduce, Filter Function"
   ]
  },
  {
   "cell_type": "code",
   "execution_count": 35,
   "id": "753fedc9-8a63-4b74-a05e-8dd14320eb63",
   "metadata": {},
   "outputs": [],
   "source": [
    "l = [1,2,3,4]"
   ]
  },
  {
   "cell_type": "code",
   "execution_count": 38,
   "id": "ab49dca2-a43c-45cc-a714-07d813f19e49",
   "metadata": {},
   "outputs": [],
   "source": [
    "def test1(l):\n",
    "    l1 = []\n",
    "    for i in l:\n",
    "        l1.append(i**2)\n",
    "    return l1\n",
    "        "
   ]
  },
  {
   "cell_type": "code",
   "execution_count": 39,
   "id": "874f97b2-247a-45e9-8a36-82f28bf5d7e0",
   "metadata": {},
   "outputs": [
    {
     "data": {
      "text/plain": [
       "[1, 4, 9, 16]"
      ]
     },
     "execution_count": 39,
     "metadata": {},
     "output_type": "execute_result"
    }
   ],
   "source": [
    "test1(l)"
   ]
  },
  {
   "cell_type": "code",
   "execution_count": 40,
   "id": "3274af7b-dc98-4763-ae3f-ebaf6a60902d",
   "metadata": {},
   "outputs": [],
   "source": [
    "## Can we create the above function in a single line \n",
    "#Short Hand"
   ]
  },
  {
   "cell_type": "markdown",
   "id": "27539af3-023b-47bc-89a1-8733ea031bd0",
   "metadata": {},
   "source": [
    "### Map function(Mapper)"
   ]
  },
  {
   "cell_type": "code",
   "execution_count": null,
   "id": "d4702238-568d-4506-9194-1770c8360e8c",
   "metadata": {},
   "outputs": [],
   "source": [
    "#Mapping each and every element to the defined function"
   ]
  },
  {
   "cell_type": "code",
   "execution_count": 41,
   "id": "e9d18196-8f7b-4e51-9632-f9b453e3ff9a",
   "metadata": {},
   "outputs": [],
   "source": [
    "# This function takes, iterables & functions\n",
    "#map(function, iterable)\n",
    "def sq(x):\n",
    "    return x**2"
   ]
  },
  {
   "cell_type": "code",
   "execution_count": 42,
   "id": "2956ed92-63f2-4fbc-bf72-db216d937ee9",
   "metadata": {},
   "outputs": [
    {
     "data": {
      "text/plain": [
       "<map at 0x7f430d72a920>"
      ]
     },
     "execution_count": 42,
     "metadata": {},
     "output_type": "execute_result"
    }
   ],
   "source": [
    "map(sq, l)"
   ]
  },
  {
   "cell_type": "code",
   "execution_count": 43,
   "id": "f7c78835-8137-4b9a-a573-de954721539f",
   "metadata": {},
   "outputs": [
    {
     "data": {
      "text/plain": [
       "[1, 4, 9, 16]"
      ]
     },
     "execution_count": 43,
     "metadata": {},
     "output_type": "execute_result"
    }
   ],
   "source": [
    "list(map(sq, l))"
   ]
  },
  {
   "cell_type": "markdown",
   "id": "bee2d3ee-88bc-4f88-a9c0-ccceb90b4dc2",
   "metadata": {},
   "source": [
    "#### This function, maps the given function with every element of the input provided by the user"
   ]
  },
  {
   "cell_type": "code",
   "execution_count": 45,
   "id": "74a2d3d4-e15c-41a9-b740-69eb4e58bacb",
   "metadata": {},
   "outputs": [
    {
     "data": {
      "text/plain": [
       "[1, 4, 9, 16]"
      ]
     },
     "execution_count": 45,
     "metadata": {},
     "output_type": "execute_result"
    }
   ],
   "source": [
    "list(map(lambda x : x**2, l))\n",
    "#Used Map function with lamda function"
   ]
  },
  {
   "cell_type": "markdown",
   "id": "080c2b5f-c049-461d-a2b2-c10ae2be8ab6",
   "metadata": {},
   "source": [
    "#### Que - Add 10 in each of the element"
   ]
  },
  {
   "cell_type": "code",
   "execution_count": 47,
   "id": "216c8c20-47d8-42b9-b3b2-02ba8db3d5ea",
   "metadata": {},
   "outputs": [],
   "source": [
    "t = (1,2,34,75)\n",
    "def add_m(x):\n",
    "    return x +10"
   ]
  },
  {
   "cell_type": "code",
   "execution_count": 49,
   "id": "8465d8e0-9978-4020-9405-6f3d8eb707bf",
   "metadata": {},
   "outputs": [
    {
     "data": {
      "text/plain": [
       "(11, 12, 44, 85)"
      ]
     },
     "execution_count": 49,
     "metadata": {},
     "output_type": "execute_result"
    }
   ],
   "source": [
    "tuple(map(add_m,t))"
   ]
  },
  {
   "cell_type": "code",
   "execution_count": 50,
   "id": "6fecaad3-1a95-4bb2-b13c-9c80b76423d1",
   "metadata": {},
   "outputs": [
    {
     "data": {
      "text/plain": [
       "[11, 12, 44, 85]"
      ]
     },
     "execution_count": 50,
     "metadata": {},
     "output_type": "execute_result"
    }
   ],
   "source": [
    "#Another way of doing the above question\n",
    "list(map(lambda x : x+10, t))"
   ]
  },
  {
   "cell_type": "markdown",
   "id": "74a5acc9-8bcd-43a8-b1b0-33edfab670f2",
   "metadata": {},
   "source": [
    "#### Que - Converting the element of list to string"
   ]
  },
  {
   "cell_type": "code",
   "execution_count": 52,
   "id": "474f518d-a835-463a-9256-90a5471b04e3",
   "metadata": {},
   "outputs": [
    {
     "data": {
      "text/plain": [
       "['1', '2', '34', '75']"
      ]
     },
     "execution_count": 52,
     "metadata": {},
     "output_type": "execute_result"
    }
   ],
   "source": [
    "list(map(lambda x : str(x), t))"
   ]
  },
  {
   "cell_type": "code",
   "execution_count": 53,
   "id": "3751eea3-ad10-4245-a14a-85d9373b5e5e",
   "metadata": {},
   "outputs": [],
   "source": [
    "l1 =[1,2,3,4,5]\n",
    "l2 =[6,7,8,9,10]"
   ]
  },
  {
   "cell_type": "code",
   "execution_count": 55,
   "id": "0b827e6c-db14-4e49-aea8-a10230366fdf",
   "metadata": {},
   "outputs": [
    {
     "data": {
      "text/plain": [
       "[7, 9, 11, 13, 15]"
      ]
     },
     "execution_count": 55,
     "metadata": {},
     "output_type": "execute_result"
    }
   ],
   "source": [
    "list(map(lambda x,y : x+y, l1,l2))"
   ]
  },
  {
   "cell_type": "code",
   "execution_count": 56,
   "id": "db585f1c-0cd7-4c05-9a1c-bb66721a8a60",
   "metadata": {},
   "outputs": [],
   "source": [
    "#Another wy of writing the above function\n",
    "f = lambda x,y : x+y"
   ]
  },
  {
   "cell_type": "code",
   "execution_count": 57,
   "id": "d583dc77-2852-4f59-b48c-04bf95a69279",
   "metadata": {},
   "outputs": [
    {
     "data": {
      "text/plain": [
       "[7, 9, 11, 13, 15]"
      ]
     },
     "execution_count": 57,
     "metadata": {},
     "output_type": "execute_result"
    }
   ],
   "source": [
    "list(map(f, l1,l2))"
   ]
  },
  {
   "cell_type": "code",
   "execution_count": 58,
   "id": "b54e011a-cf13-4454-8e02-d08bd178a8c2",
   "metadata": {},
   "outputs": [],
   "source": [
    "#Seperate the characters of the string and convert the single elements into the list "
   ]
  },
  {
   "cell_type": "code",
   "execution_count": 66,
   "id": "83b75bf2-b577-46ad-91d1-acd704b20dbc",
   "metadata": {},
   "outputs": [],
   "source": [
    "a = \"pwskills\"\n",
    "s = lambda x : x.upper()"
   ]
  },
  {
   "cell_type": "code",
   "execution_count": 67,
   "id": "2cb15e9b-b875-497d-9d88-7ea2c0e40e89",
   "metadata": {},
   "outputs": [
    {
     "data": {
      "text/plain": [
       "['P', 'W', 'S', 'K', 'I', 'L', 'L', 'S']"
      ]
     },
     "execution_count": 67,
     "metadata": {},
     "output_type": "execute_result"
    }
   ],
   "source": [
    "list(map(s,a))"
   ]
  },
  {
   "cell_type": "markdown",
   "id": "509ecd45-b2aa-4850-ac01-bdfe1f96e52c",
   "metadata": {},
   "source": [
    "#### Reduce Function"
   ]
  },
  {
   "cell_type": "code",
   "execution_count": 68,
   "id": "fa859ba5-1d5d-46a5-a00c-ad418266ed50",
   "metadata": {},
   "outputs": [],
   "source": [
    "#by default reduce function is not available, so we have to call a library\n",
    "#collapse the enti"
   ]
  },
  {
   "cell_type": "code",
   "execution_count": 69,
   "id": "b37cd6e8-1292-4a4f-b8ac-295da52f2929",
   "metadata": {},
   "outputs": [],
   "source": [
    "from functools import reduce"
   ]
  },
  {
   "cell_type": "code",
   "execution_count": 70,
   "id": "62cc5517-961c-47dd-b09a-e73d5196a2e8",
   "metadata": {},
   "outputs": [],
   "source": [
    "l = [1,2,3,4,5,6,7,8]"
   ]
  },
  {
   "cell_type": "markdown",
   "id": "dafe11a7-ad84-4a4a-8620-ec2ab32f89fd",
   "metadata": {},
   "source": [
    "#### Que - To find a summation of the given list values"
   ]
  },
  {
   "cell_type": "code",
   "execution_count": 72,
   "id": "a5e7e803-baa5-4fdf-9264-5b0f482e5bbc",
   "metadata": {},
   "outputs": [
    {
     "data": {
      "text/plain": [
       "36"
      ]
     },
     "execution_count": 72,
     "metadata": {},
     "output_type": "execute_result"
    }
   ],
   "source": [
    "reduce(lambda x,y : x+y, l)"
   ]
  },
  {
   "cell_type": "code",
   "execution_count": 73,
   "id": "bb08a4bc-1948-4301-a97f-ddf711fc8080",
   "metadata": {},
   "outputs": [],
   "source": [
    "def add(x,y):\n",
    "    return x+y"
   ]
  },
  {
   "cell_type": "code",
   "execution_count": 74,
   "id": "1eebbbd0-52dc-4eb8-aaff-8d122619bab0",
   "metadata": {},
   "outputs": [
    {
     "data": {
      "text/plain": [
       "36"
      ]
     },
     "execution_count": 74,
     "metadata": {},
     "output_type": "execute_result"
    }
   ],
   "source": [
    "reduce(add,l)"
   ]
  },
  {
   "cell_type": "code",
   "execution_count": 75,
   "id": "4a7e4cb1-8b8c-4422-be28-407785bcd97a",
   "metadata": {},
   "outputs": [
    {
     "ename": "NameError",
     "evalue": "name 'z' is not defined",
     "output_type": "error",
     "traceback": [
      "\u001b[0;31m---------------------------------------------------------------------------\u001b[0m",
      "\u001b[0;31mNameError\u001b[0m                                 Traceback (most recent call last)",
      "Cell \u001b[0;32mIn[75], line 1\u001b[0m\n\u001b[0;32m----> 1\u001b[0m \u001b[43mreduce\u001b[49m\u001b[43m(\u001b[49m\u001b[38;5;28;43;01mlambda\u001b[39;49;00m\u001b[43m \u001b[49m\u001b[43mx\u001b[49m\u001b[43m,\u001b[49m\u001b[43my\u001b[49m\u001b[43m \u001b[49m\u001b[43m:\u001b[49m\u001b[43m \u001b[49m\u001b[43mx\u001b[49m\u001b[38;5;241;43m+\u001b[39;49m\u001b[43my\u001b[49m\u001b[38;5;241;43m+\u001b[39;49m\u001b[43mz\u001b[49m\u001b[43m,\u001b[49m\u001b[43m \u001b[49m\u001b[43ml\u001b[49m\u001b[43m)\u001b[49m\n",
      "Cell \u001b[0;32mIn[75], line 1\u001b[0m, in \u001b[0;36m<lambda>\u001b[0;34m(x, y)\u001b[0m\n\u001b[0;32m----> 1\u001b[0m reduce(\u001b[38;5;28;01mlambda\u001b[39;00m x,y : x\u001b[38;5;241m+\u001b[39my\u001b[38;5;241m+\u001b[39m\u001b[43mz\u001b[49m, l)\n",
      "\u001b[0;31mNameError\u001b[0m: name 'z' is not defined"
     ]
    }
   ],
   "source": [
    "reduce(lambda x,y : x+y+z, l)"
   ]
  },
  {
   "cell_type": "markdown",
   "id": "8fc2c95d-c3d0-4582-b958-790ad82ae4eb",
   "metadata": {},
   "source": [
    "#### here we are getting an error because , the number of elements when using combination of x, y & z is less\n",
    "#### it is better to use only 2 arguments not more than that"
   ]
  },
  {
   "cell_type": "code",
   "execution_count": null,
   "id": "07fc1a40-a73a-4801-91af-981df9669674",
   "metadata": {},
   "outputs": [],
   "source": [
    "reduce(lambda x,y : x+y, [])\n",
    "#Passing empty list"
   ]
  },
  {
   "cell_type": "code",
   "execution_count": 77,
   "id": "bdfac3fe-0960-482a-840a-5441a74cb7d9",
   "metadata": {},
   "outputs": [
    {
     "data": {
      "text/plain": [
       "1"
      ]
     },
     "execution_count": 77,
     "metadata": {},
     "output_type": "execute_result"
    }
   ],
   "source": [
    "reduce(lambda x,y : x+y, [1])\n",
    "#it is an exceptional case of reduce function where only 1 elements works"
   ]
  },
  {
   "cell_type": "code",
   "execution_count": 78,
   "id": "ea011ca0-8c4c-44b6-ad4d-7557292b03c6",
   "metadata": {},
   "outputs": [
    {
     "data": {
      "text/plain": [
       "1"
      ]
     },
     "execution_count": 78,
     "metadata": {},
     "output_type": "execute_result"
    }
   ],
   "source": [
    "reduce(lambda x,y : x*y, [1])\n"
   ]
  },
  {
   "cell_type": "markdown",
   "id": "df2579ba-fb88-44e3-8aeb-284db9814524",
   "metadata": {},
   "source": [
    "#### Que- find a maximum element of the list"
   ]
  },
  {
   "cell_type": "code",
   "execution_count": 79,
   "id": "d54ef97c-7217-4c79-98dd-fb8e1ce9d45f",
   "metadata": {},
   "outputs": [
    {
     "data": {
      "text/plain": [
       "8"
      ]
     },
     "execution_count": 79,
     "metadata": {},
     "output_type": "execute_result"
    }
   ],
   "source": [
    "reduce(lambda x,y : x if x>y else y, l)"
   ]
  },
  {
   "cell_type": "markdown",
   "id": "4e95ecf8-b2c3-4b0f-8e2d-e35b776992fc",
   "metadata": {},
   "source": [
    "#### Filter function"
   ]
  },
  {
   "cell_type": "code",
   "execution_count": 80,
   "id": "c4c09c3d-1951-4d93-999d-192ddce3ec16",
   "metadata": {},
   "outputs": [],
   "source": [
    "# Function helps to filter out the data "
   ]
  },
  {
   "cell_type": "markdown",
   "id": "56abd796-b737-4f70-87a2-98f4aba159a4",
   "metadata": {},
   "source": [
    "#### Q - Filter only even numberfrom the the list"
   ]
  },
  {
   "cell_type": "code",
   "execution_count": 85,
   "id": "ffdcb9c8-b770-4d46-a8c4-3e74a971e0df",
   "metadata": {},
   "outputs": [
    {
     "data": {
      "text/plain": [
       "[2, 4, 6, 8]"
      ]
     },
     "execution_count": 85,
     "metadata": {},
     "output_type": "execute_result"
    }
   ],
   "source": [
    "list(filter(lambda x: x%2==0,l))"
   ]
  },
  {
   "cell_type": "markdown",
   "id": "d059a4fd-62bb-42e9-a6b8-61ff9e3abbd5",
   "metadata": {},
   "source": [
    "#### Find odd element"
   ]
  },
  {
   "cell_type": "code",
   "execution_count": 86,
   "id": "2b4fdd3d-3229-47a1-8296-7d38e97173dc",
   "metadata": {},
   "outputs": [
    {
     "data": {
      "text/plain": [
       "[1, 3, 5, 7]"
      ]
     },
     "execution_count": 86,
     "metadata": {},
     "output_type": "execute_result"
    }
   ],
   "source": [
    "list(filter(lambda x: x%2==1,l))\n"
   ]
  },
  {
   "cell_type": "code",
   "execution_count": 92,
   "id": "53c3c3ef-1917-48dc-9908-3bbdedb58fc0",
   "metadata": {},
   "outputs": [],
   "source": [
    "l3  = [-2,45,-5,7,-8]"
   ]
  },
  {
   "cell_type": "code",
   "execution_count": 93,
   "id": "e9f1fa9a-6a73-4f9c-ae2d-baeaa819f400",
   "metadata": {},
   "outputs": [
    {
     "data": {
      "text/plain": [
       "[-2, -5, -8]"
      ]
     },
     "execution_count": 93,
     "metadata": {},
     "output_type": "execute_result"
    }
   ],
   "source": [
    "list(filter(lambda x: x<0,l3))"
   ]
  },
  {
   "cell_type": "code",
   "execution_count": 94,
   "id": "2b442aec-4027-4f04-a7c9-6fe10aaa9485",
   "metadata": {},
   "outputs": [
    {
     "data": {
      "text/plain": [
       "[45, 7]"
      ]
     },
     "execution_count": 94,
     "metadata": {},
     "output_type": "execute_result"
    }
   ],
   "source": [
    "list(filter(lambda x: x>0,l3))"
   ]
  },
  {
   "cell_type": "code",
   "execution_count": 96,
   "id": "b3729857-b239-4434-8867-c1b39a775600",
   "metadata": {},
   "outputs": [],
   "source": [
    "l4 =[\"anu\",\"pwskills\",\"bangalore\",\"krish\"]\n",
    "#Extract those strings whose length is lesser than 6"
   ]
  },
  {
   "cell_type": "code",
   "execution_count": 98,
   "id": "cc16e1fd-bbb5-47cf-9369-f1b351fd52b7",
   "metadata": {},
   "outputs": [
    {
     "data": {
      "text/plain": [
       "['anu', 'krish']"
      ]
     },
     "execution_count": 98,
     "metadata": {},
     "output_type": "execute_result"
    }
   ],
   "source": [
    "list(filter(lambda x : len(x)<6,l4))"
   ]
  },
  {
   "cell_type": "code",
   "execution_count": null,
   "id": "0fd0d014-95c3-4e41-9dde-ed6f805e10ab",
   "metadata": {},
   "outputs": [],
   "source": []
  }
 ],
 "metadata": {
  "kernelspec": {
   "display_name": "Python 3 (ipykernel)",
   "language": "python",
   "name": "python3"
  },
  "language_info": {
   "codemirror_mode": {
    "name": "ipython",
    "version": 3
   },
   "file_extension": ".py",
   "mimetype": "text/x-python",
   "name": "python",
   "nbconvert_exporter": "python",
   "pygments_lexer": "ipython3",
   "version": "3.10.8"
  }
 },
 "nbformat": 4,
 "nbformat_minor": 5
}
