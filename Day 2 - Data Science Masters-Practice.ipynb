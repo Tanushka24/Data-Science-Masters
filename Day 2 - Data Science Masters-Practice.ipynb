{
 "cells": [
  {
   "cell_type": "code",
   "execution_count": 1,
   "id": "3520cbd9-1ae8-4be1-9df1-30ab46250918",
   "metadata": {},
   "outputs": [],
   "source": [
    "a=10"
   ]
  },
  {
   "cell_type": "code",
   "execution_count": 2,
   "id": "06a715fe-416b-46a8-97cb-15863bd382e7",
   "metadata": {},
   "outputs": [
    {
     "data": {
      "text/plain": [
       "10"
      ]
     },
     "execution_count": 2,
     "metadata": {},
     "output_type": "execute_result"
    }
   ],
   "source": [
    "a"
   ]
  },
  {
   "cell_type": "code",
   "execution_count": 3,
   "id": "37fbd4c2-5571-4fba-8cc9-07e28ba9c71d",
   "metadata": {},
   "outputs": [],
   "source": [
    "a = 'c'"
   ]
  },
  {
   "cell_type": "code",
   "execution_count": 4,
   "id": "0a8dfae0-0387-4b70-9110-4b0829362b6a",
   "metadata": {},
   "outputs": [
    {
     "data": {
      "text/plain": [
       "'c'"
      ]
     },
     "execution_count": 4,
     "metadata": {},
     "output_type": "execute_result"
    }
   ],
   "source": [
    "a"
   ]
  },
  {
   "cell_type": "code",
   "execution_count": 6,
   "id": "a41b8835-be10-4a45-ad94-02283b887890",
   "metadata": {},
   "outputs": [
    {
     "data": {
      "text/plain": [
       "str"
      ]
     },
     "execution_count": 6,
     "metadata": {},
     "output_type": "execute_result"
    }
   ],
   "source": [
    "# Type of a is string here (a has a single variable but in other programming languages it is char)\n",
    "type(a)"
   ]
  },
  {
   "cell_type": "markdown",
   "id": "4f48ead6-924d-4e54-9eb0-9345847f8cbc",
   "metadata": {},
   "source": [
    "### Print Function"
   ]
  },
  {
   "cell_type": "code",
   "execution_count": 8,
   "id": "0ce6febb-b61d-4057-b2b6-65bcac4f2375",
   "metadata": {},
   "outputs": [
    {
     "name": "stdout",
     "output_type": "stream",
     "text": [
      "hello world\n"
     ]
    }
   ],
   "source": [
    "print(\"hello world\")"
   ]
  },
  {
   "cell_type": "code",
   "execution_count": 9,
   "id": "2f10e25a-9155-40cf-b5c9-1c39e76fdffb",
   "metadata": {},
   "outputs": [
    {
     "name": "stdout",
     "output_type": "stream",
     "text": [
      "123\n"
     ]
    }
   ],
   "source": [
    "print(123)"
   ]
  },
  {
   "cell_type": "code",
   "execution_count": 11,
   "id": "de572ce5-ba03-4eb2-b873-07adf60f3b9e",
   "metadata": {},
   "outputs": [
    {
     "name": "stdout",
     "output_type": "stream",
     "text": [
      "My age is: 26\n"
     ]
    }
   ],
   "source": [
    "#Another way to print a  statement\n",
    "age = 26\n",
    "print(\"My age is:\",age)"
   ]
  },
  {
   "cell_type": "code",
   "execution_count": 12,
   "id": "50c1891e-7d3e-4c81-972c-a0995014084c",
   "metadata": {},
   "outputs": [
    {
     "name": "stdout",
     "output_type": "stream",
     "text": [
      "My age is: {26}\n"
     ]
    }
   ],
   "source": [
    "print (\"My age is:\",{age})"
   ]
  },
  {
   "cell_type": "code",
   "execution_count": 13,
   "id": "13980fd0-f53c-45a8-95ad-8c6f21827e29",
   "metadata": {},
   "outputs": [
    {
     "name": "stdout",
     "output_type": "stream",
     "text": [
      "My age is:,{age}\n"
     ]
    }
   ],
   "source": [
    "print (\"My age is:,{age}\")"
   ]
  },
  {
   "cell_type": "code",
   "execution_count": 16,
   "id": "4e4c6326-43ad-49dd-8d33-169a946a03cb",
   "metadata": {},
   "outputs": [
    {
     "name": "stdout",
     "output_type": "stream",
     "text": [
      "My age is:26\n"
     ]
    }
   ],
   "source": [
    "#fstring\n",
    "print (f\"My age is:{age}\")"
   ]
  },
  {
   "cell_type": "code",
   "execution_count": 18,
   "id": "41ca076c-da82-4aab-9ce1-779229bdced1",
   "metadata": {},
   "outputs": [
    {
     "name": "stdout",
     "output_type": "stream",
     "text": [
      "My name is Anushka and my age is 26\n"
     ]
    }
   ],
   "source": [
    "# format()\n",
    "name = \"Anushka\"\n",
    "age = 26\n",
    "print(\"My name is {} and my age is {}\".format(name,age))"
   ]
  },
  {
   "cell_type": "code",
   "execution_count": 19,
   "id": "a8378707-fab4-44b1-ac8f-8b31d8795c1d",
   "metadata": {},
   "outputs": [
    {
     "name": "stdout",
     "output_type": "stream",
     "text": [
      "My name is Anushka and my age is 26\n"
     ]
    }
   ],
   "source": [
    "print(\"My name is {firstname} and my age is {firstage}\".format(firstname= name,firstage = age))"
   ]
  },
  {
   "cell_type": "code",
   "execution_count": 2,
   "id": "91da1760-9566-46c2-875b-49f4b568e0f5",
   "metadata": {},
   "outputs": [
    {
     "name": "stdout",
     "output_type": "stream",
     "text": [
      "My age is 24 and i have completed: my degree of BE with the name of Pikachu\n"
     ]
    }
   ],
   "source": [
    "# Task\n",
    "name = \"Pikachu\"\n",
    "age = 24\n",
    "degree = \"BE\"\n",
    "print(\"My age is {new_age} and i have completed: my degree of {new_course} with the name of {new_name}\".format(new_age = age,new_course=degree,new_name = name))"
   ]
  },
  {
   "cell_type": "code",
   "execution_count": 4,
   "id": "181592cf-fd0d-43d0-bbd0-e797bc1e9ad8",
   "metadata": {},
   "outputs": [
    {
     "name": "stdout",
     "output_type": "stream",
     "text": [
      "My age is 24 and i have completed: my degree of BE with the name of Pikachu\n"
     ]
    }
   ],
   "source": [
    "#Another way of writing the above code\n",
    "print(\"My age is {} and i have completed: my degree of {} with the name of {}\".format(age,degree,name))"
   ]
  },
  {
   "cell_type": "markdown",
   "id": "763c239e-8aba-4b7e-87d7-f629f2f28752",
   "metadata": {},
   "source": [
    "## Control Flow\n",
    "   #### Here, we are going to review and learn the most fundamentals of Python control flow: Decision making statement and    loops.\n",
    "\n",
    "### 4.1 Decision Making Statements\n",
    " * It is kind of making decision during occurred situation of program execution and action can be taken according to specified conditions.\n",
    "   * Structure of decision making evaluate several expressions that provide True or False as a result.\n",
    "   * It is up to you to decide which type of action want to take and execute the statements based upon True and False.\n",
    "   \n",
    "**These are several topics of decision making which going to be discussed below:**\n",
    "   1. **if**\n",
    "   2. **if else** \n",
    "   3. **if elif else**\n",
    "   4. **Nested if**\n",
    "   5. **Single Statement Suites**"
   ]
  },
  {
   "cell_type": "markdown",
   "id": "93d3bee6-3a25-4323-a502-d50cd7286340",
   "metadata": {},
   "source": [
    "## 1.If Statement"
   ]
  },
  {
   "cell_type": "code",
   "execution_count": 6,
   "id": "5c4741ae-0ae8-48df-85f7-bbbf550dda55",
   "metadata": {},
   "outputs": [
    {
     "name": "stdout",
     "output_type": "stream",
     "text": [
      "You are eligible to vote\n"
     ]
    }
   ],
   "source": [
    "age = 18\n",
    "if age>= 18:\n",
    "    print(\"You are eligible to vote\")"
   ]
  },
  {
   "cell_type": "code",
   "execution_count": 8,
   "id": "c2ee75e7-5869-4d9a-beb4-a971dd019daf",
   "metadata": {},
   "outputs": [],
   "source": [
    "age = 18\n",
    "if age< 18:\n",
    "    print(\"You are not eligible to vote\")\n",
    "# Nothing is coming as O/p because the condition is not satisfied"
   ]
  },
  {
   "cell_type": "code",
   "execution_count": 10,
   "id": "38ae3d20-bc4d-4e54-a16f-ff246ada5689",
   "metadata": {},
   "outputs": [
    {
     "name": "stdout",
     "output_type": "stream",
     "text": [
      "You are not eligible to vote\n"
     ]
    }
   ],
   "source": [
    "age = 17\n",
    "if age< 18:\n",
    "    print(\"You are not eligible to vote\")"
   ]
  },
  {
   "cell_type": "markdown",
   "id": "6c649718-e1ad-49ee-9319-3905e0256558",
   "metadata": {},
   "source": [
    "### Note: colon indicates starts of the if block"
   ]
  },
  {
   "cell_type": "markdown",
   "id": "d4bf642a-a440-4bef-9fc1-45dfdccb0e08",
   "metadata": {},
   "source": [
    "### Input Function"
   ]
  },
  {
   "cell_type": "code",
   "execution_count": 12,
   "id": "5c3b9fb1-c45f-4985-ad21-4de7e6a170f8",
   "metadata": {},
   "outputs": [
    {
     "name": "stdin",
     "output_type": "stream",
     "text": [
      "Enter your name Anushka\n",
      "Enter your age 26\n"
     ]
    }
   ],
   "source": [
    "name = input(\"Enter your name\")\n",
    "age = input(\"Enter your age\")"
   ]
  },
  {
   "cell_type": "code",
   "execution_count": 13,
   "id": "7caf3aa7-777b-40c1-9abb-d0491ae0d5d4",
   "metadata": {},
   "outputs": [
    {
     "data": {
      "text/plain": [
       "('Anushka', '26')"
      ]
     },
     "execution_count": 13,
     "metadata": {},
     "output_type": "execute_result"
    }
   ],
   "source": [
    "name,age"
   ]
  },
  {
   "cell_type": "code",
   "execution_count": 14,
   "id": "a0dd2fcd-f560-4ebf-8f20-9beada2c1c4b",
   "metadata": {},
   "outputs": [
    {
     "data": {
      "text/plain": [
       "(str, str)"
      ]
     },
     "execution_count": 14,
     "metadata": {},
     "output_type": "execute_result"
    }
   ],
   "source": [
    "type(name),type(age)"
   ]
  },
  {
   "cell_type": "markdown",
   "id": "f0eafe23-9f2a-43e6-bbe1-42815e3da88c",
   "metadata": {},
   "source": [
    "### Default datatype of input function is 'String', so, we have to typecast the integer number after taking the inputs"
   ]
  },
  {
   "cell_type": "code",
   "execution_count": 15,
   "id": "00196b7b-d942-4741-bcd6-f2422c8016a4",
   "metadata": {},
   "outputs": [
    {
     "name": "stdin",
     "output_type": "stream",
     "text": [
      "Enter your age 26\n"
     ]
    }
   ],
   "source": [
    "age = int(input(\"Enter your age\"))"
   ]
  },
  {
   "cell_type": "code",
   "execution_count": 17,
   "id": "c4435da2-ceb1-4479-be04-b518266e2833",
   "metadata": {},
   "outputs": [
    {
     "data": {
      "text/plain": [
       "int"
      ]
     },
     "execution_count": 17,
     "metadata": {},
     "output_type": "execute_result"
    }
   ],
   "source": [
    "type(age)\n",
    "# age is now converted to integer from text"
   ]
  },
  {
   "cell_type": "code",
   "execution_count": 18,
   "id": "9c3bc41f-24d0-4772-ab57-2e7dbe275f74",
   "metadata": {},
   "outputs": [],
   "source": [
    "# Task \n",
    "# Take input of age\n",
    "# check whether age >=18 and age <=45\n",
    "# Display a message you are young blood"
   ]
  },
  {
   "cell_type": "code",
   "execution_count": 22,
   "id": "3a45ef32-18c6-4428-8336-95f043bfe2f7",
   "metadata": {},
   "outputs": [
    {
     "name": "stdin",
     "output_type": "stream",
     "text": [
      "Enter your age 26\n"
     ]
    },
    {
     "name": "stdout",
     "output_type": "stream",
     "text": [
      "You are young blood\n"
     ]
    }
   ],
   "source": [
    "age = int(input(\"Enter your age\"))\n",
    "if age >=18 and age <=45:\n",
    "    print(\"You are young blood\")"
   ]
  },
  {
   "cell_type": "code",
   "execution_count": 23,
   "id": "470db402-f731-463f-a74e-e46a15cf3793",
   "metadata": {},
   "outputs": [
    {
     "name": "stdin",
     "output_type": "stream",
     "text": [
      "Enter your age 16\n"
     ]
    },
    {
     "name": "stdout",
     "output_type": "stream",
     "text": [
      "Thank you for applying, your application is rejected\n"
     ]
    }
   ],
   "source": [
    "age = int(input(\"Enter your age\"))\n",
    "if age >=18 and age <=45:\n",
    "    print(\"You are young blood\")\n",
    "else:\n",
    "    print(\"Thank you for applying, your application is rejected\")"
   ]
  },
  {
   "cell_type": "code",
   "execution_count": 24,
   "id": "2bf9e6f5-33c0-431c-8e27-be24521c1596",
   "metadata": {},
   "outputs": [],
   "source": [
    "## mall - input product price\n",
    "## product >1000rs 20% off\n",
    "## print the product price after discount\n",
    "## product <=1000rs 30% off\n",
    "## print the product price after discount\n"
   ]
  },
  {
   "cell_type": "code",
   "execution_count": 30,
   "id": "6523ee60-17eb-42f6-b768-bbb2fe96bd8d",
   "metadata": {},
   "outputs": [
    {
     "name": "stdin",
     "output_type": "stream",
     "text": [
      "Enter the price of the product 1500\n"
     ]
    },
    {
     "name": "stdout",
     "output_type": "stream",
     "text": [
      "1200.0\n"
     ]
    }
   ],
   "source": [
    "product_price = int(input (\"Enter the price of the product\"))\n",
    "if product_price >1000:\n",
    "    print(product_price - product_price*0.2)\n",
    "elif product_price <=1000:\n",
    "    print(product_price - product_price*0.3)"
   ]
  },
  {
   "cell_type": "code",
   "execution_count": 31,
   "id": "70446c52-2767-4d46-9801-e8dd0e580553",
   "metadata": {},
   "outputs": [
    {
     "name": "stdin",
     "output_type": "stream",
     "text": [
      "Enter the price of the product 400\n"
     ]
    },
    {
     "name": "stdout",
     "output_type": "stream",
     "text": [
      "The price of the product is 280.0\n"
     ]
    }
   ],
   "source": [
    "product_price = int(input (\"Enter the price of the product\"))\n",
    "if product_price >1000:\n",
    "    print(\"The price of the product is {}\".format(product_price - product_price*0.2))\n",
    "elif product_price <=1000:\n",
    "    print(\"The price of the product is {}\".format(product_price - product_price*0.3))"
   ]
  },
  {
   "cell_type": "code",
   "execution_count": 32,
   "id": "ea5bb554-ecc1-4196-b488-dfc1762b5ef2",
   "metadata": {},
   "outputs": [],
   "source": [
    "## mall - input product price\n",
    "## product >3000rs 20% off\n",
    "## print the product price after discount\n",
    "## product >=2000rs and <=3000 30% off\n",
    "## print the product price after discount\n",
    "## product <=1000rs and <=2000 40% off\n",
    "## print the product price after discount\n"
   ]
  },
  {
   "cell_type": "code",
   "execution_count": 38,
   "id": "92c561ad-9768-466c-8661-99f5d86611d5",
   "metadata": {},
   "outputs": [
    {
     "name": "stdin",
     "output_type": "stream",
     "text": [
      "Enter the price of the product 4500\n"
     ]
    },
    {
     "name": "stdout",
     "output_type": "stream",
     "text": [
      "The price of the product is 3600.0\n"
     ]
    }
   ],
   "source": [
    "product_price = int(input (\"Enter the price of the product\"))\n",
    "if product_price >3000:\n",
    "    print(\"The price of the product is {}\".format(product_price - product_price*0.2))\n",
    "elif product_price >=2000 and product_price <=3000:\n",
    "    print(\"The price of the product is {}\".format(product_price - product_price*0.3))\n",
    "elif product_price <=1000 and product_price <=2000:\n",
    "    print(\"The price of the product is {}\".format(product_price - product_price*0.4))\n",
    "\n",
    "    "
   ]
  },
  {
   "cell_type": "code",
   "execution_count": 1,
   "id": "0842713f-5c91-4c5e-b705-7d1578627915",
   "metadata": {},
   "outputs": [
    {
     "name": "stdin",
     "output_type": "stream",
     "text": [
      "Enter the price of the product 240\n"
     ]
    },
    {
     "name": "stdout",
     "output_type": "stream",
     "text": [
      "The price of the product is144.0\n"
     ]
    }
   ],
   "source": [
    "product_price= int(input(\"Enter the price of the product\"))\n",
    "if product_price>3000:\n",
    "    print(\"The price of the product is {}\".format(product_price - product_price*0.2))\n",
    "elif product_price>=2000 and product_price<=3000:\n",
    "    print(\"The price of the product is{}\". format(product_price - product_price*0.3)) \n",
    "else: \n",
    "    print(\"The price of the product is{}\". format(product_price - product_price*0.4))"
   ]
  },
  {
   "cell_type": "code",
   "execution_count": 8,
   "id": "8201b151-a7eb-479f-bca9-0f873b7e1e23",
   "metadata": {},
   "outputs": [
    {
     "name": "stdin",
     "output_type": "stream",
     "text": [
      "Enter the number 56\n"
     ]
    },
    {
     "name": "stdout",
     "output_type": "stream",
     "text": [
      "Value is less than equal to 999\n"
     ]
    }
   ],
   "source": [
    "#Single Statement \n",
    "val=int(input('Enter the number'))\n",
    "if(val<=999):print(\"Value is less than equal to 999\")\n",
    "else:\n",
    "    print(\"Go Home\")"
   ]
  },
  {
   "cell_type": "code",
   "execution_count": 9,
   "id": "8817bbfe-ff07-46f0-b271-9e4c24cb7c1e",
   "metadata": {},
   "outputs": [
    {
     "name": "stdout",
     "output_type": "stream",
     "text": [
      "26\n",
      "27\n",
      "28\n",
      "29\n",
      "30\n",
      "31\n",
      "32\n",
      "33\n",
      "34\n",
      "35\n",
      "36\n",
      "37\n",
      "38\n",
      "39\n",
      "40\n",
      "41\n",
      "42\n",
      "43\n",
      "44\n",
      "45\n",
      "46\n",
      "47\n",
      "48\n",
      "49\n",
      "50\n",
      "51\n",
      "52\n",
      "53\n",
      "54\n",
      "55\n",
      "56\n",
      "57\n",
      "58\n",
      "59\n",
      "60\n",
      "61\n",
      "its time to retire\n"
     ]
    }
   ],
   "source": [
    "## Loops Statement\n",
    "#1. While loops\n",
    "#2. For Loops\n",
    "#3. Nested Loops\n",
    "#4. Loop Control(break,continue & pass)\n",
    "# While loop\n",
    "joining_age = 25\n",
    "while joining_age<=60:\n",
    "    joining_age=joining_age+1\n",
    "    print(joining_age) \n",
    "else:\n",
    "    print(\"its time to retire\")\n",
    "#Note :Try to avoid conditions going to infinite loop"
   ]
  },
  {
   "cell_type": "code",
   "execution_count": 10,
   "id": "238ae6f3-8b89-41c8-8887-6c9fbe127b60",
   "metadata": {},
   "outputs": [
    {
     "name": "stdout",
     "output_type": "stream",
     "text": [
      "900\n",
      "800\n",
      "700\n",
      "600\n",
      "500\n",
      "400\n",
      "300\n",
      "200\n",
      "100\n",
      "0\n",
      "Put more money in the account\n"
     ]
    }
   ],
   "source": [
    "# ATM machine with 1000 rupees\n",
    "total_amount = 1000\n",
    "while total_amount != 0:\n",
    "    total_amount = total_amount -100\n",
    "    print(total_amount)\n",
    "else:\n",
    "    print(\"Put more money in the account\")"
   ]
  },
  {
   "cell_type": "code",
   "execution_count": 11,
   "id": "ad7a076f-3f7f-4324-a9af-30c41969d40b",
   "metadata": {},
   "outputs": [
    {
     "name": "stdout",
     "output_type": "stream",
     "text": [
      "<class 'list'>\n",
      "apple\n",
      "['Krish', 1, 2, 3, 'apple', 'bnana']\n"
     ]
    }
   ],
   "source": [
    "#For Loops\n",
    "#Note : It is generally used for iteration in containers such as list,dictionary & tuples\n",
    "lst= [\"Krish\",1,2,3,\"apple\",\"bnana\"]\n",
    "print(type(lst))\n"
   ]
  },
  {
   "cell_type": "code",
   "execution_count": null,
   "id": "5ccaf73d-3813-467e-9483-682796003178",
   "metadata": {},
   "outputs": [],
   "source": [
    "print(lst[4])"
   ]
  },
  {
   "cell_type": "code",
   "execution_count": null,
   "id": "cb144ac7-5a93-4c6c-a8bd-f61a8537f41e",
   "metadata": {},
   "outputs": [],
   "source": [
    "print(lst)"
   ]
  },
  {
   "cell_type": "code",
   "execution_count": null,
   "id": "5d32323a-def3-4cef-897b-6d70cbd2b61a",
   "metadata": {},
   "outputs": [],
   "source": [
    "#basic syntax\n",
    "for x in lst:\n",
    "    print(x)"
   ]
  },
  {
   "cell_type": "code",
   "execution_count": 12,
   "id": "03249e2a-6ef5-4952-b0b5-0896e212bb9d",
   "metadata": {},
   "outputs": [
    {
     "name": "stdout",
     "output_type": "stream",
     "text": [
      "apple\n",
      "banana\n",
      "grapes\n",
      "kiwi\n",
      "The fruit is kiwi\n",
      "orange\n"
     ]
    }
   ],
   "source": [
    "fruits =[\"apple\",\"banana\",\"grapes\",\"kiwi\",\"orange\"]\n",
    "for a in fruits:\n",
    "    print(a)\n",
    "    if a == \"kiwi\":\n",
    "        print(\"The fruit is kiwi\")"
   ]
  },
  {
   "cell_type": "code",
   "execution_count": 13,
   "id": "5c4bba66-d8e9-4e7e-aee4-97975d216f76",
   "metadata": {},
   "outputs": [
    {
     "name": "stdout",
     "output_type": "stream",
     "text": [
      "applebananagrapeskiwiorangem\n",
      "a\n",
      "n\n",
      "g\n",
      "o\n"
     ]
    }
   ],
   "source": [
    "#for next line use end=''\n",
    "for a in fruits:\n",
    "    print(a,end ='')\n",
    "fruit = 'mango'\n",
    "for x in fruit:\n",
    "        print(x)\n",
    "# all the letters in the fruit variable are print seperatly\n",
    "#String is also a collection of elements and we can use indexing here also"
   ]
  },
  {
   "cell_type": "code",
   "execution_count": 14,
   "id": "ff818ac3-894d-4901-bbc1-f6ae3d47ee6f",
   "metadata": {},
   "outputs": [
    {
     "name": "stdout",
     "output_type": "stream",
     "text": [
      "1\n",
      "2\n",
      "3\n",
      "4\n",
      "5\n",
      "1\n",
      "3\n",
      "5\n"
     ]
    }
   ],
   "source": [
    "#Nested Loops #range(start,stop,step) (last element -1)\n",
    "for i in range(1,6):\n",
    "    print(i) "
   ]
  },
  {
   "cell_type": "code",
   "execution_count": 21,
   "id": "a25443cf-641b-4b23-b6c9-18a313211641",
   "metadata": {},
   "outputs": [
    {
     "name": "stdout",
     "output_type": "stream",
     "text": [
      "1\n",
      "3\n",
      "5\n"
     ]
    }
   ],
   "source": [
    "#by default the step size is 1 \n",
    "for i in range(1,6,2):\n",
    "    print(i)"
   ]
  },
  {
   "cell_type": "code",
   "execution_count": 22,
   "id": "0d0c7388-1f93-44dc-8c93-39a6e82f82b0",
   "metadata": {},
   "outputs": [],
   "source": [
    "###  Nested loops\n",
    "n=7"
   ]
  },
  {
   "cell_type": "code",
   "execution_count": 23,
   "id": "9e4f9ddb-a64c-4748-89c2-341142d5faa6",
   "metadata": {},
   "outputs": [
    {
     "name": "stdout",
     "output_type": "stream",
     "text": [
      "1\n",
      "2\n",
      "3\n",
      "4\n",
      "5\n",
      "6\n",
      "7\n",
      "8\n",
      "9\n"
     ]
    }
   ],
   "source": [
    "## range\n",
    "for i in range(1,10):\n",
    "    print(i)"
   ]
  },
  {
   "cell_type": "code",
   "execution_count": 24,
   "id": "4a5c5bd7-cf0f-41bd-9857-4fceff6ee8a9",
   "metadata": {},
   "outputs": [
    {
     "name": "stdout",
     "output_type": "stream",
     "text": [
      "0\n",
      "2\n",
      "4\n",
      "6\n"
     ]
    }
   ],
   "source": [
    "for i in range(0,7,2):\n",
    "    print(i)"
   ]
  },
  {
   "cell_type": "code",
   "execution_count": 25,
   "id": "cb17c621-d7ea-4bf1-8593-bf26d71cec14",
   "metadata": {},
   "outputs": [
    {
     "name": "stdout",
     "output_type": "stream",
     "text": [
      "*\n",
      "**\n",
      "***\n",
      "****\n",
      "*****\n",
      "******\n",
      "*******\n",
      "********\n"
     ]
    }
   ],
   "source": [
    "#Nested Loops \n",
    "n = 8\n",
    "for i in range(0,n):\n",
    "    for j in range(0,i+1):\n",
    "        print(\"*\",end=\"\")\n",
    "    print(\"\\r\")\n",
    "    #\\r = move to next line to the leftmost side\n",
    "    #\\n = will print same but with a line gap Assignment * * * * * * * * * * * * * * *"
   ]
  },
  {
   "cell_type": "code",
   "execution_count": 26,
   "id": "f2119a20-750e-4368-9660-adbc6a0e4533",
   "metadata": {},
   "outputs": [
    {
     "name": "stdout",
     "output_type": "stream",
     "text": [
      "BREAK\n",
      "CONTINUE\n",
      "The fruit is kiwi\n",
      "CONTINUE\n",
      "The fruit is kiwi\n",
      "CONTINUE\n",
      "The fruit is kiwi\n",
      "The fruit is kiwi\n",
      "kiwi\n",
      "CONTINUE\n",
      "The fruit is kiwi\n",
      "CONTINUE\n",
      "The fruit is kiwi\n",
      "CONTINUE\n",
      "The fruit is kiwi\n",
      "CONTINUE\n",
      "The fruit is kiwi\n",
      "CONTINUE\n",
      "The fruit is kiwi\n",
      "The fruit is kiwi\n",
      "kiwi\n",
      "CONTINUE\n",
      "The fruit is kiwi\n",
      "CONTINUE\n",
      "The fruit is kiwi\n",
      "CONTINUE\n",
      "The fruit is kiwi\n",
      "CONTINUE\n",
      "The fruit is kiwi\n",
      "CONTINUE\n",
      "The fruit is kiwi\n",
      "The fruit is kiwi\n",
      "kiwi\n",
      "CONTINUE\n",
      "The fruit is kiwi\n",
      "CONTINUE\n",
      "The fruit is kiwi\n",
      "The fruit is kiwi\n"
     ]
    }
   ],
   "source": [
    "# Online Python compiler (interpreter) to run Python online.\n",
    "# Write Python 3 code in this online editor and run it.\n",
    "# Loop Control\n",
    "#Break and continue\n",
    "fruits =[\"apple\",\"banana\",\"grapes\",\"kiwi\",\"orange\"]\n",
    "print(\"BREAK\")\n",
    "for i in fruits:\n",
    "    \n",
    "    if i == \"kiwi\":\n",
    "        print(\"The fruit is kiwi\")\n",
    "        break\n",
    "        print(i)\n",
    "        print(\"PASS\")\n",
    "        \n",
    "        \n",
    "        \n",
    "        \n",
    "    for i in fruits:\n",
    "        if i == \"kiwi\":\n",
    "            print(\"The fruit is kiwi\")\n",
    "            pass\n",
    "            print(i)\n",
    "        print(\"CONTINUE\")\n",
    "        \n",
    "        \n",
    "        \n",
    "        \n",
    "        for i in fruits:\n",
    "            if i == \"kiwi\":\n",
    "                print(\"The fruit is kiwi\")\n",
    "                continue\n",
    "                print(i)\n",
    "                # In break, the loop got over when the element is found,\n",
    "                #In continue, the loop worked as normal whereas in continue, it is skipped the element we were searching for"
   ]
  },
  {
   "cell_type": "code",
   "execution_count": null,
   "id": "4f05c10d-6e13-4edc-843e-2d5c08e2d1d9",
   "metadata": {},
   "outputs": [],
   "source": [
    "##Loop controls\n",
    "## Break and continue\n",
    "## In break, the loop got over when the element is found,\n",
    "##In continue, the loop worked as normal whereas in continue, it is skipped the element we were searching for\n",
    "fruits_list = [\"Mango\",\"Cherry\",\"Apple\",\"Papaya\",\"Banana\"]"
   ]
  },
  {
   "cell_type": "code",
   "execution_count": null,
   "id": "1c751e49-3be0-4dbb-ac1c-c74f4b064e28",
   "metadata": {},
   "outputs": [],
   "source": [
    "for i in fruits_list:\n",
    "    if i==\"Apple\":\n",
    "        print(\"The fruit is apple\")\n",
    "        break\n",
    "    print(i)"
   ]
  },
  {
   "cell_type": "code",
   "execution_count": null,
   "id": "2238e966-aca6-44a7-9529-89fb6044a2f0",
   "metadata": {},
   "outputs": [],
   "source": [
    "for i in fruits_list:\n",
    "    if i==\"Apple\":\n",
    "        print(\"The fruit is apple\")\n",
    "        pass\n",
    "    print(i)"
   ]
  },
  {
   "cell_type": "code",
   "execution_count": null,
   "id": "0e562794-39f9-4d61-8534-00341f7e46f9",
   "metadata": {},
   "outputs": [],
   "source": [
    "##continue\n",
    "for i in fruits_list:\n",
    "    if i==\"Apple\":\n",
    "        print(\"The fruit is apple\")\n",
    "        continue\n",
    "    print(i)"
   ]
  }
 ],
 "metadata": {
  "kernelspec": {
   "display_name": "Python 3 (ipykernel)",
   "language": "python",
   "name": "python3"
  },
  "language_info": {
   "codemirror_mode": {
    "name": "ipython",
    "version": 3
   },
   "file_extension": ".py",
   "mimetype": "text/x-python",
   "name": "python",
   "nbconvert_exporter": "python",
   "pygments_lexer": "ipython3",
   "version": "3.10.8"
  }
 },
 "nbformat": 4,
 "nbformat_minor": 5
}
