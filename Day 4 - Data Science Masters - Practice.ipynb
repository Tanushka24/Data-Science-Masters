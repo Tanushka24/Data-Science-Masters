{
 "cells": [
  {
   "cell_type": "code",
   "execution_count": 1,
   "id": "35b4b3a4-c843-4530-bad3-de77f93e8197",
   "metadata": {},
   "outputs": [
    {
     "data": {
      "text/plain": [
       "'Data science'"
      ]
     },
     "execution_count": 1,
     "metadata": {},
     "output_type": "execute_result"
    }
   ],
   "source": [
    "#Capitalize\n",
    "name = 'Data Science'\n",
    "name.capitalize()"
   ]
  },
  {
   "cell_type": "code",
   "execution_count": 9,
   "id": "42f2b247-f054-4e62-93cf-90fc693edb1a",
   "metadata": {},
   "outputs": [
    {
     "data": {
      "text/plain": [
       "['e', 'c', 'n', 'e', 'i', 'c', 'S', ' ', 'a', 't', 'a', 'D']"
      ]
     },
     "execution_count": 9,
     "metadata": {},
     "output_type": "execute_result"
    }
   ],
   "source": [
    "#Reverse function gives the id\n",
    "list(reversed(name))"
   ]
  },
  {
   "cell_type": "code",
   "execution_count": 3,
   "id": "0d19464f-c598-410c-aa26-8d6c05575680",
   "metadata": {},
   "outputs": [
    {
     "ename": "AttributeError",
     "evalue": "'str' object has no attribute 'reversed'",
     "output_type": "error",
     "traceback": [
      "\u001b[0;31m---------------------------------------------------------------------------\u001b[0m",
      "\u001b[0;31mAttributeError\u001b[0m                            Traceback (most recent call last)",
      "Cell \u001b[0;32mIn[3], line 1\u001b[0m\n\u001b[0;32m----> 1\u001b[0m \u001b[38;5;124;43m'\u001b[39;49m\u001b[38;5;124;43m \u001b[39;49m\u001b[38;5;124;43m'\u001b[39;49m\u001b[38;5;241;43m.\u001b[39;49m\u001b[43mreversed\u001b[49m(name)\n",
      "\u001b[0;31mAttributeError\u001b[0m: 'str' object has no attribute 'reversed'"
     ]
    }
   ],
   "source": [
    "' '.reversed(name)"
   ]
  },
  {
   "cell_type": "code",
   "execution_count": 6,
   "id": "cad06504-471f-4b7d-8b66-f0f51fcebea8",
   "metadata": {},
   "outputs": [
    {
     "data": {
      "text/plain": [
       "'e c n e i c S   a t a D'"
      ]
     },
     "execution_count": 6,
     "metadata": {},
     "output_type": "execute_result"
    }
   ],
   "source": [
    "' '.join(reversed(name))"
   ]
  },
  {
   "cell_type": "code",
   "execution_count": 7,
   "id": "68313641-376b-42cc-b8c4-c5ac153022b2",
   "metadata": {},
   "outputs": [
    {
     "data": {
      "text/plain": [
       "'ecneicS ataD'"
      ]
     },
     "execution_count": 7,
     "metadata": {},
     "output_type": "execute_result"
    }
   ],
   "source": [
    "''.join(reversed(name))"
   ]
  },
  {
   "cell_type": "code",
   "execution_count": 8,
   "id": "5b7466ef-37de-467a-938a-ae4f8fe79667",
   "metadata": {},
   "outputs": [
    {
     "data": {
      "text/plain": [
       "'eascasnaseasiascasSas asaastasaasD'"
      ]
     },
     "execution_count": 8,
     "metadata": {},
     "output_type": "execute_result"
    }
   ],
   "source": [
    "'as'.join(reversed(name))"
   ]
  },
  {
   "cell_type": "code",
   "execution_count": 10,
   "id": "d8e929fe-a09b-4e1c-b145-043a6d222488",
   "metadata": {},
   "outputs": [
    {
     "data": {
      "text/plain": [
       "'ekrishckrishnkrishekrishikrishckrishSkrish krishakrishtkrishakrishD'"
      ]
     },
     "execution_count": 10,
     "metadata": {},
     "output_type": "execute_result"
    }
   ],
   "source": [
    "'krish'.join(reversed(name))\n",
    "#It prints one letter of the variabe at a time then adds one letter from krish then move to other and same thing"
   ]
  },
  {
   "cell_type": "code",
   "execution_count": 12,
   "id": "2108ab0b-4fa5-43fc-8b21-b77b5de09272",
   "metadata": {},
   "outputs": [
    {
     "data": {
      "text/plain": [
       "1"
      ]
     },
     "execution_count": 12,
     "metadata": {},
     "output_type": "execute_result"
    }
   ],
   "source": [
    "len(' '.join('a'))\n"
   ]
  },
  {
   "cell_type": "code",
   "execution_count": 13,
   "id": "29503238-1432-4177-a8b6-8ffe0de61231",
   "metadata": {},
   "outputs": [
    {
     "data": {
      "text/plain": [
       "'a b c d'"
      ]
     },
     "execution_count": 13,
     "metadata": {},
     "output_type": "execute_result"
    }
   ],
   "source": [
    "' '.join('abcd')\n"
   ]
  },
  {
   "cell_type": "code",
   "execution_count": 14,
   "id": "6cbaff63-ba38-47b4-9d92-04d1685c0abf",
   "metadata": {},
   "outputs": [
    {
     "data": {
      "text/plain": [
       "'a n t'"
      ]
     },
     "execution_count": 14,
     "metadata": {},
     "output_type": "execute_result"
    }
   ],
   "source": [
    "' '.join('ant')\n"
   ]
  },
  {
   "cell_type": "code",
   "execution_count": 15,
   "id": "f9dafd21-8922-4497-856d-94c4aeb51360",
   "metadata": {},
   "outputs": [
    {
     "data": {
      "text/plain": [
       "'t n a'"
      ]
     },
     "execution_count": 15,
     "metadata": {},
     "output_type": "execute_result"
    }
   ],
   "source": [
    "' '.join(reversed('ant'))\n"
   ]
  },
  {
   "cell_type": "code",
   "execution_count": 16,
   "id": "91ef4086-85e1-4f1f-8da3-6e5f84a52395",
   "metadata": {},
   "outputs": [
    {
     "data": {
      "text/plain": [
       "'t Pwskills n Pwskills a'"
      ]
     },
     "execution_count": 16,
     "metadata": {},
     "output_type": "execute_result"
    }
   ],
   "source": [
    "' Pwskills '.join(reversed('ant'))\n"
   ]
  },
  {
   "cell_type": "code",
   "execution_count": 17,
   "id": "c9f95997-7e94-4d21-a429-511ef1581163",
   "metadata": {},
   "outputs": [
    {
     "data": {
      "text/plain": [
       "['t', 'n', 'a']"
      ]
     },
     "execution_count": 17,
     "metadata": {},
     "output_type": "execute_result"
    }
   ],
   "source": [
    "list(reversed('ant'))\n",
    "#It defaults return a string, we have converted it to string\n"
   ]
  },
  {
   "cell_type": "code",
   "execution_count": 18,
   "id": "1771389b-86b3-4af0-8d7b-3e2fa126023a",
   "metadata": {},
   "outputs": [
    {
     "data": {
      "text/plain": [
       "'Pskillswskills skillsiskillssskills skillsaskills skillsgskillsoskillsoskillsdskills skillscskillsoskillsmskillspskillsaskillsaskillsnskillsy'"
      ]
     },
     "execution_count": 18,
     "metadata": {},
     "output_type": "execute_result"
    }
   ],
   "source": [
    "str1 = \"Pw is a good compaany\"\n",
    "'skills'.join(str1)"
   ]
  },
  {
   "cell_type": "code",
   "execution_count": 20,
   "id": "a86d7a12-348d-42a0-a9fd-c0218f2c9cd3",
   "metadata": {},
   "outputs": [
    {
     "name": "stdout",
     "output_type": "stream",
     "text": [
      "t n a "
     ]
    }
   ],
   "source": [
    "for i in list(reversed('ant')):\n",
    "    print(i,end=' ')"
   ]
  },
  {
   "cell_type": "code",
   "execution_count": 1,
   "id": "ed1bb97e-b4f0-4f32-9234-3589bde158de",
   "metadata": {},
   "outputs": [],
   "source": [
    "#Removing character from the end of the string"
   ]
  },
  {
   "cell_type": "code",
   "execution_count": 4,
   "id": "da2127bb-2433-4aa2-bef8-13e5e5b68e7a",
   "metadata": {},
   "outputs": [
    {
     "data": {
      "text/plain": [
       "'pwskills'"
      ]
     },
     "execution_count": 4,
     "metadata": {},
     "output_type": "execute_result"
    }
   ],
   "source": [
    "#Strip Function\n",
    "#It strips the mention string from the variable as mentioned in the function\n",
    "string_a = \" pwskills \"\n",
    "string_a.strip(\" \")"
   ]
  },
  {
   "cell_type": "code",
   "execution_count": 8,
   "id": "0bc62c43-2f51-4025-8894-f6593b221f1a",
   "metadata": {},
   "outputs": [
    {
     "data": {
      "text/plain": [
       "'wskills'"
      ]
     },
     "execution_count": 8,
     "metadata": {},
     "output_type": "execute_result"
    }
   ],
   "source": [
    "string_a = \" pwskills \"\n",
    "string_a.strip(\" p \")"
   ]
  },
  {
   "cell_type": "code",
   "execution_count": 9,
   "id": "e63a009d-ffd5-4a9a-9d3b-084e03e487b5",
   "metadata": {},
   "outputs": [],
   "source": [
    "#There are two types of strip function\n",
    "#1: lstrip - Removed the string from most left side of the string\n",
    "#2.rstrip - Removed the string from most right side of the string"
   ]
  },
  {
   "cell_type": "code",
   "execution_count": 10,
   "id": "0fcdb9e5-089c-4778-b2bb-cf0ca8c05afe",
   "metadata": {},
   "outputs": [
    {
     "data": {
      "text/plain": [
       "'pwskills '"
      ]
     },
     "execution_count": 10,
     "metadata": {},
     "output_type": "execute_result"
    }
   ],
   "source": [
    "string_a.lstrip(\" \")\n",
    "#removed left space"
   ]
  },
  {
   "cell_type": "code",
   "execution_count": 11,
   "id": "58627672-42d7-46d7-a750-1aea7d38dbf3",
   "metadata": {},
   "outputs": [
    {
     "data": {
      "text/plain": [
       "' pwskills'"
      ]
     },
     "execution_count": 11,
     "metadata": {},
     "output_type": "execute_result"
    }
   ],
   "source": [
    "string_a.rstrip(\" \")\n",
    "#removed right space"
   ]
  },
  {
   "cell_type": "code",
   "execution_count": 15,
   "id": "74cac765-f043-408a-b67c-060a2aa0b3b0",
   "metadata": {},
   "outputs": [
    {
     "data": {
      "text/plain": [
       "'anter'"
      ]
     },
     "execution_count": 15,
     "metadata": {},
     "output_type": "execute_result"
    }
   ],
   "source": [
    "a = 'anter'\n",
    "a.strip(\"n\")"
   ]
  },
  {
   "cell_type": "code",
   "execution_count": 18,
   "id": "75b1ef57-d1e4-465b-853e-e6f5f7324f7e",
   "metadata": {},
   "outputs": [
    {
     "data": {
      "text/plain": [
       "'Greeting from Pwskills'"
      ]
     },
     "execution_count": 18,
     "metadata": {},
     "output_type": "execute_result"
    }
   ],
   "source": [
    "#Replace a string\n",
    "string_a = \"Greeting to Pwskills\"\n",
    "string_a. replace(\"to\",\"from\")"
   ]
  },
  {
   "cell_type": "code",
   "execution_count": 20,
   "id": "5a989928-01d5-4987-a903-973ffe62c0f0",
   "metadata": {},
   "outputs": [
    {
     "data": {
      "text/plain": [
       "'Treeting to Pwskills'"
      ]
     },
     "execution_count": 20,
     "metadata": {},
     "output_type": "execute_result"
    }
   ],
   "source": [
    "string_a = \"Greeting to Pwskills\"\n",
    "string_a. replace(\"G\",\"T\")\n",
    "#Here is it creating all togeter new string when replacing 'G' with 'T'\n",
    "#It is not updating the value index wise and storing in the same variable but creating a new variable"
   ]
  },
  {
   "cell_type": "code",
   "execution_count": 4,
   "id": "4f76e450-cbbe-4758-83a9-de4cad6404fb",
   "metadata": {},
   "outputs": [],
   "source": [
    "string_a = \"Greeting to Pwskills\"\n",
    "var_a= string_a. replace(\"G\",\"T\")"
   ]
  },
  {
   "cell_type": "code",
   "execution_count": 5,
   "id": "de0f9129-c33e-4bed-ae15-f81a51e7665d",
   "metadata": {},
   "outputs": [
    {
     "name": "stdout",
     "output_type": "stream",
     "text": [
      "139963123159952\n",
      "139962689556912\n"
     ]
    }
   ],
   "source": [
    "print(id(string_a))\n",
    "print(id(var_a))\n",
    "#As we can see id is different of both variables"
   ]
  },
  {
   "cell_type": "code",
   "execution_count": 6,
   "id": "a0ba67ab-2767-4f0a-9b92-1005559187e6",
   "metadata": {},
   "outputs": [
    {
     "data": {
      "text/plain": [
       "'test gmail.com'"
      ]
     },
     "execution_count": 6,
     "metadata": {},
     "output_type": "execute_result"
    }
   ],
   "source": [
    "'Hello World'\n",
    "string_n = \"test@gmail.com\"\n",
    "var_a = string_n.replace(\"@\",\" \")\n",
    "var_a"
   ]
  },
  {
   "cell_type": "code",
   "execution_count": 7,
   "id": "b0feafc8-9ae6-43eb-808d-c4904dd5cb44",
   "metadata": {},
   "outputs": [
    {
     "data": {
      "text/plain": [
       "'Hello \\nWorld'"
      ]
     },
     "execution_count": 7,
     "metadata": {},
     "output_type": "execute_result"
    }
   ],
   "source": [
    "'Hello \\nWorld' \n",
    "#\\n is for next line but it will not work as it is insode string quotes"
   ]
  },
  {
   "cell_type": "code",
   "execution_count": 8,
   "id": "52ffdf28-09ff-4bec-bfc9-95830321b48d",
   "metadata": {},
   "outputs": [
    {
     "data": {
      "text/plain": [
       "'Hello \\tWorld'"
      ]
     },
     "execution_count": 8,
     "metadata": {},
     "output_type": "execute_result"
    }
   ],
   "source": [
    "'Hello \\tWorld' "
   ]
  },
  {
   "cell_type": "code",
   "execution_count": 9,
   "id": "42f87b09-28d1-4a90-95fe-e70058cbe991",
   "metadata": {},
   "outputs": [
    {
     "data": {
      "text/plain": [
       "'Hello   World'"
      ]
     },
     "execution_count": 9,
     "metadata": {},
     "output_type": "execute_result"
    }
   ],
   "source": [
    "'Hello \\tWorld'.expandtabs()\n",
    "#\\t means tab\n",
    "#Another function for \\t is expand tabs"
   ]
  },
  {
   "cell_type": "code",
   "execution_count": 10,
   "id": "541d4dac-8e77-485d-b20c-0d407df3f011",
   "metadata": {},
   "outputs": [
    {
     "data": {
      "text/plain": [
       "'Welcome to pwskills. Welcome to Data Science Masters'"
      ]
     },
     "execution_count": 10,
     "metadata": {},
     "output_type": "execute_result"
    }
   ],
   "source": [
    "str1= \"Welcome to pwskills. Welcome to Dat cience Masters\"\n",
    "str1.replace(\"Dat cience\", \"Data Science\")"
   ]
  },
  {
   "cell_type": "code",
   "execution_count": 12,
   "id": "646e5487-c003-41de-b06a-7d0655723457",
   "metadata": {},
   "outputs": [
    {
     "data": {
      "text/plain": [
       "'Welcome to pwskills. Welcome to Data Science Masters'"
      ]
     },
     "execution_count": 12,
     "metadata": {},
     "output_type": "execute_result"
    }
   ],
   "source": [
    "#Another method of writing\n",
    "str1.replace(\"Dat\",\"Data\").replace(\"cience\",\"Science\")\n",
    "#two replace"
   ]
  },
  {
   "cell_type": "code",
   "execution_count": 13,
   "id": "5dffcf07-4a77-450f-811c-ca6dd55759a4",
   "metadata": {},
   "outputs": [
    {
     "data": {
      "text/plain": [
       "False"
      ]
     },
     "execution_count": 13,
     "metadata": {},
     "output_type": "execute_result"
    }
   ],
   "source": [
    "str1.isupper()\n",
    "#To check upper word is in uppercase"
   ]
  },
  {
   "cell_type": "code",
   "execution_count": 16,
   "id": "7b958322-2dda-41d7-87c3-d0720a022133",
   "metadata": {},
   "outputs": [
    {
     "data": {
      "text/plain": [
       "True"
      ]
     },
     "execution_count": 16,
     "metadata": {},
     "output_type": "execute_result"
    }
   ],
   "source": [
    "str_new1='SADETHMN'\n",
    "str_new1.isupper()"
   ]
  },
  {
   "cell_type": "code",
   "execution_count": 17,
   "id": "1f5e2042-0655-45df-a664-abd652bfe47e",
   "metadata": {},
   "outputs": [
    {
     "data": {
      "text/plain": [
       "False"
      ]
     },
     "execution_count": 17,
     "metadata": {},
     "output_type": "execute_result"
    }
   ],
   "source": [
    "str_new1.isspace()"
   ]
  },
  {
   "cell_type": "code",
   "execution_count": 18,
   "id": "4c4fbc56-42ef-4eee-a1f9-99045810c822",
   "metadata": {},
   "outputs": [
    {
     "data": {
      "text/plain": [
       "True"
      ]
     },
     "execution_count": 18,
     "metadata": {},
     "output_type": "execute_result"
    }
   ],
   "source": [
    "' '.isspace()"
   ]
  },
  {
   "cell_type": "code",
   "execution_count": 19,
   "id": "63a8271e-df2b-4bf7-bfd5-4cdf4fecf4fc",
   "metadata": {},
   "outputs": [
    {
     "name": "stdout",
     "output_type": "stream",
     "text": [
      "bye\n"
     ]
    }
   ],
   "source": [
    "if str1.isspace():\n",
    "    print(\"Hello\")\n",
    "else:\n",
    "    print(\"bye\")"
   ]
  },
  {
   "cell_type": "code",
   "execution_count": 20,
   "id": "e07c422a-9d42-423b-8e57-229cb9cb8e0c",
   "metadata": {},
   "outputs": [
    {
     "name": "stdout",
     "output_type": "stream",
     "text": [
      "Hello\n"
     ]
    }
   ],
   "source": [
    "#Practice\n",
    "if ' '.isspace():\n",
    "    print(\"Hello\")\n",
    "else:\n",
    "    print(\"bye\")"
   ]
  },
  {
   "cell_type": "code",
   "execution_count": 37,
   "id": "5281b930-e823-4904-a07a-4c8e1a6749f2",
   "metadata": {},
   "outputs": [
    {
     "data": {
      "text/plain": [
       "True"
      ]
     },
     "execution_count": 37,
     "metadata": {},
     "output_type": "execute_result"
    }
   ],
   "source": [
    "str2 = \"pwskills\"\n",
    "str2.endswith('s')"
   ]
  },
  {
   "cell_type": "code",
   "execution_count": 22,
   "id": "69350140-62f0-4440-bbce-ae3b68f0cf06",
   "metadata": {},
   "outputs": [
    {
     "data": {
      "text/plain": [
       "True"
      ]
     },
     "execution_count": 22,
     "metadata": {},
     "output_type": "execute_result"
    }
   ],
   "source": [
    "str2.startswith('p')"
   ]
  },
  {
   "cell_type": "code",
   "execution_count": 25,
   "id": "927295cf-8ea0-4ccc-88f7-1520e01f67eb",
   "metadata": {},
   "outputs": [
    {
     "data": {
      "text/plain": [
       "True"
      ]
     },
     "execution_count": 25,
     "metadata": {},
     "output_type": "execute_result"
    }
   ],
   "source": [
    "#check if the string is alphanumeric\n",
    "a=\"asd678\"\n",
    "a.isalnum()"
   ]
  },
  {
   "cell_type": "code",
   "execution_count": 30,
   "id": "17da5e7d-eaf8-4df6-8979-90223771b064",
   "metadata": {},
   "outputs": [
    {
     "name": "stdout",
     "output_type": "stream",
     "text": [
      "8\n"
     ]
    }
   ],
   "source": [
    "# to count the number of character in the strings\n",
    "count=0\n",
    "for i in str2:\n",
    "    count = count+1\n",
    "    \n",
    "print(count)\n",
    "#parsing throught the string, through for loop then print count()"
   ]
  },
  {
   "cell_type": "code",
   "execution_count": 31,
   "id": "8576c533-173c-4a80-bc6b-142a882a14b4",
   "metadata": {},
   "outputs": [
    {
     "data": {
      "text/plain": [
       "8"
      ]
     },
     "execution_count": 31,
     "metadata": {},
     "output_type": "execute_result"
    }
   ],
   "source": [
    "len(str2)"
   ]
  },
  {
   "cell_type": "code",
   "execution_count": 32,
   "id": "89de5546-8c99-4158-a692-bdb78487b56c",
   "metadata": {},
   "outputs": [
    {
     "name": "stdout",
     "output_type": "stream",
     "text": [
      "p\n",
      "w\n",
      "s\n",
      "k\n",
      "i\n",
      "l\n",
      "l\n",
      "s\n"
     ]
    }
   ],
   "source": [
    "#Display one by one letter in a string(str2)\n",
    "for i in str2:\n",
    "    print(i)"
   ]
  },
  {
   "cell_type": "code",
   "execution_count": 36,
   "id": "e819ee53-cdee-43c3-95a6-f100e0ef9ed5",
   "metadata": {},
   "outputs": [
    {
     "name": "stdout",
     "output_type": "stream",
     "text": [
      "p\n",
      "w\n",
      "s\n",
      "k\n",
      "i\n",
      "l\n",
      "l\n",
      "s\n"
     ]
    }
   ],
   "source": [
    "#Another Method\n",
    "for i in range(len(str2)):\n",
    "    print (str2[i])"
   ]
  },
  {
   "cell_type": "code",
   "execution_count": 37,
   "id": "3a7a42e5-67f6-46c2-9fcb-7fea9c580cae",
   "metadata": {},
   "outputs": [
    {
     "name": "stdout",
     "output_type": "stream",
     "text": [
      "0 = p\n",
      "1 = w\n",
      "2 = s\n",
      "3 = k\n",
      "4 = i\n",
      "5 = l\n",
      "6 = l\n",
      "7 = s\n"
     ]
    }
   ],
   "source": [
    "#Another Method\n",
    "for i in range(len(str2)):\n",
    "    print (i,\"=\",str2[i])"
   ]
  },
  {
   "cell_type": "code",
   "execution_count": 2,
   "id": "fb8664a1-1443-4178-b7ce-4fd9d3e61dfd",
   "metadata": {},
   "outputs": [
    {
     "name": "stdout",
     "output_type": "stream",
     "text": [
      "i\n",
      "h\n",
      "t\n",
      "a\n",
      "p\n",
      "i\n",
      "r\n",
      "t\n",
      " \n",
      "a\n",
      "k\n",
      "h\n",
      "s\n",
      "u\n",
      "n\n",
      "a\n"
     ]
    }
   ],
   "source": [
    "#We can use index to iterate string reverse direction\n",
    "str_t = 'anushka tripathi'\n",
    "for i in range(len(str_t)-1,-1,-1):\n",
    "    print(str_t[i])"
   ]
  },
  {
   "cell_type": "code",
   "execution_count": 51,
   "id": "ac3e88aa-6864-4fc8-925b-7eb7b41a7060",
   "metadata": {},
   "outputs": [
    {
     "name": "stdout",
     "output_type": "stream",
     "text": [
      "i\n",
      "h\n",
      "t\n",
      "a\n",
      "p\n",
      "i\n",
      "r\n",
      "t\n",
      " \n",
      "a\n",
      "k\n",
      "h\n",
      "s\n",
      "u\n",
      "n\n",
      "a\n"
     ]
    }
   ],
   "source": [
    "#Another Method\n",
    "ch = len(str_t) -1\n",
    "while ch>=0:\n",
    "    print(str_t[ch])\n",
    "    ch = ch -1\n",
    "          "
   ]
  },
  {
   "cell_type": "code",
   "execution_count": 6,
   "id": "dfcaa49e-ac65-4059-af9a-584d31b6908b",
   "metadata": {},
   "outputs": [
    {
     "name": "stdout",
     "output_type": "stream",
     "text": [
      "i\n",
      "h\n",
      "t\n",
      "a\n",
      "p\n",
      "i\n",
      "r\n",
      "t\n",
      " \n",
      "a\n",
      "k\n",
      "h\n",
      "s\n",
      "u\n",
      "n\n",
      "a\n"
     ]
    }
   ],
   "source": [
    "for i in range(len(str_t)-1,-1,-1):\n",
    "    print(str_t[i])\n",
    "    \n",
    "#len - 1 , -1,-1 - Slicing"
   ]
  },
  {
   "cell_type": "code",
   "execution_count": null,
   "id": "65d79e78-f4c8-445f-88e8-0fa0df8b79aa",
   "metadata": {},
   "outputs": [],
   "source": [
    "ch = len(str_t) -1\n",
    "while ch>=0:\n",
    "    print(str_t[ch])\n",
    "    ch = ch - 1 #to reduce the loop number"
   ]
  },
  {
   "cell_type": "code",
   "execution_count": 13,
   "id": "4368faef-0d47-4961-9c75-fd78f03bdb38",
   "metadata": {},
   "outputs": [
    {
     "name": "stdout",
     "output_type": "stream",
     "text": [
      "i\n",
      "h\n",
      "t\n",
      "a\n",
      "p\n",
      "i\n",
      "r\n",
      "t\n",
      " \n",
      "a\n",
      "k\n",
      "h\n",
      "s\n",
      "u\n",
      "n\n",
      "a\n"
     ]
    }
   ],
   "source": [
    "for i in range(len(str_t)):\n",
    "    print(str_t[len(str_t) -(i+1)])\n",
    "    "
   ]
  },
  {
   "cell_type": "code",
   "execution_count": 15,
   "id": "fc011b80-9097-40b9-90c4-e2f529511dee",
   "metadata": {},
   "outputs": [
    {
     "name": "stdout",
     "output_type": "stream",
     "text": [
      "ihtapirt akhsuna"
     ]
    }
   ],
   "source": [
    "#To print in a single line\n",
    "for i in range(len(str_t)-1,-1,-1):\n",
    "    print(str_t[i],end = \"\")"
   ]
  },
  {
   "cell_type": "code",
   "execution_count": 30,
   "id": "90e3c2f0-67ef-46b3-ad93-1efbec13021c",
   "metadata": {},
   "outputs": [
    {
     "name": "stdout",
     "output_type": "stream",
     "text": [
      "p is not a vowel\n",
      "p is not a vowel\n",
      "p is not a vowel\n",
      "p is not a vowel\n",
      "p is not a vowel\n",
      "p is not a vowel\n",
      "p is not a vowel\n",
      "p is not a vowel\n",
      "p is not a vowel\n",
      "p is not a vowel\n",
      "w is not a vowel\n",
      "w is not a vowel\n",
      "w is not a vowel\n",
      "w is not a vowel\n",
      "w is not a vowel\n",
      "w is not a vowel\n",
      "w is not a vowel\n",
      "w is not a vowel\n",
      "w is not a vowel\n",
      "w is not a vowel\n",
      "s is not a vowel\n",
      "s is not a vowel\n",
      "s is not a vowel\n",
      "s is not a vowel\n",
      "s is not a vowel\n",
      "s is not a vowel\n",
      "s is not a vowel\n",
      "s is not a vowel\n",
      "s is not a vowel\n",
      "s is not a vowel\n",
      "k is not a vowel\n",
      "k is not a vowel\n",
      "k is not a vowel\n",
      "k is not a vowel\n",
      "k is not a vowel\n",
      "k is not a vowel\n",
      "k is not a vowel\n",
      "k is not a vowel\n",
      "k is not a vowel\n",
      "k is not a vowel\n",
      "i is not a vowel\n",
      "i is not a vowel\n",
      "i is not a vowel\n",
      "i is not a vowel\n",
      "i is not a vowel\n",
      "i is a vowel\n",
      "i is not a vowel\n",
      "i is not a vowel\n",
      "i is not a vowel\n",
      "i is not a vowel\n",
      "l is not a vowel\n",
      "l is not a vowel\n",
      "l is not a vowel\n",
      "l is not a vowel\n",
      "l is not a vowel\n",
      "l is not a vowel\n",
      "l is not a vowel\n",
      "l is not a vowel\n",
      "l is not a vowel\n",
      "l is not a vowel\n",
      "l is not a vowel\n",
      "l is not a vowel\n",
      "l is not a vowel\n",
      "l is not a vowel\n",
      "l is not a vowel\n",
      "l is not a vowel\n",
      "l is not a vowel\n",
      "l is not a vowel\n",
      "l is not a vowel\n",
      "l is not a vowel\n",
      "s is not a vowel\n",
      "s is not a vowel\n",
      "s is not a vowel\n",
      "s is not a vowel\n",
      "s is not a vowel\n",
      "s is not a vowel\n",
      "s is not a vowel\n",
      "s is not a vowel\n",
      "s is not a vowel\n",
      "s is not a vowel\n"
     ]
    }
   ],
   "source": [
    "#To check the characters is a vowel or not\n",
    "name = \"pwskills\"\n",
    "vowels = \"AaEeIiOoUu\"\n",
    "\n",
    "for i in range(len(Name)):\n",
    "    a =name[i]\n",
    "    for j in range(len(vowels)):\n",
    "        b = vowels[j]\n",
    "        if a == b:\n",
    "            print(name[i],\"is a vowel\")\n",
    "        else:\n",
    "            print(name[i],\"is not a vowel\")"
   ]
  },
  {
   "cell_type": "code",
   "execution_count": 27,
   "id": "9ccc7b33-a559-4125-9e9f-88ddefb25264",
   "metadata": {},
   "outputs": [
    {
     "name": "stdout",
     "output_type": "stream",
     "text": [
      "p is not a vowel\n",
      "w is not a vowel\n",
      "s is not a vowel\n",
      "k is not a vowel\n",
      "i is a vowel\n",
      "l is not a vowel\n",
      "l is not a vowel\n",
      "s is not a vowel\n"
     ]
    }
   ],
   "source": [
    "#Good Practice - Direct Check\n",
    "for i in name:\n",
    "    if i in vowels:\n",
    "        print('{} is a vowel'.format(i))\n",
    "    else:\n",
    "        print('{} is not a vowel'.format(i))\n",
    "    \n",
    "           \n",
    "        "
   ]
  },
  {
   "cell_type": "markdown",
   "id": "6bd70080-9a14-4c86-88e2-1edbeb9358c9",
   "metadata": {},
   "source": [
    "## List"
   ]
  },
  {
   "cell_type": "code",
   "execution_count": null,
   "id": "31ac218a-ceff-417b-9b28-7344b4dd49ff",
   "metadata": {},
   "outputs": [],
   "source": [
    "#[] - This is how list is defined\n",
    "# It is ordered collection of elements"
   ]
  },
  {
   "cell_type": "code",
   "execution_count": 31,
   "id": "d3ead156-4ba9-49f8-a633-0a751e20100e",
   "metadata": {},
   "outputs": [
    {
     "name": "stdout",
     "output_type": "stream",
     "text": [
      "<class 'list'>\n"
     ]
    }
   ],
   "source": [
    "print(type([]))"
   ]
  },
  {
   "cell_type": "code",
   "execution_count": 32,
   "id": "646a065f-1c78-4237-a593-0bc817db940c",
   "metadata": {},
   "outputs": [
    {
     "data": {
      "text/plain": [
       "['ansolsw', 'BB', 1, 2, 3, 'L']"
      ]
     },
     "execution_count": 32,
     "metadata": {},
     "output_type": "execute_result"
    }
   ],
   "source": [
    "[\"ansolsw\",\"BB\",1,2,3,\"L\"]"
   ]
  },
  {
   "cell_type": "code",
   "execution_count": 33,
   "id": "34a7e7e9-dbda-4cc6-a20c-56a952aeb9f8",
   "metadata": {},
   "outputs": [
    {
     "data": {
      "text/plain": [
       "[1, 2, 3, 4, 5]"
      ]
     },
     "execution_count": 33,
     "metadata": {},
     "output_type": "execute_result"
    }
   ],
   "source": [
    "list([1,2,3,4,5])"
   ]
  },
  {
   "cell_type": "code",
   "execution_count": 38,
   "id": "35e7bc74-1c03-4111-a5d1-abff7440c138",
   "metadata": {},
   "outputs": [
    {
     "data": {
      "text/plain": [
       "['p', 'w', 's', 'k', 'i', 'l', 'l', 's']"
      ]
     },
     "execution_count": 38,
     "metadata": {},
     "output_type": "execute_result"
    }
   ],
   "source": [
    "list(str2)\n",
    "#It is printing each character of string as a list"
   ]
  },
  {
   "cell_type": "code",
   "execution_count": 39,
   "id": "60fa4a4a-18b7-4581-b90b-b0ff192e7046",
   "metadata": {},
   "outputs": [
    {
     "data": {
      "text/plain": [
       "['p',\n",
       " 'w',\n",
       " ' ',\n",
       " 's',\n",
       " 'k',\n",
       " 'i',\n",
       " 'l',\n",
       " 'l',\n",
       " 's',\n",
       " ' ',\n",
       " 'D',\n",
       " 'a',\n",
       " 't',\n",
       " 'a',\n",
       " ' ',\n",
       " 'S',\n",
       " 'c',\n",
       " 'i',\n",
       " 'e',\n",
       " 'n',\n",
       " 'c',\n",
       " 'e',\n",
       " ' ',\n",
       " 'M',\n",
       " 'a',\n",
       " 's',\n",
       " 't',\n",
       " 'e',\n",
       " 'r',\n",
       " 's']"
      ]
     },
     "execution_count": 40,
     "metadata": {},
     "output_type": "execute_result"
    }
   ],
   "source": [
    "str1 = \"pw skills Data Science Masters\"\n",
    "list(str1)"
   ]
  },
  {
   "cell_type": "code",
   "execution_count": 41,
   "id": "f0a8d041-c38e-4d7e-a135-1708d0df4534",
   "metadata": {},
   "outputs": [
    {
     "data": {
      "text/plain": [
       "['pw', 'skills', 'Data', 'Science', 'Masters']"
      ]
     },
     "execution_count": 41,
     "metadata": {},
     "output_type": "execute_result"
    }
   ],
   "source": [
    "str1 = \"pw skills Data Science Masters\"\n",
    "list(str1.split(\" \"))\n",
    "#Return type of split when used with strings is list"
   ]
  },
  {
   "cell_type": "code",
   "execution_count": 43,
   "id": "144296e7-8b26-4e5b-b68e-eedf572da006",
   "metadata": {},
   "outputs": [
    {
     "data": {
      "text/plain": [
       "list"
      ]
     },
     "execution_count": 43,
     "metadata": {},
     "output_type": "execute_result"
    }
   ],
   "source": [
    "type(str1.split(\" \"))\n",
    "#Return type of split when used with strings is list"
   ]
  },
  {
   "cell_type": "code",
   "execution_count": 44,
   "id": "ea8e4007-9754-49b1-b12e-bd0ed5d05086",
   "metadata": {},
   "outputs": [],
   "source": [
    "lst1 = str1.split(\" \")"
   ]
  },
  {
   "cell_type": "code",
   "execution_count": 46,
   "id": "42358a97-512e-4e8d-a619-6d23bd8726bb",
   "metadata": {},
   "outputs": [
    {
     "data": {
      "text/plain": [
       "['skills', 'Data', 'Science', 'Masters']"
      ]
     },
     "execution_count": 46,
     "metadata": {},
     "output_type": "execute_result"
    }
   ],
   "source": [
    "lst1[1:]\n",
    "#Print every element after first one"
   ]
  },
  {
   "cell_type": "code",
   "execution_count": 47,
   "id": "37fcf347-75da-4cd2-97bd-c0a678cec62a",
   "metadata": {},
   "outputs": [
    {
     "data": {
      "text/plain": [
       "['pw', 'skills', 'Datas', 'Science', 'Masters']"
      ]
     },
     "execution_count": 47,
     "metadata": {},
     "output_type": "execute_result"
    }
   ],
   "source": [
    "lst1[2] = 'Datas'\n",
    "lst1\n",
    "#Second index element is replace with Datas"
   ]
  },
  {
   "cell_type": "code",
   "execution_count": 51,
   "id": "3a3dae0c-c631-4aa3-8711-7c76b2908743",
   "metadata": {},
   "outputs": [
    {
     "data": {
      "text/plain": [
       "'Science'"
      ]
     },
     "execution_count": 51,
     "metadata": {},
     "output_type": "execute_result"
    }
   ],
   "source": [
    "lst1[3]"
   ]
  },
  {
   "cell_type": "code",
   "execution_count": 52,
   "id": "c1754b29-e5fe-4e6a-8bc7-96f5106e4b16",
   "metadata": {},
   "outputs": [
    {
     "data": {
      "text/plain": [
       "'Science'"
      ]
     },
     "execution_count": 52,
     "metadata": {},
     "output_type": "execute_result"
    }
   ],
   "source": [
    "lst1[-2]"
   ]
  },
  {
   "cell_type": "code",
   "execution_count": 53,
   "id": "24157bcb-0e5a-4a0c-bffd-6451d91ab6ca",
   "metadata": {},
   "outputs": [
    {
     "data": {
      "text/plain": [
       "['Masters', 'Datas', 'pw']"
      ]
     },
     "execution_count": 53,
     "metadata": {},
     "output_type": "execute_result"
    }
   ],
   "source": [
    "lst1[::-2]\n",
    "# Every second element from backwards"
   ]
  },
  {
   "cell_type": "code",
   "execution_count": 54,
   "id": "af70bf47-8333-497c-ac6c-c1a639a2e86b",
   "metadata": {},
   "outputs": [
    {
     "data": {
      "text/plain": [
       "'skills'"
      ]
     },
     "execution_count": 54,
     "metadata": {},
     "output_type": "execute_result"
    }
   ],
   "source": [
    "lst1[-4]"
   ]
  },
  {
   "cell_type": "code",
   "execution_count": 55,
   "id": "9ab91d63-2a0d-4e80-a8a2-0092feb01935",
   "metadata": {},
   "outputs": [
    {
     "data": {
      "text/plain": [
       "'pw'"
      ]
     },
     "execution_count": 55,
     "metadata": {},
     "output_type": "execute_result"
    }
   ],
   "source": [
    "lst1[-5]"
   ]
  },
  {
   "cell_type": "code",
   "execution_count": 59,
   "id": "d9aebea9-cc0d-4ccb-8565-980a77dec262",
   "metadata": {},
   "outputs": [
    {
     "data": {
      "text/plain": [
       "['pw']"
      ]
     },
     "execution_count": 59,
     "metadata": {},
     "output_type": "execute_result"
    }
   ],
   "source": [
    "lst1[-5::-2]"
   ]
  },
  {
   "cell_type": "code",
   "execution_count": 60,
   "id": "4841a702-9340-4170-90bf-2d5842ecf37f",
   "metadata": {},
   "outputs": [
    {
     "data": {
      "text/plain": [
       "['pw', 'skills', 'Datas', 'Science', 'Masters', 'new element', 3]"
      ]
     },
     "execution_count": 60,
     "metadata": {},
     "output_type": "execute_result"
    }
   ],
   "source": [
    "## Concatenation Operation\n",
    "lst1 + ['new element',3]"
   ]
  },
  {
   "cell_type": "code",
   "execution_count": 61,
   "id": "966adeb3-8d7e-4ab9-9b23-6422773785bc",
   "metadata": {},
   "outputs": [
    {
     "data": {
      "text/plain": [
       "['pw', 'skills', 'Datas', 'Science', 'Masters', ['new element', 3]]"
      ]
     },
     "execution_count": 61,
     "metadata": {},
     "output_type": "execute_result"
    }
   ],
   "source": [
    "lst1 + [['new element',3]]\n",
    "#Adding a multilist element"
   ]
  },
  {
   "cell_type": "code",
   "execution_count": 63,
   "id": "a7c31bcd-ca18-4089-acd6-e0d90d47269a",
   "metadata": {},
   "outputs": [],
   "source": [
    "lst2 = lst1 + [['new element',3]]"
   ]
  },
  {
   "cell_type": "code",
   "execution_count": 64,
   "id": "982e2d89-3c04-47fd-9345-caf19a735bee",
   "metadata": {},
   "outputs": [
    {
     "data": {
      "text/plain": [
       "['new element', 3]"
      ]
     },
     "execution_count": 64,
     "metadata": {},
     "output_type": "execute_result"
    }
   ],
   "source": [
    "lst2[-1]"
   ]
  },
  {
   "cell_type": "code",
   "execution_count": 66,
   "id": "e1879990-2c94-4f65-a051-28fc76470565",
   "metadata": {},
   "outputs": [
    {
     "data": {
      "text/plain": [
       "str"
      ]
     },
     "execution_count": 66,
     "metadata": {},
     "output_type": "execute_result"
    }
   ],
   "source": [
    "#multinested list\n",
    "type(lst2[-1][0])\n",
    "#Its first getting the last element of the list and then the zeroth element from the last element(list)\n",
    "#Return type of this is String as it depends of the o/p value"
   ]
  },
  {
   "cell_type": "code",
   "execution_count": 67,
   "id": "07d700a7-c504-4496-9e38-494cebc10fa4",
   "metadata": {},
   "outputs": [
    {
     "data": {
      "text/plain": [
       "['pw',\n",
       " 'skills',\n",
       " 'Datas',\n",
       " 'Science',\n",
       " 'Masters',\n",
       " ['new element', 3],\n",
       " 'pw',\n",
       " 'skills',\n",
       " 'Datas',\n",
       " 'Science',\n",
       " 'Masters',\n",
       " ['new element', 3]]"
      ]
     },
     "execution_count": 67,
     "metadata": {},
     "output_type": "execute_result"
    }
   ],
   "source": [
    "#Not a inplace function\n",
    "lst2*2"
   ]
  },
  {
   "cell_type": "code",
   "execution_count": 68,
   "id": "edd1f3df-d5e9-4c49-a72a-1a8a31284e6e",
   "metadata": {},
   "outputs": [
    {
     "data": {
      "text/plain": [
       "['pw', 'skills', 'Datas', 'Science', 'Masters']"
      ]
     },
     "execution_count": 68,
     "metadata": {},
     "output_type": "execute_result"
    }
   ],
   "source": [
    "lst1"
   ]
  },
  {
   "cell_type": "code",
   "execution_count": 87,
   "id": "876a6acc-bfdc-4f1e-86ca-194a2184ea94",
   "metadata": {},
   "outputs": [
    {
     "name": "stdout",
     "output_type": "stream",
     "text": [
      "Available\n"
     ]
    }
   ],
   "source": [
    "#To find an elements\n",
    "if \"Science\" in lst1:\n",
    "    print(\"Available\")\n",
    "    "
   ]
  },
  {
   "cell_type": "code",
   "execution_count": 88,
   "id": "ee3155c9-c48d-4ea2-98ce-856d77a818e3",
   "metadata": {},
   "outputs": [
    {
     "name": "stdout",
     "output_type": "stream",
     "text": [
      "Not found\n",
      "Not found\n",
      "Not found\n",
      "Science\n"
     ]
    }
   ],
   "source": [
    "for i in lst1:\n",
    "    if i==\"Science\":\n",
    "        print(i)\n",
    "        break\n",
    "    else:\n",
    "        print(\"Not found\")"
   ]
  },
  {
   "cell_type": "code",
   "execution_count": 91,
   "id": "4c443f17-5230-48e5-b185-bbec39b01809",
   "metadata": {},
   "outputs": [
    {
     "data": {
      "text/plain": [
       "False"
      ]
     },
     "execution_count": 91,
     "metadata": {},
     "output_type": "execute_result"
    }
   ],
   "source": [
    "#Check element inside a list\n",
    "lst = [1,2,3,4]\n",
    "4 in lst\n",
    "5 in lst"
   ]
  },
  {
   "cell_type": "code",
   "execution_count": 92,
   "id": "21177e39-7010-40d9-a69e-ca3ccf39e83c",
   "metadata": {},
   "outputs": [],
   "source": [
    "new = [\"Zebra\",\"Money\",\"Donkey\",\"Lion\"]\n",
    "new_2 = [5,6,2,9,5,8,6]"
   ]
  },
  {
   "cell_type": "code",
   "execution_count": 93,
   "id": "cfaf831b-b2cb-4632-82ff-f945603cc58f",
   "metadata": {},
   "outputs": [
    {
     "name": "stdout",
     "output_type": "stream",
     "text": [
      "Zebra\n"
     ]
    }
   ],
   "source": [
    "print(max(new))\n",
    "#here it is taking the Ascii value of the first letter of the elements. Element having the highest Ascii value will be taken"
   ]
  },
  {
   "cell_type": "code",
   "execution_count": 94,
   "id": "a730ed49-fdb8-4369-ae55-5fecd10a4381",
   "metadata": {},
   "outputs": [
    {
     "data": {
      "text/plain": [
       "9"
      ]
     },
     "execution_count": 94,
     "metadata": {},
     "output_type": "execute_result"
    }
   ],
   "source": [
    "max(new_2)"
   ]
  },
  {
   "cell_type": "code",
   "execution_count": 95,
   "id": "10d39030-63e6-40b0-8862-d6120e82a0a1",
   "metadata": {},
   "outputs": [
    {
     "data": {
      "text/plain": [
       "'Donkey'"
      ]
     },
     "execution_count": 95,
     "metadata": {},
     "output_type": "execute_result"
    }
   ],
   "source": [
    "min(new)"
   ]
  },
  {
   "cell_type": "code",
   "execution_count": 96,
   "id": "594ab119-1eec-4529-91f3-80a0dd31b8d5",
   "metadata": {},
   "outputs": [
    {
     "data": {
      "text/plain": [
       "2"
      ]
     },
     "execution_count": 96,
     "metadata": {},
     "output_type": "execute_result"
    }
   ],
   "source": [
    "min(new_2)"
   ]
  },
  {
   "cell_type": "code",
   "execution_count": 97,
   "id": "18240a98-bf6b-4bb9-81e2-4203d68ed280",
   "metadata": {},
   "outputs": [],
   "source": [
    "## Append\n",
    "##It is a inplace operation"
   ]
  },
  {
   "cell_type": "code",
   "execution_count": 98,
   "id": "d5af44d5-e079-4b21-8aef-2f0760e42360",
   "metadata": {},
   "outputs": [],
   "source": [
    "lst = [1,2,3,4,5]"
   ]
  },
  {
   "cell_type": "code",
   "execution_count": 99,
   "id": "3fdd030d-71e9-40df-ab0e-e9569129b338",
   "metadata": {},
   "outputs": [
    {
     "data": {
      "text/plain": [
       "[1, 2, 3, 4, 5]"
      ]
     },
     "execution_count": 99,
     "metadata": {},
     "output_type": "execute_result"
    }
   ],
   "source": [
    "lst"
   ]
  },
  {
   "cell_type": "code",
   "execution_count": 101,
   "id": "d0997bd4-564a-4712-a521-bc4bc9a840d8",
   "metadata": {},
   "outputs": [],
   "source": [
    "lst.append(\"Pw skills\")"
   ]
  },
  {
   "cell_type": "code",
   "execution_count": 102,
   "id": "f4e96596-d5dc-4b92-a9af-618059a0ddca",
   "metadata": {},
   "outputs": [
    {
     "data": {
      "text/plain": [
       "[1, 2, 3, 4, 5, 'pw skills', 'Pw skills']"
      ]
     },
     "execution_count": 102,
     "metadata": {},
     "output_type": "execute_result"
    }
   ],
   "source": [
    "lst"
   ]
  },
  {
   "cell_type": "code",
   "execution_count": 103,
   "id": "07f19ce1-3a72-4316-b2de-6f447c519589",
   "metadata": {},
   "outputs": [],
   "source": [
    "lst.append([\"Data\",\"Science\",\"Masters\"])\n",
    "#It will become a multinested list"
   ]
  },
  {
   "cell_type": "code",
   "execution_count": 104,
   "id": "d5dcb654-eec3-4d54-8f08-aa8cad2c113c",
   "metadata": {},
   "outputs": [
    {
     "data": {
      "text/plain": [
       "[1, 2, 3, 4, 5, 'pw skills', 'Pw skills', ['Data', 'Science', 'Masters']]"
      ]
     },
     "execution_count": 104,
     "metadata": {},
     "output_type": "execute_result"
    }
   ],
   "source": [
    "lst"
   ]
  },
  {
   "cell_type": "code",
   "execution_count": 11,
   "id": "3c10c781-0440-43d8-a3a7-a3b176474f56",
   "metadata": {},
   "outputs": [],
   "source": [
    "dat = [1,2,3,4,5]"
   ]
  },
  {
   "cell_type": "code",
   "execution_count": 12,
   "id": "bf33fd54-5b9d-4494-ad0c-5c41b873468a",
   "metadata": {},
   "outputs": [],
   "source": [
    "dat.append([\"Pw\",\"Skills\"])"
   ]
  },
  {
   "cell_type": "code",
   "execution_count": 13,
   "id": "a43c1e0a-7b83-479f-b964-2b88a8019c1b",
   "metadata": {},
   "outputs": [
    {
     "data": {
      "text/plain": [
       "[1, 2, 3, 4, 5, ['Pw', 'Skills']]"
      ]
     },
     "execution_count": 13,
     "metadata": {},
     "output_type": "execute_result"
    }
   ],
   "source": [
    "dat\n",
    "# We need to add the above two strings seperately"
   ]
  },
  {
   "cell_type": "code",
   "execution_count": 16,
   "id": "310f6928-9314-4400-87b9-345bd9f28f1d",
   "metadata": {},
   "outputs": [],
   "source": [
    "dat.extend([\"Pw\",\"Skills\"])\n",
    "#extend is used to add the elements seperately from the list"
   ]
  },
  {
   "cell_type": "code",
   "execution_count": 15,
   "id": "c69855ae-c10d-4cde-aeb0-0acf196421cc",
   "metadata": {},
   "outputs": [
    {
     "data": {
      "text/plain": [
       "[1, 2, 3, 4, 5, ['Pw', 'Skills'], 'Pw', 'Skills']"
      ]
     },
     "execution_count": 15,
     "metadata": {},
     "output_type": "execute_result"
    }
   ],
   "source": [
    "dat"
   ]
  },
  {
   "cell_type": "code",
   "execution_count": 105,
   "id": "b07a2e35-8c35-417e-aa0c-ec998f8dc8c6",
   "metadata": {},
   "outputs": [
    {
     "data": {
      "text/plain": [
       "['Data', 'Science', 'Masters']"
      ]
     },
     "execution_count": 105,
     "metadata": {},
     "output_type": "execute_result"
    }
   ],
   "source": [
    "lst.pop()\n",
    "#We have to give index in pop() if not it default deletes the last element of the list\n",
    "#It is an inplace operation as it is updating list values"
   ]
  },
  {
   "cell_type": "code",
   "execution_count": 107,
   "id": "4d633bbf-145d-4fb3-985f-a8995e2d6baa",
   "metadata": {},
   "outputs": [
    {
     "data": {
      "text/plain": [
       "3"
      ]
     },
     "execution_count": 107,
     "metadata": {},
     "output_type": "execute_result"
    }
   ],
   "source": [
    "lst.pop(2)"
   ]
  },
  {
   "cell_type": "code",
   "execution_count": 108,
   "id": "a63d94fc-f81a-465a-954b-48625cb74137",
   "metadata": {},
   "outputs": [
    {
     "data": {
      "text/plain": [
       "[1, 2, 4, 5, 'pw skills', 'Pw skills']"
      ]
     },
     "execution_count": 108,
     "metadata": {},
     "output_type": "execute_result"
    }
   ],
   "source": [
    "lst"
   ]
  },
  {
   "cell_type": "code",
   "execution_count": 110,
   "id": "7c5c063f-7c06-409b-b539-ba834d772a27",
   "metadata": {},
   "outputs": [
    {
     "data": {
      "text/plain": [
       "5"
      ]
     },
     "execution_count": 110,
     "metadata": {},
     "output_type": "execute_result"
    }
   ],
   "source": [
    "removed_element = lst.pop(2)\n",
    "removed_element"
   ]
  },
  {
   "cell_type": "code",
   "execution_count": 111,
   "id": "1d8728ec-8557-42e7-b23c-5d6884a72fcc",
   "metadata": {},
   "outputs": [
    {
     "ename": "IndexError",
     "evalue": "list index out of range",
     "output_type": "error",
     "traceback": [
      "\u001b[0;31m---------------------------------------------------------------------------\u001b[0m",
      "\u001b[0;31mIndexError\u001b[0m                                Traceback (most recent call last)",
      "Cell \u001b[0;32mIn[111], line 1\u001b[0m\n\u001b[0;32m----> 1\u001b[0m \u001b[43mlst\u001b[49m\u001b[43m[\u001b[49m\u001b[38;5;241;43m100\u001b[39;49m\u001b[43m]\u001b[49m\n",
      "\u001b[0;31mIndexError\u001b[0m: list index out of range"
     ]
    }
   ],
   "source": [
    "lst[100]"
   ]
  },
  {
   "cell_type": "code",
   "execution_count": 112,
   "id": "3a38354b-1649-47ce-a2e5-bafdbfc96eb0",
   "metadata": {},
   "outputs": [],
   "source": [
    "## Sorting and Reverse method in list"
   ]
  },
  {
   "cell_type": "code",
   "execution_count": 1,
   "id": "07b43d8b-dcc3-4cdf-942d-24d696ea8a57",
   "metadata": {},
   "outputs": [],
   "source": [
    "new_lista = ['p','a','c','m','n']"
   ]
  },
  {
   "cell_type": "code",
   "execution_count": 2,
   "id": "c554ca69-0c9e-4cdd-85f0-2345a86846fe",
   "metadata": {},
   "outputs": [
    {
     "data": {
      "text/plain": [
       "['p', 'a', 'c', 'm', 'n']"
      ]
     },
     "execution_count": 2,
     "metadata": {},
     "output_type": "execute_result"
    }
   ],
   "source": [
    "new_lista"
   ]
  },
  {
   "cell_type": "code",
   "execution_count": 3,
   "id": "2b9372ca-79b5-4a9e-ae23-25a7cb00ee16",
   "metadata": {},
   "outputs": [
    {
     "data": {
      "text/plain": [
       "['n', 'm', 'c', 'a', 'p']"
      ]
     },
     "execution_count": 3,
     "metadata": {},
     "output_type": "execute_result"
    }
   ],
   "source": [
    "new_lista[::-1]"
   ]
  },
  {
   "cell_type": "code",
   "execution_count": 5,
   "id": "07209f11-aa90-4075-941c-5be899634f8d",
   "metadata": {},
   "outputs": [],
   "source": [
    "#inplace\n",
    "new_lista.reverse()\n",
    "#It reverse the string"
   ]
  },
  {
   "cell_type": "code",
   "execution_count": 6,
   "id": "0d828329-7d7f-4185-9407-7abf242479e8",
   "metadata": {},
   "outputs": [
    {
     "data": {
      "text/plain": [
       "['p', 'a', 'c', 'm', 'n']"
      ]
     },
     "execution_count": 6,
     "metadata": {},
     "output_type": "execute_result"
    }
   ],
   "source": [
    "new_lista"
   ]
  },
  {
   "cell_type": "code",
   "execution_count": 7,
   "id": "bbb464b0-e5ee-4548-bedd-8b59d8dc0f85",
   "metadata": {},
   "outputs": [],
   "source": [
    "new_lista.sort()\n"
   ]
  },
  {
   "cell_type": "code",
   "execution_count": 17,
   "id": "7dc52ee8-d9e0-437a-8642-138a808585a7",
   "metadata": {},
   "outputs": [],
   "source": [
    "new_lista.sort(reverse = True)"
   ]
  },
  {
   "cell_type": "code",
   "execution_count": 18,
   "id": "b8333aa8-9ff1-4296-996d-5d09a0a299b0",
   "metadata": {},
   "outputs": [
    {
     "data": {
      "text/plain": [
       "['p', 'n', 'm', 'c', 'a']"
      ]
     },
     "execution_count": 18,
     "metadata": {},
     "output_type": "execute_result"
    }
   ],
   "source": [
    "new_lista"
   ]
  },
  {
   "cell_type": "markdown",
   "id": "a9c483f2-84a8-4dfc-b938-71fd2f55c52c",
   "metadata": {},
   "source": [
    "## Nested List"
   ]
  },
  {
   "cell_type": "code",
   "execution_count": 19,
   "id": "6cdb1482-8e8e-4816-a9b9-b3b88ccd8609",
   "metadata": {},
   "outputs": [],
   "source": [
    "#Three list\n",
    "list_1 = [1,2,3]\n",
    "list_2 = [4,5,6]\n",
    "list_3 = [7,8,9]"
   ]
  },
  {
   "cell_type": "code",
   "execution_count": 20,
   "id": "a74caaf6-4ad7-4b26-af1b-50529e31bada",
   "metadata": {},
   "outputs": [],
   "source": [
    "#Make a list of list to form a matrix\n",
    "matrix =[list_1,list_2,list_3]"
   ]
  },
  {
   "cell_type": "code",
   "execution_count": 21,
   "id": "1737b480-3ce4-4366-8eb3-11fdfdf23e64",
   "metadata": {},
   "outputs": [
    {
     "data": {
      "text/plain": [
       "[[1, 2, 3], [4, 5, 6], [7, 8, 9]]"
      ]
     },
     "execution_count": 21,
     "metadata": {},
     "output_type": "execute_result"
    }
   ],
   "source": [
    "matrix"
   ]
  },
  {
   "cell_type": "code",
   "execution_count": 23,
   "id": "08906add-20fc-46af-8ee8-b342010db7e6",
   "metadata": {},
   "outputs": [
    {
     "data": {
      "text/plain": [
       "6"
      ]
     },
     "execution_count": 23,
     "metadata": {},
     "output_type": "execute_result"
    }
   ],
   "source": [
    "#to extract 6 from the list\n",
    "matrix[1][2]"
   ]
  },
  {
   "cell_type": "code",
   "execution_count": 27,
   "id": "568b7a4b-4f5d-4023-b87a-ab2a654a769e",
   "metadata": {},
   "outputs": [
    {
     "data": {
      "text/plain": [
       "[8, 9]"
      ]
     },
     "execution_count": 27,
     "metadata": {},
     "output_type": "execute_result"
    }
   ],
   "source": [
    "#to extract 8 & 9 from the list\n",
    "matrix[2][1:]"
   ]
  },
  {
   "cell_type": "code",
   "execution_count": 32,
   "id": "94c16076-227e-4fbc-822d-e6658153458e",
   "metadata": {},
   "outputs": [
    {
     "data": {
      "text/plain": [
       "(1, 1)"
      ]
     },
     "execution_count": 32,
     "metadata": {},
     "output_type": "execute_result"
    }
   ],
   "source": [
    "#to extract 1,4,7 (will learn later)\n",
    "matrix[0][0]"
   ]
  },
  {
   "cell_type": "markdown",
   "id": "c5dea4cb-1d50-4670-b5b5-67cf47163a06",
   "metadata": {},
   "source": [
    "## List Compehension"
   ]
  },
  {
   "cell_type": "code",
   "execution_count": 35,
   "id": "b2958f6f-5fa1-4d3b-8821-1375ec667a9b",
   "metadata": {},
   "outputs": [
    {
     "data": {
      "text/plain": [
       "[0, 1, 2, 3, 4, 5, 6, 7, 8, 9, 10, 11, 12, 13, 14, 15, 16, 17, 18, 19]"
      ]
     },
     "execution_count": 35,
     "metadata": {},
     "output_type": "execute_result"
    }
   ],
   "source": [
    "[i for i in range (20)]\n",
    "#read description in copy"
   ]
  },
  {
   "cell_type": "code",
   "execution_count": 36,
   "id": "b782d696-affa-41fb-bf27-494294d49403",
   "metadata": {},
   "outputs": [
    {
     "data": {
      "text/plain": [
       "[0,\n",
       " 'ODD',\n",
       " 2,\n",
       " 'ODD',\n",
       " 4,\n",
       " 'ODD',\n",
       " 6,\n",
       " 'ODD',\n",
       " 8,\n",
       " 'ODD',\n",
       " 10,\n",
       " 'ODD',\n",
       " 12,\n",
       " 'ODD',\n",
       " 14,\n",
       " 'ODD',\n",
       " 16,\n",
       " 'ODD',\n",
       " 18,\n",
       " 'ODD']"
      ]
     },
     "execution_count": 36,
     "metadata": {},
     "output_type": "execute_result"
    }
   ],
   "source": [
    "#even numbers\n",
    "[i if i%2==0 else \"ODD\" for i in range(20)]"
   ]
  },
  {
   "cell_type": "code",
   "execution_count": 7,
   "id": "f04a316b-f845-4710-bf65-54cf1e13b192",
   "metadata": {},
   "outputs": [],
   "source": [
    "#Question - Write a submission of even number at one variable and submission of odd number at other variable\n",
    "lst = [1,2,3,4,5,6,7,8]"
   ]
  },
  {
   "cell_type": "code",
   "execution_count": 40,
   "id": "5f37802d-ec80-4ac4-9489-d8f0e0605e1e",
   "metadata": {},
   "outputs": [
    {
     "ename": "SyntaxError",
     "evalue": "expected 'else' after 'if' expression (4066893398.py, line 1)",
     "output_type": "error",
     "traceback": [
      "\u001b[0;36m  Cell \u001b[0;32mIn[41], line 1\u001b[0;36m\u001b[0m\n\u001b[0;31m    [num if num%2==0 for num in lst]\u001b[0m\n\u001b[0m     ^\u001b[0m\n\u001b[0;31mSyntaxError\u001b[0m\u001b[0;31m:\u001b[0m expected 'else' after 'if' expression\n"
     ]
    }
   ],
   "source": [
    "# Even Sum\n",
    "sum([num if num%2==0 for num in lst])\n",
    "#if we don't have a if condition then write if condition after for"
   ]
  },
  {
   "cell_type": "code",
   "execution_count": 42,
   "id": "dc7cc4e0-874f-492d-bfc1-12c96a57f799",
   "metadata": {},
   "outputs": [
    {
     "data": {
      "text/plain": [
       "20"
      ]
     },
     "execution_count": 42,
     "metadata": {},
     "output_type": "execute_result"
    }
   ],
   "source": [
    "#Correct Syntax\n",
    "Even_Sum = sum([num for num in lst if num%2==0])"
   ]
  },
  {
   "cell_type": "code",
   "execution_count": 45,
   "id": "b48f3ff0-fde3-43df-9fbc-d3c226c631ad",
   "metadata": {},
   "outputs": [
    {
     "data": {
      "text/plain": [
       "16"
      ]
     },
     "execution_count": 45,
     "metadata": {},
     "output_type": "execute_result"
    }
   ],
   "source": [
    "#Odd Sum\n",
    "Odd_Sum = sum([num for num in lst if num%2==1])\n",
    "Odd_Sum"
   ]
  },
  {
   "cell_type": "code",
   "execution_count": 36,
   "id": "ffb22da8-99f1-4ae1-9221-f5a20af25fe1",
   "metadata": {},
   "outputs": [
    {
     "name": "stdout",
     "output_type": "stream",
     "text": [
      "20\n",
      "16\n"
     ]
    }
   ],
   "source": [
    "#Loop Method\n",
    "lst = [1,2,3,4,5,6,7,8]\n",
    "even_num = 0\n",
    "odd_num = 0\n",
    "for i in lst:\n",
    "    if i%2==0:\n",
    "        even_num += i\n",
    "    else:\n",
    "        odd_num += i\n",
    "        \n",
    "print(even_num)\n",
    "print(odd_num)"
   ]
  },
  {
   "cell_type": "code",
   "execution_count": 46,
   "id": "e1789182-f6e6-47c2-ad3c-f79ba2b5cdfb",
   "metadata": {},
   "outputs": [
    {
     "data": {
      "text/plain": [
       "[1, 4, 9, 16, 25, 36, 49, 64, 81, 100]"
      ]
     },
     "execution_count": 46,
     "metadata": {},
     "output_type": "execute_result"
    }
   ],
   "source": [
    "#Find the square of the following list elements\n",
    "lst = [1,2,3,4,5,6,7,8,9,10]\n",
    "[(i)*(i) for i in lst]\n",
    "#[(i)**2 for i in lst] - Another way"
   ]
  },
  {
   "cell_type": "code",
   "execution_count": 50,
   "id": "9671a738-4e32-4d4c-abbe-eda4f2ecbc88",
   "metadata": {},
   "outputs": [
    {
     "data": {
      "text/plain": [
       "[1, 2, 3, 4]"
      ]
     },
     "execution_count": 50,
     "metadata": {},
     "output_type": "execute_result"
    }
   ],
   "source": [
    "#Create a list of only the positive numbers from a given list\n",
    "numbers = [-2,-1,0,1,2,3,4]\n",
    "[num for num in numbers if num>0]"
   ]
  },
  {
   "cell_type": "code",
   "execution_count": 51,
   "id": "2a7a4a83-aa67-4e0b-a0d7-315d06dbe7cc",
   "metadata": {},
   "outputs": [],
   "source": [
    "#Create a list of only the first letters of words in a list\n",
    "words = ['apple','banana','cherry','date']"
   ]
  },
  {
   "cell_type": "code",
   "execution_count": 55,
   "id": "ca66d986-8e4e-42a6-93d5-5903ee8e8e10",
   "metadata": {},
   "outputs": [
    {
     "data": {
      "text/plain": [
       "['a', 'b', 'c', 'd']"
      ]
     },
     "execution_count": 55,
     "metadata": {},
     "output_type": "execute_result"
    }
   ],
   "source": [
    "[w[0] for w in words]\n",
    "#direct write [0] as an index"
   ]
  },
  {
   "cell_type": "code",
   "execution_count": 59,
   "id": "afe50541-06cc-4e85-b568-9250acbcf062",
   "metadata": {},
   "outputs": [],
   "source": [
    "#Convert a list of temperature from celsius to fahrenheit using List Comprehension\n",
    "celsius_temp = [0,10,20,30,40,50]"
   ]
  },
  {
   "cell_type": "code",
   "execution_count": 57,
   "id": "49641e7e-b7b0-4f01-b34c-63accf3b855e",
   "metadata": {},
   "outputs": [],
   "source": [
    "#formula : 9/5*temp+32"
   ]
  },
  {
   "cell_type": "code",
   "execution_count": 60,
   "id": "7d4f3c57-e6c4-410d-8e86-ab4f0b10cbca",
   "metadata": {},
   "outputs": [
    {
     "data": {
      "text/plain": [
       "[32.0, 50.0, 68.0, 86.0, 104.0, 122.0]"
      ]
     },
     "execution_count": 60,
     "metadata": {},
     "output_type": "execute_result"
    }
   ],
   "source": [
    "[(9/5)*temp+32 for temp in celsius_temp]"
   ]
  },
  {
   "cell_type": "code",
   "execution_count": 61,
   "id": "02ef3697-c1ef-43b9-b42b-0f8d2b52340c",
   "metadata": {},
   "outputs": [],
   "source": [
    "#Flatten a list of lists into a single list\n",
    "list = [[1,2,3],[4,5,6],[7,8,9]]"
   ]
  },
  {
   "cell_type": "code",
   "execution_count": 65,
   "id": "f3fcdf45-7628-4597-a247-0ed9ee3d5c88",
   "metadata": {},
   "outputs": [
    {
     "data": {
      "text/plain": [
       "[1, 2, 3, 4, 5, 6, 7, 8, 9]"
      ]
     },
     "execution_count": 65,
     "metadata": {},
     "output_type": "execute_result"
    }
   ],
   "source": [
    "[new_list for l in list for new_list in l]\n",
    "#It is calling first the main list in l and then the main list(l) in new_list and extracting single letter "
   ]
  },
  {
   "cell_type": "code",
   "execution_count": null,
   "id": "853c1501-9d3b-48d7-b0c1-8351889160be",
   "metadata": {},
   "outputs": [],
   "source": [
    "# Assignment \n",
    "#Using both code and list comprehension\n",
    "\n",
    "#Q- Create a list only for prime numbers from a given list\n",
    "#numbers = [1,2,3,4,5,6,7,8,9,10]\n",
    "\n",
    "#Q- Create a list of all teh possible combinations of 2 elements from a list\n",
    "#numbers = [1,2,3,4,5]"
   ]
  }
 ],
 "metadata": {
  "kernelspec": {
   "display_name": "Python 3 (ipykernel)",
   "language": "python",
   "name": "python3"
  },
  "language_info": {
   "codemirror_mode": {
    "name": "ipython",
    "version": 3
   },
   "file_extension": ".py",
   "mimetype": "text/x-python",
   "name": "python",
   "nbconvert_exporter": "python",
   "pygments_lexer": "ipython3",
   "version": "3.10.8"
  }
 },
 "nbformat": 4,
 "nbformat_minor": 5
}
