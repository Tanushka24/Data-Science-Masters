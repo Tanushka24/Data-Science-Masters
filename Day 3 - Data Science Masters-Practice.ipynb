{
 "cells": [
  {
   "cell_type": "markdown",
   "id": "1291a13a-3e02-4702-83cc-c986549c8355",
   "metadata": {},
   "source": [
    "## Logical Operators\n",
    "##### 1. And\n",
    "##### 2. Or\n",
    "##### 3.Not"
   ]
  },
  {
   "cell_type": "code",
   "execution_count": 2,
   "id": "31dd6560-c6d6-4f63-94de-8c7a03124a0e",
   "metadata": {},
   "outputs": [
    {
     "data": {
      "text/plain": [
       "True"
      ]
     },
     "execution_count": 2,
     "metadata": {},
     "output_type": "execute_result"
    }
   ],
   "source": [
    "True and True"
   ]
  },
  {
   "cell_type": "code",
   "execution_count": 3,
   "id": "8cc58104-46a3-4abc-8841-3cb896aed895",
   "metadata": {},
   "outputs": [
    {
     "data": {
      "text/plain": [
       "True"
      ]
     },
     "execution_count": 3,
     "metadata": {},
     "output_type": "execute_result"
    }
   ],
   "source": [
    "True or False"
   ]
  },
  {
   "cell_type": "markdown",
   "id": "684cbbb8-0378-4e71-8f1b-5ea402901823",
   "metadata": {},
   "source": [
    "## Practice Questions\n",
    "### NOT Operator"
   ]
  },
  {
   "cell_type": "code",
   "execution_count": 7,
   "id": "0ecb5b43-f5f8-43c3-bef3-c1fdd787986e",
   "metadata": {},
   "outputs": [
    {
     "name": "stdout",
     "output_type": "stream",
     "text": [
      "Defined value of Start = True\n",
      "Defined value of Start = False\n",
      "\n"
     ]
    }
   ],
   "source": [
    "Start = True\n",
    "Stop = False\n",
    "print(f\"Defined value of Start = {Start}\")\n",
    "print(f\"Defined value of Stop = {Stop} \\n\")"
   ]
  },
  {
   "cell_type": "code",
   "execution_count": 8,
   "id": "a1876bff-6da4-4db5-ac3a-4d05171a2019",
   "metadata": {},
   "outputs": [
    {
     "name": "stdout",
     "output_type": "stream",
     "text": [
      "Defined value of Start = True\n",
      "Value of Stop by negating Start = False \n",
      "\n"
     ]
    }
   ],
   "source": [
    "print(f\"Defined value of Start = {Start}\")\n",
    "print(f\"Value of Stop by negating Start = {not Start} \\n\")"
   ]
  },
  {
   "cell_type": "code",
   "execution_count": 9,
   "id": "de1e3143-1c36-4b1e-8873-6bddb8d4110e",
   "metadata": {},
   "outputs": [
    {
     "name": "stdout",
     "output_type": "stream",
     "text": [
      "Value of Start by negating Stop = True\n",
      "Defined value of Stop = False \n",
      "\n"
     ]
    }
   ],
   "source": [
    "print(f\"Value of Start by negating Stop = {not Stop}\")\n",
    "print(f\"Defined value of Stop = {Stop} \\n\")"
   ]
  },
  {
   "cell_type": "code",
   "execution_count": 10,
   "id": "590c8943-eefc-489e-8277-9537c40c7c82",
   "metadata": {},
   "outputs": [
    {
     "data": {
      "text/plain": [
       "False"
      ]
     },
     "execution_count": 10,
     "metadata": {},
     "output_type": "execute_result"
    }
   ],
   "source": [
    "not True"
   ]
  },
  {
   "cell_type": "code",
   "execution_count": 14,
   "id": "56e960f4-e9b8-4a83-b735-cf8f1def1ccd",
   "metadata": {},
   "outputs": [
    {
     "data": {
      "text/plain": [
       "True"
      ]
     },
     "execution_count": 14,
     "metadata": {},
     "output_type": "execute_result"
    }
   ],
   "source": [
    "not bool(0)"
   ]
  },
  {
   "cell_type": "code",
   "execution_count": 23,
   "id": "172dc995-6698-4d1a-b283-5c11e4b9b467",
   "metadata": {},
   "outputs": [
    {
     "data": {
      "text/plain": [
       "0"
      ]
     },
     "execution_count": 23,
     "metadata": {},
     "output_type": "execute_result"
    }
   ],
   "source": [
    "int((bool(0)))"
   ]
  },
  {
   "cell_type": "code",
   "execution_count": 1,
   "id": "727b18ef-6177-4700-8caa-0d57a7ef6802",
   "metadata": {},
   "outputs": [
    {
     "data": {
      "text/plain": [
       "False"
      ]
     },
     "execution_count": 1,
     "metadata": {},
     "output_type": "execute_result"
    }
   ],
   "source": [
    "not int(bool(1))"
   ]
  },
  {
   "cell_type": "code",
   "execution_count": 2,
   "id": "c0a7bead-be68-4a39-a94c-ddf2db2c5a94",
   "metadata": {},
   "outputs": [
    {
     "data": {
      "text/plain": [
       "False"
      ]
     },
     "execution_count": 2,
     "metadata": {},
     "output_type": "execute_result"
    }
   ],
   "source": [
    "not int(bool(1))"
   ]
  },
  {
   "cell_type": "code",
   "execution_count": 19,
   "id": "ffb9cc08-b71f-4d83-a61e-3de690e0d4c0",
   "metadata": {},
   "outputs": [
    {
     "data": {
      "text/plain": [
       "False"
      ]
     },
     "execution_count": 19,
     "metadata": {},
     "output_type": "execute_result"
    }
   ],
   "source": [
    "not 1"
   ]
  },
  {
   "cell_type": "code",
   "execution_count": 20,
   "id": "5175a8d8-bcab-445f-a597-8f3f3ee98cf4",
   "metadata": {},
   "outputs": [
    {
     "data": {
      "text/plain": [
       "True"
      ]
     },
     "execution_count": 20,
     "metadata": {},
     "output_type": "execute_result"
    }
   ],
   "source": [
    "not 0"
   ]
  },
  {
   "cell_type": "markdown",
   "id": "a2e53105-a84e-46b1-9440-79c12c76ddfa",
   "metadata": {},
   "source": [
    "## Practice Questions"
   ]
  },
  {
   "cell_type": "code",
   "execution_count": 22,
   "id": "1c5ad869-a995-44a5-8cc4-541d0c58fc60",
   "metadata": {},
   "outputs": [
    {
     "name": "stdout",
     "output_type": "stream",
     "text": [
      "Defined value of Start = 1\n",
      "Defined value of Stop = 0 \n",
      "\n",
      "Defined value of Start = 1\n",
      "Value of Stop by negating Start = 0 \n",
      "\n",
      "Value of Start by negating Stop = 1\n",
      "Defined value of Stop = 0 \n",
      "\n"
     ]
    }
   ],
   "source": [
    "Start = 1\n",
    "Stop = 0\n",
    "print(f\"Defined value of Start = {Start}\")\n",
    "print(f\"Defined value of Stop = {Stop} \\n\")\n",
    "\n",
    "print(f\"Defined value of Start = {Start}\")\n",
    "print(f\"Value of Stop by negating Start = {int(not Start)} \\n\")\n",
    "\n",
    "print(f\"Value of Start by negating Stop = {int(not Stop)}\")\n",
    "print(f\"Defined value of Stop = {Stop} \\n\")\n"
   ]
  },
  {
   "cell_type": "code",
   "execution_count": 26,
   "id": "10b2eb97-700f-40a3-9fab-b199d97fc0b2",
   "metadata": {},
   "outputs": [
    {
     "data": {
      "text/plain": [
       "False"
      ]
     },
     "execution_count": 26,
     "metadata": {},
     "output_type": "execute_result"
    }
   ],
   "source": [
    "not 2\n",
    "# any number other than 0 is true and opposite of that is false"
   ]
  },
  {
   "cell_type": "code",
   "execution_count": 27,
   "id": "f06547ab-9e39-498d-853d-d4144ecf028e",
   "metadata": {},
   "outputs": [
    {
     "data": {
      "text/plain": [
       "False"
      ]
     },
     "execution_count": 27,
     "metadata": {},
     "output_type": "execute_result"
    }
   ],
   "source": [
    "not -1"
   ]
  },
  {
   "cell_type": "code",
   "execution_count": 29,
   "id": "9a62b705-da2c-4b77-b135-e5e5bc6f179d",
   "metadata": {},
   "outputs": [
    {
     "data": {
      "text/plain": [
       "False"
      ]
     },
     "execution_count": 29,
     "metadata": {},
     "output_type": "execute_result"
    }
   ],
   "source": [
    "not -10000"
   ]
  },
  {
   "cell_type": "code",
   "execution_count": 30,
   "id": "e2c62352-f847-4671-bbe8-14b9523a3114",
   "metadata": {},
   "outputs": [
    {
     "name": "stdout",
     "output_type": "stream",
     "text": [
      "boolean value of no. 0 is False\n",
      "boolean value of no. 1 is True\n",
      "negation of 0 is True and negation 1 is False\n",
      "\n",
      "#--------------------------#\n",
      "\n"
     ]
    }
   ],
   "source": [
    "zero = 0\n",
    "one = 1\n",
    "\n",
    "print(f\"boolean value of no. {zero} is {bool(zero)}\")\n",
    "print(f\"boolean value of no. {one} is {bool(one)}\")\n",
    "print(f\"negation of {zero} is {not zero} and negation {one} is {not one}\")\n",
    "print(\"\\n#--------------------------#\\n\")"
   ]
  },
  {
   "cell_type": "code",
   "execution_count": 31,
   "id": "40c5ee7b-d815-42b9-8674-1b04d57f6723",
   "metadata": {},
   "outputs": [
    {
     "name": "stdout",
     "output_type": "stream",
     "text": [
      "boolean value of no. -5 is True\n",
      "boolean value of no. 5 is True\n",
      "negation of -5 is False and negation of 5 is False\n",
      "\n",
      "#--------------------------#\n",
      "\n"
     ]
    }
   ],
   "source": [
    "some_negative_number = -5\n",
    "some_positive_number = 5\n",
    "\n",
    "print(f\"boolean value of no. {some_negative_number} is {bool(some_negative_number)}\")\n",
    "print(f\"boolean value of no. {some_positive_number} is {bool(some_positive_number)}\")\n",
    "print(f\"negation of {some_negative_number} is {not some_negative_number} \\\n",
    "and negation of {some_positive_number} is {not some_positive_number}\")\n",
    "print(\"\\n#--------------------------#\\n\")"
   ]
  },
  {
   "cell_type": "markdown",
   "id": "ae16ccc6-6ad0-4b6c-bca9-d69ad384a6b9",
   "metadata": {},
   "source": [
    "### AND Operator"
   ]
  },
  {
   "cell_type": "code",
   "execution_count": 1,
   "id": "b95cc821-4918-4fbb-9f76-8074d943086a",
   "metadata": {},
   "outputs": [
    {
     "name": "stdout",
     "output_type": "stream",
     "text": [
      "DISH contains VEGETABLES: True\n",
      "DISH contains SALT: False\n",
      "Hence dish prepared was good: False\n",
      "\n"
     ]
    }
   ],
   "source": [
    "VEGETABLES = True\n",
    "SALT = False\n",
    "DISH = VEGETABLES and SALT\n",
    "\n",
    "print(f\"DISH contains VEGETABLES: {VEGETABLES}\")\n",
    "print(f\"DISH contains SALT: {SALT}\")\n",
    "print(f\"Hence dish prepared was good: {DISH}\\n\")\n"
   ]
  },
  {
   "cell_type": "code",
   "execution_count": 2,
   "id": "d84460ad-2a42-4f33-b220-41047c4c6a73",
   "metadata": {},
   "outputs": [
    {
     "data": {
      "text/plain": [
       "0"
      ]
     },
     "execution_count": 2,
     "metadata": {},
     "output_type": "execute_result"
    }
   ],
   "source": [
    "True *False"
   ]
  },
  {
   "cell_type": "code",
   "execution_count": 3,
   "id": "9fb01cf8-111c-407c-967d-863d90c4669f",
   "metadata": {},
   "outputs": [
    {
     "data": {
      "text/plain": [
       "0"
      ]
     },
     "execution_count": 3,
     "metadata": {},
     "output_type": "execute_result"
    }
   ],
   "source": [
    "1 *0"
   ]
  },
  {
   "cell_type": "code",
   "execution_count": 4,
   "id": "08728cc1-7058-45c8-b6e9-1c145c783921",
   "metadata": {},
   "outputs": [
    {
     "data": {
      "text/plain": [
       "1"
      ]
     },
     "execution_count": 4,
     "metadata": {},
     "output_type": "execute_result"
    }
   ],
   "source": [
    "True *True"
   ]
  },
  {
   "cell_type": "code",
   "execution_count": 7,
   "id": "7dbad646-0bf5-4f22-a61a-fd5bb2b91f18",
   "metadata": {},
   "outputs": [
    {
     "data": {
      "text/plain": [
       "True"
      ]
     },
     "execution_count": 7,
     "metadata": {},
     "output_type": "execute_result"
    }
   ],
   "source": [
    "not(False) *True \n",
    "# Not gives true and false not 1 or 0"
   ]
  },
  {
   "cell_type": "code",
   "execution_count": 8,
   "id": "0e840cba-81a4-4fbb-a708-f9338ccea1ec",
   "metadata": {},
   "outputs": [
    {
     "ename": "SyntaxError",
     "evalue": "invalid syntax (930031231.py, line 1)",
     "output_type": "error",
     "traceback": [
      "\u001b[0;36m  Cell \u001b[0;32mIn[8], line 1\u001b[0;36m\u001b[0m\n\u001b[0;31m    False * not(False)\u001b[0m\n\u001b[0m            ^\u001b[0m\n\u001b[0;31mSyntaxError\u001b[0m\u001b[0;31m:\u001b[0m invalid syntax\n"
     ]
    }
   ],
   "source": [
    "False * not(False)"
   ]
  },
  {
   "cell_type": "code",
   "execution_count": 9,
   "id": "ba1ae199-1140-4006-ae38-a2a45550bf27",
   "metadata": {},
   "outputs": [
    {
     "data": {
      "text/plain": [
       "0"
      ]
     },
     "execution_count": 9,
     "metadata": {},
     "output_type": "execute_result"
    }
   ],
   "source": [
    "False * (not(False)) \n",
    "# 0 *1"
   ]
  },
  {
   "cell_type": "code",
   "execution_count": 16,
   "id": "c2aa7c4c-37bf-4a1c-b5c6-db0a2cc425c5",
   "metadata": {},
   "outputs": [
    {
     "data": {
      "text/plain": [
       "True"
      ]
     },
     "execution_count": 16,
     "metadata": {},
     "output_type": "execute_result"
    }
   ],
   "source": [
    "not(False) * False # here is working as normal boolean operator when adding not\n",
    "# Step 1 False *False = False\n",
    "#Step 2 not False = True"
   ]
  },
  {
   "cell_type": "code",
   "execution_count": 13,
   "id": "c60adb20-fcdd-4b03-a22d-aae399eedeec",
   "metadata": {},
   "outputs": [
    {
     "data": {
      "text/plain": [
       "0"
      ]
     },
     "execution_count": 13,
     "metadata": {},
     "output_type": "execute_result"
    }
   ],
   "source": [
    "(not(False)) * False # here operator precedence comes into role (1 * 0)"
   ]
  },
  {
   "cell_type": "code",
   "execution_count": 15,
   "id": "6bde2964-f621-4f2b-84b5-ae3d2a227924",
   "metadata": {},
   "outputs": [
    {
     "data": {
      "text/plain": [
       "9"
      ]
     },
     "execution_count": 15,
     "metadata": {},
     "output_type": "execute_result"
    }
   ],
   "source": [
    "(1+2)*3"
   ]
  },
  {
   "cell_type": "code",
   "execution_count": 19,
   "id": "476cd7b3-0b63-40c4-9287-cc53a99c4832",
   "metadata": {},
   "outputs": [
    {
     "data": {
      "text/plain": [
       "False"
      ]
     },
     "execution_count": 19,
     "metadata": {},
     "output_type": "execute_result"
    }
   ],
   "source": [
    "not(False) * False == True   #(false) is not bracket for BODMAS"
   ]
  },
  {
   "cell_type": "code",
   "execution_count": 20,
   "id": "bd71a603-a7d5-4e00-ba5a-736932b51751",
   "metadata": {},
   "outputs": [
    {
     "name": "stdout",
     "output_type": "stream",
     "text": [
      "True\n"
     ]
    }
   ],
   "source": [
    "print(not(False) * False)"
   ]
  },
  {
   "cell_type": "code",
   "execution_count": 21,
   "id": "4fbf9dea-ac92-47e3-a8a4-c2846ad9a3c1",
   "metadata": {},
   "outputs": [
    {
     "data": {
      "text/plain": [
       "0"
      ]
     },
     "execution_count": 21,
     "metadata": {},
     "output_type": "execute_result"
    }
   ],
   "source": [
    "False * True"
   ]
  },
  {
   "cell_type": "code",
   "execution_count": 23,
   "id": "879387d1-3483-455c-b4c2-9a3d76371fbd",
   "metadata": {},
   "outputs": [
    {
     "data": {
      "text/plain": [
       "0.0"
      ]
     },
     "execution_count": 23,
     "metadata": {},
     "output_type": "execute_result"
    }
   ],
   "source": [
    "0/1"
   ]
  },
  {
   "cell_type": "code",
   "execution_count": 24,
   "id": "1c93495a-7a9a-4868-be21-f3e2bd4affd6",
   "metadata": {},
   "outputs": [
    {
     "data": {
      "text/plain": [
       "True"
      ]
     },
     "execution_count": 24,
     "metadata": {},
     "output_type": "execute_result"
    }
   ],
   "source": [
    "not(False * True)"
   ]
  },
  {
   "cell_type": "code",
   "execution_count": 25,
   "id": "95f8d2c0-6dc1-4bc3-aabb-b61d38da6fad",
   "metadata": {},
   "outputs": [
    {
     "data": {
      "text/plain": [
       "True"
      ]
     },
     "execution_count": 25,
     "metadata": {},
     "output_type": "execute_result"
    }
   ],
   "source": [
    "not(0)"
   ]
  },
  {
   "cell_type": "code",
   "execution_count": 26,
   "id": "1cc66abd-26f4-4b42-9529-b73a43deef27",
   "metadata": {},
   "outputs": [
    {
     "data": {
      "text/plain": [
       "False"
      ]
     },
     "execution_count": 26,
     "metadata": {},
     "output_type": "execute_result"
    }
   ],
   "source": [
    "not(1)\n",
    "# not is a boolean operation so it will give o/p in either True or False"
   ]
  },
  {
   "cell_type": "code",
   "execution_count": 27,
   "id": "ea8e0376-8f9a-4031-822e-9255901ee0f9",
   "metadata": {},
   "outputs": [
    {
     "data": {
      "text/plain": [
       "True"
      ]
     },
     "execution_count": 27,
     "metadata": {},
     "output_type": "execute_result"
    }
   ],
   "source": [
    "not False * True"
   ]
  },
  {
   "cell_type": "markdown",
   "id": "625b6d95-a876-417d-b468-35569813c4d1",
   "metadata": {},
   "source": [
    "## Equality Operation\n",
    "\n",
    "#### 1. is\n",
    "#### 2. is not\n",
    "#### 3. ==\n",
    "#### 4. !="
   ]
  },
  {
   "cell_type": "code",
   "execution_count": 36,
   "id": "e5bb3720-f495-45fe-943e-7a1fda4d0588",
   "metadata": {},
   "outputs": [],
   "source": [
    "lst_a = [1,2,3,4]\n",
    "lst_b = [1,2,3,4]"
   ]
  },
  {
   "cell_type": "code",
   "execution_count": 37,
   "id": "ca20e966-847e-4220-97eb-7b3680dc4911",
   "metadata": {},
   "outputs": [
    {
     "name": "stdout",
     "output_type": "stream",
     "text": [
      "140454845494656\n",
      "140454855550592\n"
     ]
    }
   ],
   "source": [
    "#How to check memory address\n",
    "print(id(lst_a))\n",
    "print(id(lst_b))"
   ]
  },
  {
   "cell_type": "code",
   "execution_count": 38,
   "id": "b1773893-cec4-4d97-8a68-f763461c3bcf",
   "metadata": {},
   "outputs": [
    {
     "data": {
      "text/plain": [
       "False"
      ]
     },
     "execution_count": 38,
     "metadata": {},
     "output_type": "execute_result"
    }
   ],
   "source": [
    "lst_a is lst_b"
   ]
  },
  {
   "cell_type": "code",
   "execution_count": 39,
   "id": "55bebaf2-2e3e-440b-bdc4-1601d3ff35b3",
   "metadata": {},
   "outputs": [],
   "source": [
    "lst_a = lst_b"
   ]
  },
  {
   "cell_type": "code",
   "execution_count": 40,
   "id": "7b40a2d6-3d9d-4ee7-8206-ff7263355bfb",
   "metadata": {},
   "outputs": [
    {
     "name": "stdout",
     "output_type": "stream",
     "text": [
      "140454855550592\n",
      "140454855550592\n"
     ]
    }
   ],
   "source": [
    "print(id(lst_a))\n",
    "print(id(lst_b))"
   ]
  },
  {
   "cell_type": "code",
   "execution_count": 41,
   "id": "0fb15a80-dae9-4915-89d9-3486fcddae3c",
   "metadata": {},
   "outputs": [
    {
     "data": {
      "text/plain": [
       "True"
      ]
     },
     "execution_count": 41,
     "metadata": {},
     "output_type": "execute_result"
    }
   ],
   "source": [
    "lst_a is lst_b"
   ]
  },
  {
   "cell_type": "code",
   "execution_count": 3,
   "id": "8be6551e-8d95-418d-bd98-5731e9ab3145",
   "metadata": {},
   "outputs": [],
   "source": [
    "lst_a = [1,2,3,4]\n",
    "lst_b = [1,2,3,4]"
   ]
  },
  {
   "cell_type": "code",
   "execution_count": 45,
   "id": "7db72cc5-0e9b-4eea-a00b-b0337afbf57c",
   "metadata": {},
   "outputs": [
    {
     "data": {
      "text/plain": [
       "True"
      ]
     },
     "execution_count": 45,
     "metadata": {},
     "output_type": "execute_result"
    }
   ],
   "source": [
    "lst_a is not lst_b"
   ]
  },
  {
   "cell_type": "code",
   "execution_count": 46,
   "id": "b9c5f956-917c-412b-aefe-928672314a74",
   "metadata": {},
   "outputs": [
    {
     "data": {
      "text/plain": [
       "True"
      ]
     },
     "execution_count": 46,
     "metadata": {},
     "output_type": "execute_result"
    }
   ],
   "source": [
    "lst_a == lst_b"
   ]
  },
  {
   "cell_type": "code",
   "execution_count": 47,
   "id": "1892d57d-cd1a-4597-8292-3facf55288cf",
   "metadata": {},
   "outputs": [
    {
     "name": "stdout",
     "output_type": "stream",
     "text": [
      "140455338754320\n",
      "140455338754320\n"
     ]
    }
   ],
   "source": [
    "a = 2\n",
    "b = 2\n",
    "\n",
    "print(id(a))\n",
    "print(id(b))"
   ]
  },
  {
   "cell_type": "code",
   "execution_count": 49,
   "id": "23eb9bed-9c59-4c9d-b21a-fe530166ea47",
   "metadata": {},
   "outputs": [
    {
     "name": "stdout",
     "output_type": "stream",
     "text": [
      "140454855760368\n",
      "140454855760368\n"
     ]
    }
   ],
   "source": [
    "str1 = \"Anushka\"\n",
    "str2 = \"Anushka\"\n",
    "\n",
    "print(id(str1))\n",
    "print(id(str2))"
   ]
  },
  {
   "cell_type": "code",
   "execution_count": 9,
   "id": "a5ccfeab-1cb8-4886-b01d-5fce6e5386fd",
   "metadata": {},
   "outputs": [
    {
     "name": "stdout",
     "output_type": "stream",
     "text": [
      "140276979798192\n",
      "140276979810032\n"
     ]
    }
   ],
   "source": [
    "str1 = \"Anushka\"\n",
    "str2 = \"Anushka1\"\n",
    "\n",
    "print(id(str1))\n",
    "print(id(str2))"
   ]
  },
  {
   "cell_type": "code",
   "execution_count": null,
   "id": "9a9f3ab9-f9f4-4668-93a1-ad1086286fbb",
   "metadata": {},
   "outputs": [],
   "source": [
    "# Note - for integer variable and string variable the id's are same as the values are same"
   ]
  },
  {
   "cell_type": "markdown",
   "id": "b6f7f2e1-478c-4e65-b1bc-c405fa1fbf56",
   "metadata": {},
   "source": [
    "## Mutability"
   ]
  },
  {
   "cell_type": "code",
   "execution_count": 4,
   "id": "828ef17b-860d-4feb-b400-c3b56b53fc77",
   "metadata": {},
   "outputs": [
    {
     "data": {
      "text/plain": [
       "[1, 2, 3, 4]"
      ]
     },
     "execution_count": 4,
     "metadata": {},
     "output_type": "execute_result"
    }
   ],
   "source": [
    "lst_a"
   ]
  },
  {
   "cell_type": "code",
   "execution_count": 5,
   "id": "18b9e5c2-dcf7-4c8a-a04b-674c4dad0499",
   "metadata": {},
   "outputs": [
    {
     "data": {
      "text/plain": [
       "1"
      ]
     },
     "execution_count": 5,
     "metadata": {},
     "output_type": "execute_result"
    }
   ],
   "source": [
    "lst_a[0]"
   ]
  },
  {
   "cell_type": "code",
   "execution_count": 6,
   "id": "203fa013-ef30-422b-b296-edfff3402a02",
   "metadata": {},
   "outputs": [],
   "source": [
    "lst_a[0] = 10"
   ]
  },
  {
   "cell_type": "code",
   "execution_count": 7,
   "id": "018f6ed7-6bae-4595-866a-e69ddd9f3a85",
   "metadata": {},
   "outputs": [
    {
     "data": {
      "text/plain": [
       "[10, 2, 3, 4]"
      ]
     },
     "execution_count": 7,
     "metadata": {},
     "output_type": "execute_result"
    }
   ],
   "source": [
    "lst_a\n",
    "#List is Immutable"
   ]
  },
  {
   "cell_type": "code",
   "execution_count": 59,
   "id": "89b2c34b-8dd5-48b6-b0eb-d5fd19fae398",
   "metadata": {},
   "outputs": [
    {
     "data": {
      "text/plain": [
       "'Anushka'"
      ]
     },
     "execution_count": 59,
     "metadata": {},
     "output_type": "execute_result"
    }
   ],
   "source": [
    "str1"
   ]
  },
  {
   "cell_type": "code",
   "execution_count": 10,
   "id": "6f3883bd-f390-4829-9b6b-6d23144ef2f5",
   "metadata": {},
   "outputs": [
    {
     "data": {
      "text/plain": [
       "'A'"
      ]
     },
     "execution_count": 10,
     "metadata": {},
     "output_type": "execute_result"
    }
   ],
   "source": [
    "str1[0]"
   ]
  },
  {
   "cell_type": "code",
   "execution_count": 11,
   "id": "5b19e091-bcc3-49f9-8187-7f5e81bd31c1",
   "metadata": {},
   "outputs": [
    {
     "ename": "TypeError",
     "evalue": "'str' object does not support item assignment",
     "output_type": "error",
     "traceback": [
      "\u001b[0;31m---------------------------------------------------------------------------\u001b[0m",
      "\u001b[0;31mTypeError\u001b[0m                                 Traceback (most recent call last)",
      "Cell \u001b[0;32mIn[11], line 1\u001b[0m\n\u001b[0;32m----> 1\u001b[0m \u001b[43mstr1\u001b[49m\u001b[43m[\u001b[49m\u001b[38;5;241;43m0\u001b[39;49m\u001b[43m]\u001b[49m \u001b[38;5;241m=\u001b[39m \u001b[38;5;124m'\u001b[39m\u001b[38;5;124mM\u001b[39m\u001b[38;5;124m'\u001b[39m\n",
      "\u001b[0;31mTypeError\u001b[0m: 'str' object does not support item assignment"
     ]
    }
   ],
   "source": [
    "str1[0] = 'M'\n"
   ]
  },
  {
   "cell_type": "markdown",
   "id": "a0f1637b-4e0a-477c-bce3-2c9fba9db16d",
   "metadata": {},
   "source": [
    "#### String is Immutable\n",
    "####  List is Mutable"
   ]
  },
  {
   "cell_type": "markdown",
   "id": "3f5b9a37-ac87-4606-b4be-857625a7ee9d",
   "metadata": {},
   "source": [
    "## Comparison Operation\n",
    "\n",
    "#### 1: < (less than)\n",
    "#### 2: > (Greater than)\n",
    "#### 3: <= (Less than equal to)\n",
    "#### 4: >= (Greater than equal to)"
   ]
  },
  {
   "cell_type": "code",
   "execution_count": 13,
   "id": "9cf975d8-626d-4330-91ba-c4a27365703f",
   "metadata": {},
   "outputs": [
    {
     "name": "stdout",
     "output_type": "stream",
     "text": [
      "bike is faster than car: False\n"
     ]
    }
   ],
   "source": [
    "maximum_speed_of_bike =150\n",
    "maximum_speed_of_car =200\n",
    "\n",
    "print(f\"bike is faster than car: {maximum_speed_of_bike>maximum_speed_of_car}\")"
   ]
  },
  {
   "cell_type": "code",
   "execution_count": 14,
   "id": "e3bde4a8-3fd6-46e6-95d5-caa891481081",
   "metadata": {},
   "outputs": [
    {
     "name": "stdout",
     "output_type": "stream",
     "text": [
      "bike is faster than car: True\n"
     ]
    }
   ],
   "source": [
    "maximum_speed_of_bike =150\n",
    "maximum_speed_of_car =200\n",
    "\n",
    "print(f\"bike is faster than car: {maximum_speed_of_bike<maximum_speed_of_car}\")"
   ]
  },
  {
   "cell_type": "code",
   "execution_count": 15,
   "id": "02c4f670-f750-4b05-82a7-5fc58f1105c1",
   "metadata": {},
   "outputs": [
    {
     "name": "stdout",
     "output_type": "stream",
     "text": [
      "bike is faster than car: True\n"
     ]
    }
   ],
   "source": [
    "maximum_speed_of_bike =150\n",
    "maximum_speed_of_car =200\n",
    "\n",
    "print(f\"bike is faster than car: {maximum_speed_of_bike<=maximum_speed_of_car}\")"
   ]
  },
  {
   "cell_type": "markdown",
   "id": "e209703a-45b4-442f-9b44-bf9bd80ef1a1",
   "metadata": {},
   "source": [
    "## Arithmetic Operators\n",
    "\n",
    "#### 1. + (Addition)\n",
    "#### 2. - (Substraction)\n",
    "#### 3. * (Multiplication)\n",
    "#### 4. / (true division)\n",
    "#### 5. // (Integer division)\n",
    "#### 6. % (Modulo division)"
   ]
  },
  {
   "cell_type": "code",
   "execution_count": 18,
   "id": "eabeec26-20f7-4133-b2d1-3f34a234ec4c",
   "metadata": {},
   "outputs": [],
   "source": [
    "a=25\n",
    "b=101"
   ]
  },
  {
   "cell_type": "code",
   "execution_count": 19,
   "id": "a4870459-388a-4e97-976e-6006b9790b48",
   "metadata": {},
   "outputs": [
    {
     "data": {
      "text/plain": [
       "126"
      ]
     },
     "execution_count": 19,
     "metadata": {},
     "output_type": "execute_result"
    }
   ],
   "source": [
    "a+b"
   ]
  },
  {
   "cell_type": "code",
   "execution_count": 20,
   "id": "75f79c3b-61d5-4853-945b-5303b2cf0207",
   "metadata": {},
   "outputs": [
    {
     "data": {
      "text/plain": [
       "2525"
      ]
     },
     "execution_count": 20,
     "metadata": {},
     "output_type": "execute_result"
    }
   ],
   "source": [
    "a*b"
   ]
  },
  {
   "cell_type": "code",
   "execution_count": 21,
   "id": "4243e203-25e4-4aa9-b390-ca9df7472f64",
   "metadata": {},
   "outputs": [
    {
     "data": {
      "text/plain": [
       "0.24752475247524752"
      ]
     },
     "execution_count": 21,
     "metadata": {},
     "output_type": "execute_result"
    }
   ],
   "source": [
    "a/b"
   ]
  },
  {
   "cell_type": "code",
   "execution_count": 22,
   "id": "9bdf735d-e5f7-4d2c-a597-0faefa290336",
   "metadata": {},
   "outputs": [
    {
     "data": {
      "text/plain": [
       "0"
      ]
     },
     "execution_count": 22,
     "metadata": {},
     "output_type": "execute_result"
    }
   ],
   "source": [
    "a//b #(it will neglect the before decimal value)"
   ]
  },
  {
   "cell_type": "code",
   "execution_count": 23,
   "id": "b641b8b5-79e1-4851-ad24-285893b5c09d",
   "metadata": {},
   "outputs": [
    {
     "data": {
      "text/plain": [
       "25"
      ]
     },
     "execution_count": 23,
     "metadata": {},
     "output_type": "execute_result"
    }
   ],
   "source": [
    "a%b #(finds remainder)"
   ]
  },
  {
   "cell_type": "markdown",
   "id": "971ea747-97a0-4fc9-adb9-1d4c55245f2e",
   "metadata": {},
   "source": [
    "## Bitwise Operators\n",
    "\n",
    "#### 1.~ bitwise  compliment (prefix unary operator) \n",
    "#### 2.& bitwise  and\n",
    "#### 3.| bitwise  or\n",
    "#### 4.^ bitwise  exclusive-or\n",
    "#### 5.<< shifts bits left, filling in with zeroes\n",
    "#### 6.>> shifts bits right, filling in with sign bit\n"
   ]
  },
  {
   "cell_type": "code",
   "execution_count": 25,
   "id": "d014c218-11d1-4495-add8-3b630eb17e7e",
   "metadata": {},
   "outputs": [
    {
     "data": {
      "text/plain": [
       "'0b1010'"
      ]
     },
     "execution_count": 25,
     "metadata": {},
     "output_type": "execute_result"
    }
   ],
   "source": [
    "var = 10\n",
    "bin(var)\n",
    "#Ob represents binary"
   ]
  },
  {
   "cell_type": "markdown",
   "id": "f2d8f569-970c-4301-8793-1c936941d024",
   "metadata": {},
   "source": [
    "## Strings"
   ]
  },
  {
   "cell_type": "code",
   "execution_count": 27,
   "id": "37019725-d13e-4116-8d7c-6878d54af236",
   "metadata": {},
   "outputs": [
    {
     "data": {
      "text/plain": [
       "'Welcome to the PG course'"
      ]
     },
     "execution_count": 27,
     "metadata": {},
     "output_type": "execute_result"
    }
   ],
   "source": [
    "'Anushka'\n",
    "\"Welcome to the PG course\""
   ]
  },
  {
   "cell_type": "code",
   "execution_count": 29,
   "id": "83216674-b676-45c1-a845-fdf869df7015",
   "metadata": {},
   "outputs": [],
   "source": [
    "str1 = \"Welcome to the PG course\""
   ]
  },
  {
   "cell_type": "code",
   "execution_count": 30,
   "id": "6f4ba1e7-0a71-4816-a793-5cee94cc5fa1",
   "metadata": {},
   "outputs": [
    {
     "data": {
      "text/plain": [
       "str"
      ]
     },
     "execution_count": 30,
     "metadata": {},
     "output_type": "execute_result"
    }
   ],
   "source": [
    "type(str1)"
   ]
  },
  {
   "cell_type": "code",
   "execution_count": 32,
   "id": "03ea3223-8387-41d7-8643-1642d1f2b37a",
   "metadata": {},
   "outputs": [
    {
     "data": {
      "text/plain": [
       "'W'"
      ]
     },
     "execution_count": 32,
     "metadata": {},
     "output_type": "execute_result"
    }
   ],
   "source": [
    "str1[0]"
   ]
  },
  {
   "cell_type": "code",
   "execution_count": 33,
   "id": "37ccf189-25df-4310-b5c8-4ea03003f4e9",
   "metadata": {},
   "outputs": [
    {
     "ename": "TypeError",
     "evalue": "'str' object does not support item assignment",
     "output_type": "error",
     "traceback": [
      "\u001b[0;31m---------------------------------------------------------------------------\u001b[0m",
      "\u001b[0;31mTypeError\u001b[0m                                 Traceback (most recent call last)",
      "Cell \u001b[0;32mIn[33], line 1\u001b[0m\n\u001b[0;32m----> 1\u001b[0m \u001b[43mstr1\u001b[49m\u001b[43m[\u001b[49m\u001b[38;5;241;43m0\u001b[39;49m\u001b[43m]\u001b[49m \u001b[38;5;241m=\u001b[39m \u001b[38;5;124m'\u001b[39m\u001b[38;5;124mH\u001b[39m\u001b[38;5;124m'\u001b[39m\n",
      "\u001b[0;31mTypeError\u001b[0m: 'str' object does not support item assignment"
     ]
    }
   ],
   "source": [
    "str1[0] = 'H'\n",
    "# Immutable"
   ]
  },
  {
   "cell_type": "code",
   "execution_count": 34,
   "id": "22ae4f21-c221-47b9-86bb-1382769e4e31",
   "metadata": {},
   "outputs": [],
   "source": [
    "# We can replace the whole string\n",
    "str1 = 'krish naik'"
   ]
  },
  {
   "cell_type": "code",
   "execution_count": 35,
   "id": "b3d9651e-e2b7-4dfb-ba25-273ea7078594",
   "metadata": {},
   "outputs": [
    {
     "data": {
      "text/plain": [
       "'krish naik'"
      ]
     },
     "execution_count": 35,
     "metadata": {},
     "output_type": "execute_result"
    }
   ],
   "source": [
    "str1"
   ]
  },
  {
   "cell_type": "code",
   "execution_count": 36,
   "id": "311d07bc-5bbc-42a4-a9dd-b2b048bda45f",
   "metadata": {},
   "outputs": [],
   "source": [
    "#str1.\n",
    "#str1.tab(writing . & adding tab) will give us a list of all the inbuilt string function\n",
    "#dir(str1) - directory"
   ]
  },
  {
   "cell_type": "code",
   "execution_count": 37,
   "id": "6badf3c7-4838-4257-9347-a8c158ba4b06",
   "metadata": {},
   "outputs": [
    {
     "data": {
      "text/plain": [
       "['__add__',\n",
       " '__class__',\n",
       " '__contains__',\n",
       " '__delattr__',\n",
       " '__dir__',\n",
       " '__doc__',\n",
       " '__eq__',\n",
       " '__format__',\n",
       " '__ge__',\n",
       " '__getattribute__',\n",
       " '__getitem__',\n",
       " '__getnewargs__',\n",
       " '__gt__',\n",
       " '__hash__',\n",
       " '__init__',\n",
       " '__init_subclass__',\n",
       " '__iter__',\n",
       " '__le__',\n",
       " '__len__',\n",
       " '__lt__',\n",
       " '__mod__',\n",
       " '__mul__',\n",
       " '__ne__',\n",
       " '__new__',\n",
       " '__reduce__',\n",
       " '__reduce_ex__',\n",
       " '__repr__',\n",
       " '__rmod__',\n",
       " '__rmul__',\n",
       " '__setattr__',\n",
       " '__sizeof__',\n",
       " '__str__',\n",
       " '__subclasshook__',\n",
       " 'capitalize',\n",
       " 'casefold',\n",
       " 'center',\n",
       " 'count',\n",
       " 'encode',\n",
       " 'endswith',\n",
       " 'expandtabs',\n",
       " 'find',\n",
       " 'format',\n",
       " 'format_map',\n",
       " 'index',\n",
       " 'isalnum',\n",
       " 'isalpha',\n",
       " 'isascii',\n",
       " 'isdecimal',\n",
       " 'isdigit',\n",
       " 'isidentifier',\n",
       " 'islower',\n",
       " 'isnumeric',\n",
       " 'isprintable',\n",
       " 'isspace',\n",
       " 'istitle',\n",
       " 'isupper',\n",
       " 'join',\n",
       " 'ljust',\n",
       " 'lower',\n",
       " 'lstrip',\n",
       " 'maketrans',\n",
       " 'partition',\n",
       " 'removeprefix',\n",
       " 'removesuffix',\n",
       " 'replace',\n",
       " 'rfind',\n",
       " 'rindex',\n",
       " 'rjust',\n",
       " 'rpartition',\n",
       " 'rsplit',\n",
       " 'rstrip',\n",
       " 'split',\n",
       " 'splitlines',\n",
       " 'startswith',\n",
       " 'strip',\n",
       " 'swapcase',\n",
       " 'title',\n",
       " 'translate',\n",
       " 'upper',\n",
       " 'zfill']"
      ]
     },
     "execution_count": 37,
     "metadata": {},
     "output_type": "execute_result"
    }
   ],
   "source": [
    "dir(str1)"
   ]
  },
  {
   "cell_type": "code",
   "execution_count": 38,
   "id": "73543f6c-25d0-4698-8668-2bc8c03e2659",
   "metadata": {},
   "outputs": [
    {
     "data": {
      "text/plain": [
       "'i'"
      ]
     },
     "execution_count": 38,
     "metadata": {},
     "output_type": "execute_result"
    }
   ],
   "source": [
    "string = \"Pw Skills Data Science\"\n",
    "string[5]"
   ]
  },
  {
   "cell_type": "code",
   "execution_count": 39,
   "id": "c94c7ab4-dc72-421f-8659-0201e9c9cf47",
   "metadata": {},
   "outputs": [
    {
     "data": {
      "text/plain": [
       "'ills Data Science'"
      ]
     },
     "execution_count": 39,
     "metadata": {},
     "output_type": "execute_result"
    }
   ],
   "source": [
    "#Slice Operation\n",
    "string[5:]"
   ]
  },
  {
   "cell_type": "code",
   "execution_count": 40,
   "id": "f89c6316-e7a4-4614-94ff-bb8d5fdc850a",
   "metadata": {},
   "outputs": [
    {
     "data": {
      "text/plain": [
       "'ills D'"
      ]
     },
     "execution_count": 40,
     "metadata": {},
     "output_type": "execute_result"
    }
   ],
   "source": [
    "string[5:11]"
   ]
  },
  {
   "cell_type": "code",
   "execution_count": 43,
   "id": "edfb08b2-3186-4f19-ab0a-b38b1b78fb85",
   "metadata": {},
   "outputs": [
    {
     "data": {
      "text/plain": [
       "'e'"
      ]
     },
     "execution_count": 43,
     "metadata": {},
     "output_type": "execute_result"
    }
   ],
   "source": [
    "string[-1] #Last element is taken from the sring"
   ]
  },
  {
   "cell_type": "code",
   "execution_count": 44,
   "id": "55ff8c02-7cea-47e4-a30c-d768cc1d5c63",
   "metadata": {},
   "outputs": [
    {
     "data": {
      "text/plain": [
       "'c'"
      ]
     },
     "execution_count": 44,
     "metadata": {},
     "output_type": "execute_result"
    }
   ],
   "source": [
    "string[-2]"
   ]
  },
  {
   "cell_type": "code",
   "execution_count": 45,
   "id": "7a717060-51b9-405f-a980-4341ed4c92aa",
   "metadata": {},
   "outputs": [
    {
     "data": {
      "text/plain": [
       "'e'"
      ]
     },
     "execution_count": 45,
     "metadata": {},
     "output_type": "execute_result"
    }
   ],
   "source": [
    "string[-1:] #Here we don't have any data after e,so its just e"
   ]
  },
  {
   "cell_type": "code",
   "execution_count": 46,
   "id": "8007c9a8-0d2b-43a9-ad68-87385c0cf767",
   "metadata": {},
   "outputs": [
    {
     "data": {
      "text/plain": [
       "'n'"
      ]
     },
     "execution_count": 46,
     "metadata": {},
     "output_type": "execute_result"
    }
   ],
   "source": [
    "string[-3]"
   ]
  },
  {
   "cell_type": "code",
   "execution_count": 47,
   "id": "144134f5-ca49-4e97-b9ec-9796f32e786a",
   "metadata": {},
   "outputs": [
    {
     "data": {
      "text/plain": [
       "'Scie'"
      ]
     },
     "execution_count": 47,
     "metadata": {},
     "output_type": "execute_result"
    }
   ],
   "source": [
    "string[-7:-3]"
   ]
  },
  {
   "cell_type": "code",
   "execution_count": 48,
   "id": "1a806eaa-ef14-47a7-9709-6d3c0c37827d",
   "metadata": {},
   "outputs": [
    {
     "data": {
      "text/plain": [
       "''"
      ]
     },
     "execution_count": 48,
     "metadata": {},
     "output_type": "execute_result"
    }
   ],
   "source": [
    "string[-7:3] # Here the O/p is null because the first is given from back side and the second value is given from front side"
   ]
  },
  {
   "cell_type": "code",
   "execution_count": 49,
   "id": "ffcce4d2-277f-429f-9598-9a62aec8e90d",
   "metadata": {},
   "outputs": [
    {
     "data": {
      "text/plain": [
       "''"
      ]
     },
     "execution_count": 49,
     "metadata": {},
     "output_type": "execute_result"
    }
   ],
   "source": [
    "string[7:5]"
   ]
  },
  {
   "cell_type": "code",
   "execution_count": 50,
   "id": "67dd7eb4-c850-4c1c-9144-b41a60884488",
   "metadata": {},
   "outputs": [
    {
     "data": {
      "text/plain": [
       "''"
      ]
     },
     "execution_count": 50,
     "metadata": {},
     "output_type": "execute_result"
    }
   ],
   "source": [
    "string[-10:10]"
   ]
  },
  {
   "cell_type": "code",
   "execution_count": 51,
   "id": "f8369e60-2e2a-43dc-a161-74e1bf7a96cf",
   "metadata": {},
   "outputs": [
    {
     "data": {
      "text/plain": [
       "'Pw Skills Data Scienc'"
      ]
     },
     "execution_count": 51,
     "metadata": {},
     "output_type": "execute_result"
    }
   ],
   "source": [
    "string[:-1]"
   ]
  },
  {
   "cell_type": "code",
   "execution_count": 52,
   "id": "ccdc59ef-b2c6-4bfb-9c27-20873f6332bc",
   "metadata": {},
   "outputs": [
    {
     "data": {
      "text/plain": [
       "'rt'"
      ]
     },
     "execution_count": 52,
     "metadata": {},
     "output_type": "execute_result"
    }
   ],
   "source": [
    "name = \"Karthik\"\n",
    "name[-5:4]"
   ]
  },
  {
   "cell_type": "code",
   "execution_count": 53,
   "id": "a6140f55-8fa9-4732-ad59-609f8b7d1a63",
   "metadata": {},
   "outputs": [
    {
     "data": {
      "text/plain": [
       "'ecneicS ataD sllikS wP'"
      ]
     },
     "execution_count": 53,
     "metadata": {},
     "output_type": "execute_result"
    }
   ],
   "source": [
    "#Reverse the String\n",
    "string[::-1]"
   ]
  },
  {
   "cell_type": "code",
   "execution_count": 54,
   "id": "e7838925-cfb3-4367-bc6c-96b5a9486559",
   "metadata": {},
   "outputs": [
    {
     "data": {
      "text/plain": [
       "'eniSaa liSw'"
      ]
     },
     "execution_count": 54,
     "metadata": {},
     "output_type": "execute_result"
    }
   ],
   "source": [
    "string[::-2] \n",
    "#Step size of two"
   ]
  },
  {
   "cell_type": "code",
   "execution_count": 55,
   "id": "249b269c-2d34-4797-a327-68def87194a6",
   "metadata": {},
   "outputs": [
    {
     "data": {
      "text/plain": [
       "''"
      ]
     },
     "execution_count": 55,
     "metadata": {},
     "output_type": "execute_result"
    }
   ],
   "source": [
    "string[0:5:-1] \n"
   ]
  },
  {
   "cell_type": "code",
   "execution_count": 2,
   "id": "c10c936f-9004-4dcc-ada5-67b0a19cc70a",
   "metadata": {},
   "outputs": [
    {
     "data": {
      "text/plain": [
       "'likS wP'"
      ]
     },
     "execution_count": 2,
     "metadata": {},
     "output_type": "execute_result"
    }
   ],
   "source": [
    "string = \"Pw Skills Data Science\"\n",
    "string[6::-1] \n"
   ]
  },
  {
   "cell_type": "code",
   "execution_count": 65,
   "id": "f1ecba5c-fcbe-45a2-87dd-a03abb9ecc7c",
   "metadata": {},
   "outputs": [
    {
     "data": {
      "text/plain": [
       "'lik'"
      ]
     },
     "execution_count": 65,
     "metadata": {},
     "output_type": "execute_result"
    }
   ],
   "source": [
    "string[6:3:-1] "
   ]
  },
  {
   "cell_type": "code",
   "execution_count": 3,
   "id": "9d755a7e-cba1-4702-a29b-662627ecb1d2",
   "metadata": {},
   "outputs": [
    {
     "data": {
      "text/plain": [
       "'eeSt lSP'"
      ]
     },
     "execution_count": 3,
     "metadata": {},
     "output_type": "execute_result"
    }
   ],
   "source": [
    "string[::-3] "
   ]
  },
  {
   "cell_type": "code",
   "execution_count": 4,
   "id": "b46fd2f8-d2e9-400a-a12a-2edab3e278ef",
   "metadata": {},
   "outputs": [
    {
     "data": {
      "text/plain": [
       "'Pw Skills Data Science'"
      ]
     },
     "execution_count": 4,
     "metadata": {},
     "output_type": "execute_result"
    }
   ],
   "source": [
    "string[::1] \n",
    "#From forward it will take every 1st element"
   ]
  },
  {
   "cell_type": "code",
   "execution_count": 5,
   "id": "05635613-8aa8-47de-aed3-9f31ec706fa1",
   "metadata": {},
   "outputs": [
    {
     "data": {
      "text/plain": [
       "'PiDSc'"
      ]
     },
     "execution_count": 5,
     "metadata": {},
     "output_type": "execute_result"
    }
   ],
   "source": [
    "string[::5] "
   ]
  },
  {
   "cell_type": "code",
   "execution_count": 8,
   "id": "b20414ad-89b6-4d0a-970b-e68a65154bbe",
   "metadata": {},
   "outputs": [
    {
     "data": {
      "text/plain": [
       "'akhsunA'"
      ]
     },
     "execution_count": 8,
     "metadata": {},
     "output_type": "execute_result"
    }
   ],
   "source": [
    "string_new='Anushka'\n",
    "string_new[::-1]"
   ]
  },
  {
   "cell_type": "code",
   "execution_count": 9,
   "id": "9d8f66b7-4b90-4e78-a165-a7a392e1e31e",
   "metadata": {},
   "outputs": [
    {
     "data": {
      "text/plain": [
       "'ahuA'"
      ]
     },
     "execution_count": 9,
     "metadata": {},
     "output_type": "execute_result"
    }
   ],
   "source": [
    "string_new[::-2]"
   ]
  },
  {
   "cell_type": "code",
   "execution_count": 10,
   "id": "b7b1ad29-83b0-47fc-a5e7-becfdbd4850a",
   "metadata": {},
   "outputs": [
    {
     "data": {
      "text/plain": [
       "'s'"
      ]
     },
     "execution_count": 10,
     "metadata": {},
     "output_type": "execute_result"
    }
   ],
   "source": [
    "string_new[3:1:-2]"
   ]
  },
  {
   "cell_type": "code",
   "execution_count": 12,
   "id": "d3d918c4-8568-46c1-84ec-823231d71c99",
   "metadata": {},
   "outputs": [
    {
     "data": {
      "text/plain": [
       "'su'"
      ]
     },
     "execution_count": 12,
     "metadata": {},
     "output_type": "execute_result"
    }
   ],
   "source": [
    "string_new[3:1:-1]"
   ]
  },
  {
   "cell_type": "code",
   "execution_count": 17,
   "id": "ab564977-3041-4a58-b6f3-d5efd8bd9ca8",
   "metadata": {},
   "outputs": [
    {
     "data": {
      "text/plain": [
       "'Science'"
      ]
     },
     "execution_count": 17,
     "metadata": {},
     "output_type": "execute_result"
    }
   ],
   "source": [
    "course_name = \"Data Science Masters\"\n",
    "course_name[5:12]"
   ]
  },
  {
   "cell_type": "code",
   "execution_count": 36,
   "id": "1f7273a1-e40d-4c7c-8969-e701c49a2c44",
   "metadata": {},
   "outputs": [
    {
     "data": {
      "text/plain": [
       "'ecneicS'"
      ]
     },
     "execution_count": 36,
     "metadata": {},
     "output_type": "execute_result"
    }
   ],
   "source": [
    "course_name[11:4:-1]\n",
    "# Count from front and to revert add a negative number"
   ]
  },
  {
   "cell_type": "code",
   "execution_count": null,
   "id": "2dfaaf3f-0e6c-470c-be97-c82baeb55e48",
   "metadata": {},
   "outputs": [],
   "source": [
    "course_name[11:4:1]\n",
    "# this is null as we are moving from forward, so 11 will come after 4\n",
    "#correct\n",
    "course_name[4:11:1]"
   ]
  },
  {
   "cell_type": "code",
   "execution_count": 37,
   "id": "85200cfe-fe71-42b3-b657-f0ce6b4eb2b0",
   "metadata": {},
   "outputs": [
    {
     "data": {
      "text/plain": [
       "'Data Science MastersCourse'"
      ]
     },
     "execution_count": 37,
     "metadata": {},
     "output_type": "execute_result"
    }
   ],
   "source": [
    "#concatenation\n",
    "course_name + \"Course\""
   ]
  },
  {
   "cell_type": "code",
   "execution_count": 42,
   "id": "b975fa46-2400-4270-b325-bb7ad4b5a26e",
   "metadata": {},
   "outputs": [
    {
     "name": "stdout",
     "output_type": "stream",
     "text": [
      "helloworld\n"
     ]
    }
   ],
   "source": [
    "print(\"hello\"+\"world\")"
   ]
  },
  {
   "cell_type": "code",
   "execution_count": 43,
   "id": "c33ce5d6-009b-4ecf-a5fa-a7a5adde49d9",
   "metadata": {},
   "outputs": [
    {
     "data": {
      "text/plain": [
       "'Data Science MastersData Science MastersData Science MastersData Science MastersData Science Masters'"
      ]
     },
     "execution_count": 43,
     "metadata": {},
     "output_type": "execute_result"
    }
   ],
   "source": [
    "course_name*5"
   ]
  },
  {
   "cell_type": "code",
   "execution_count": 45,
   "id": "8e3f795f-7ec5-49e0-8c22-5dd21588356a",
   "metadata": {},
   "outputs": [
    {
     "data": {
      "text/plain": [
       "20"
      ]
     },
     "execution_count": 45,
     "metadata": {},
     "output_type": "execute_result"
    }
   ],
   "source": [
    "len(course_name)\n",
    "#To find length of string including spaces"
   ]
  },
  {
   "cell_type": "code",
   "execution_count": 47,
   "id": "becd2238-0148-41dd-a2de-e36cadfd77ee",
   "metadata": {},
   "outputs": [
    {
     "data": {
      "text/plain": [
       "9"
      ]
     },
     "execution_count": 47,
     "metadata": {},
     "output_type": "execute_result"
    }
   ],
   "source": [
    "course_name.find('n')"
   ]
  },
  {
   "cell_type": "code",
   "execution_count": 48,
   "id": "6dc015b7-5101-4c64-b1e4-ed456f7aa6b9",
   "metadata": {},
   "outputs": [
    {
     "data": {
      "text/plain": [
       "9"
      ]
     },
     "execution_count": 48,
     "metadata": {},
     "output_type": "execute_result"
    }
   ],
   "source": [
    "course_name.find('n',2,10)\n",
    "#giving slicing value"
   ]
  },
  {
   "cell_type": "code",
   "execution_count": 49,
   "id": "d8bc8cbd-47a3-47bc-946a-e3f6c0159e14",
   "metadata": {},
   "outputs": [
    {
     "data": {
      "text/plain": [
       "-1"
      ]
     },
     "execution_count": 49,
     "metadata": {},
     "output_type": "execute_result"
    }
   ],
   "source": [
    "course_name.find('z')\n",
    "# because we don't have z in string"
   ]
  },
  {
   "cell_type": "code",
   "execution_count": 50,
   "id": "b933a175-78d4-4a8a-911f-1cf45a85fa83",
   "metadata": {},
   "outputs": [
    {
     "data": {
      "text/plain": [
       "21"
      ]
     },
     "execution_count": 50,
     "metadata": {},
     "output_type": "execute_result"
    }
   ],
   "source": [
    "course_name.count('')\n",
    "#count function\n",
    "#Unique count of elements\n",
    "#Include the space in start and before single quote"
   ]
  },
  {
   "cell_type": "code",
   "execution_count": 51,
   "id": "a3e343af-a1de-4f90-bff6-7f83363ed0ed",
   "metadata": {},
   "outputs": [
    {
     "data": {
      "text/plain": [
       "3"
      ]
     },
     "execution_count": 51,
     "metadata": {},
     "output_type": "execute_result"
    }
   ],
   "source": [
    "course_name.count('a')\n"
   ]
  },
  {
   "cell_type": "code",
   "execution_count": 52,
   "id": "2fd15c8b-d06f-4e97-a0c6-e72bc24931e5",
   "metadata": {},
   "outputs": [
    {
     "data": {
      "text/plain": [
       "2"
      ]
     },
     "execution_count": 52,
     "metadata": {},
     "output_type": "execute_result"
    }
   ],
   "source": [
    "course_name.count(' ')\n"
   ]
  },
  {
   "cell_type": "code",
   "execution_count": 53,
   "id": "06c40c53-34dc-42a1-97b8-39b494c5969f",
   "metadata": {},
   "outputs": [
    {
     "data": {
      "text/plain": [
       "1"
      ]
     },
     "execution_count": 53,
     "metadata": {},
     "output_type": "execute_result"
    }
   ],
   "source": [
    "course_name.count(' ',2,10)\n",
    "# Using Slicing"
   ]
  },
  {
   "cell_type": "code",
   "execution_count": 54,
   "id": "dbfbc33e-f33f-44e5-98d0-497adc9063b0",
   "metadata": {},
   "outputs": [],
   "source": [
    "#String Split"
   ]
  },
  {
   "cell_type": "code",
   "execution_count": 55,
   "id": "f5d2223c-98ef-4049-9b56-c5e537724422",
   "metadata": {},
   "outputs": [
    {
     "data": {
      "text/plain": [
       "['Data', 'Science', 'Masters']"
      ]
     },
     "execution_count": 55,
     "metadata": {},
     "output_type": "execute_result"
    }
   ],
   "source": [
    "course_name.split(' ')"
   ]
  },
  {
   "cell_type": "code",
   "execution_count": 56,
   "id": "ba8bf85b-9402-4937-9aa5-9f29af2c55f2",
   "metadata": {},
   "outputs": [
    {
     "data": {
      "text/plain": [
       "['Data ', 'cience Masters']"
      ]
     },
     "execution_count": 56,
     "metadata": {},
     "output_type": "execute_result"
    }
   ],
   "source": [
    "course_name.split('S')"
   ]
  },
  {
   "cell_type": "code",
   "execution_count": 57,
   "id": "631d3bed-2ff2-443c-88a1-1b66b0118497",
   "metadata": {},
   "outputs": [
    {
     "data": {
      "text/plain": [
       "('Data ', 'S', 'cience Masters')"
      ]
     },
     "execution_count": 57,
     "metadata": {},
     "output_type": "execute_result"
    }
   ],
   "source": [
    "course_name.partition('S')"
   ]
  },
  {
   "cell_type": "code",
   "execution_count": 58,
   "id": "50cc376c-c1f7-446b-89a3-5b1a2c140cf4",
   "metadata": {},
   "outputs": [
    {
     "data": {
      "text/plain": [
       "('Data Science Ma', 's', 'ters')"
      ]
     },
     "execution_count": 58,
     "metadata": {},
     "output_type": "execute_result"
    }
   ],
   "source": [
    "course_name.partition('s')"
   ]
  },
  {
   "cell_type": "code",
   "execution_count": 61,
   "id": "943b4983-2465-4880-9ed1-35214292bbf2",
   "metadata": {},
   "outputs": [
    {
     "data": {
      "text/plain": [
       "'DATA SCIENCE MASTERS'"
      ]
     },
     "execution_count": 61,
     "metadata": {},
     "output_type": "execute_result"
    }
   ],
   "source": [
    "#String Upper and lowercase\n",
    "course_name.upper()"
   ]
  },
  {
   "cell_type": "code",
   "execution_count": 62,
   "id": "51e55cb6-98ed-42c7-a085-8034cf27bd20",
   "metadata": {},
   "outputs": [
    {
     "data": {
      "text/plain": [
       "'data science masters'"
      ]
     },
     "execution_count": 62,
     "metadata": {},
     "output_type": "execute_result"
    }
   ],
   "source": [
    "course_name.lower()"
   ]
  },
  {
   "cell_type": "code",
   "execution_count": 63,
   "id": "fc042a9b-ae8d-4402-9e03-a6fd31f2f361",
   "metadata": {},
   "outputs": [
    {
     "data": {
      "text/plain": [
       "'dATA sCIENCE mASTERS'"
      ]
     },
     "execution_count": 63,
     "metadata": {},
     "output_type": "execute_result"
    }
   ],
   "source": [
    "#Swapcase\n",
    "course_name.swapcase()"
   ]
  },
  {
   "cell_type": "code",
   "execution_count": 64,
   "id": "d1add383-aa29-4d15-b355-7b08df46bbcf",
   "metadata": {},
   "outputs": [
    {
     "data": {
      "text/plain": [
       "'Data Science Masters'"
      ]
     },
     "execution_count": 64,
     "metadata": {},
     "output_type": "execute_result"
    }
   ],
   "source": [
    "#Title\n",
    "course_name.title()"
   ]
  },
  {
   "cell_type": "code",
   "execution_count": 65,
   "id": "33fb382b-7004-4111-b501-698f95ca1203",
   "metadata": {},
   "outputs": [
    {
     "data": {
      "text/plain": [
       "[['Data', 'Science', 'Masters']]"
      ]
     },
     "execution_count": 65,
     "metadata": {},
     "output_type": "execute_result"
    }
   ],
   "source": [
    "#Splitting value and storing in a list\n",
    "[course_name.split(' ')]"
   ]
  },
  {
   "cell_type": "code",
   "execution_count": 69,
   "id": "a6cfe634-51cf-415f-ab5a-df5d2a4fd82c",
   "metadata": {},
   "outputs": [
    {
     "data": {
      "text/plain": [
       "1"
      ]
     },
     "execution_count": 69,
     "metadata": {},
     "output_type": "execute_result"
    }
   ],
   "source": [
    "#Can use multiple inbuilt functions\n",
    "course_name.upper().count('N')"
   ]
  },
  {
   "cell_type": "code",
   "execution_count": 75,
   "id": "bbf70105-c839-4e20-a18b-04808b06d43e",
   "metadata": {},
   "outputs": [
    {
     "name": "stdout",
     "output_type": "stream",
     "text": [
      "e c n e i c S   a t a D   s l l i k S   w P\n"
     ]
    }
   ],
   "source": [
    "print(' '.join(reversed(string)))"
   ]
  },
  {
   "cell_type": "code",
   "execution_count": null,
   "id": "d04922be-7c9b-4d1c-9116-e4a4aef0a30d",
   "metadata": {},
   "outputs": [],
   "source": []
  }
 ],
 "metadata": {
  "kernelspec": {
   "display_name": "Python 3 (ipykernel)",
   "language": "python",
   "name": "python3"
  },
  "language_info": {
   "codemirror_mode": {
    "name": "ipython",
    "version": 3
   },
   "file_extension": ".py",
   "mimetype": "text/x-python",
   "name": "python",
   "nbconvert_exporter": "python",
   "pygments_lexer": "ipython3",
   "version": "3.10.8"
  }
 },
 "nbformat": 4,
 "nbformat_minor": 5
}
